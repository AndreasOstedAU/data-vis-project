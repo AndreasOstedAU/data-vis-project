{
 "cells": [
  {
   "cell_type": "code",
   "execution_count": 773,
   "metadata": {},
   "outputs": [],
   "source": [
    "import numpy as np\n",
    "import pandas as pd\n",
    "import plotly.graph_objects as go\n",
    "import dash\n",
    "from dash import dcc, html, Dash, State, ctx\n",
    "from dash.dependencies import Input, Output\n",
    "import plotly.graph_objects as go\n",
    "import plotly.express as px\n",
    "from dash.exceptions import PreventUpdate\n",
    "import dash_bootstrap_components as dbc\n",
    "\n",
    "from dash.exceptions import PreventUpdate\n",
    "\n",
    "\n",
    "mapbox_token = 'pk.eyJ1IjoiYW5kcmVhc29zdGVkIiwiYSI6ImNsbmJxMjFndDA4dm8ybXJrMzhia2NqdnoifQ.fXDNIJ1LelhA1ypNiaJE9w'"
   ]
  },
  {
   "cell_type": "markdown",
   "metadata": {},
   "source": [
    "Data wrangling"
   ]
  },
  {
   "cell_type": "code",
   "execution_count": 774,
   "metadata": {},
   "outputs": [],
   "source": [
    "df = pd.read_csv('Data/homicide_data.csv')\n",
    "citydata = pd.read_csv('Data/us-cities-top-1k.csv')\n",
    "statedata = pd.read_csv('Data/states.csv')"
   ]
  },
  {
   "cell_type": "code",
   "execution_count": 775,
   "metadata": {},
   "outputs": [],
   "source": [
    "citydata=pd.merge(citydata, statedata, on = \"State\", how = \"left\")\n",
    "df['victim_full_name'] = df['victim_first'] +  ' ' + df['victim_last']\n",
    "\n",
    "df = df.sort_values('city')\n",
    "\n",
    "df['reported_date'] = pd.to_datetime(df['reported_date'], format='%Y%m%d')\n",
    "\n",
    "# Extract month from date and convert to string\n",
    "df['month'] = df['reported_date'].dt.strftime('%Y-%m')\n",
    "df['quarter'] = df['reported_date'].dt.to_period('Q').dt.strftime('%Y-Q%q')\n",
    "\n",
    "df['year'] = df['reported_date'].dt.strftime('%y')\n",
    "df['month2'] = df['reported_date'].dt.strftime('%m')\n",
    "\n",
    "#join on data about cities\n",
    "df = pd.merge(df, citydata.rename(columns={\"lat\": \"avg_lat\", \"lon\": \"avg_lon\",\"Abbreviation\":\"state\",\"State\":\"Long_state\"}), on = ['city',\"state\"], how = 'left')\n",
    "\n",
    "\n",
    "df['years_range'] = df.groupby('city')['reported_date'].transform(lambda x: (x.max() - x.min()).days / 365)\n",
    "df['No_homicides_norm_pr1000'] = (df.groupby('city')['city'].transform('count'))/(df[\"Population\"]*df['years_range'])*1000\n",
    "\n",
    "\n",
    "\n",
    "\n",
    "avg_city_coords = df[['city','avg_lat','avg_lon','No_homicides_norm_pr1000','Population','state']].drop_duplicates().reset_index()\n",
    "avg_city_coords = avg_city_coords.drop(49)"
   ]
  },
  {
   "cell_type": "code",
   "execution_count": 776,
   "metadata": {},
   "outputs": [],
   "source": [
    "obs = df.groupby(['disposition', 'city']).size().reset_index(name='n_obs')\n",
    "\n",
    "# Pivot the DataFrame to have 'disposition' as columns and 'city' as index\n",
    "obs_pivot = obs.pivot(index='city', columns='disposition', values='n_obs')\n",
    "\n",
    "# Calculate the proportion of 'Open/No arrest' over the sum of all dispositions\n",
    "obs_pivot['open_prop'] = obs_pivot['Open/No arrest'] / obs_pivot.sum(axis=1)\n",
    "\n",
    "# Reset index if you want to have 'city' as a regular column\n",
    "obs_pivot = obs_pivot.reset_index()\n",
    "\n",
    "\n",
    "city_df =pd.merge(avg_city_coords,obs_pivot[[\"city\",\"open_prop\"]],on=\"city\",how=\"left\")"
   ]
  },
  {
   "cell_type": "markdown",
   "metadata": {},
   "source": [
    "Dash app"
   ]
  },
  {
   "cell_type": "code",
   "execution_count": 777,
   "metadata": {},
   "outputs": [
    {
     "name": "stdout",
     "output_type": "stream",
     "text": [
      "Dash app running on http://127.0.0.1:8050/\n"
     ]
    },
    {
     "data": {
      "application/javascript": "window.open('http://127.0.0.1:8050/')",
      "text/plain": [
       "<IPython.core.display.Javascript object>"
      ]
     },
     "metadata": {},
     "output_type": "display_data"
    }
   ],
   "source": [
    "app = dash.Dash(__name__, external_stylesheets=[dbc.themes.BOOTSTRAP])\n",
    "\n",
    "cityoptions = [{'label': 'Select all', 'value': 'all cities'}]+[{'label': city, 'value': city} for city in sorted(df['city'].unique())]\n",
    "raceoptions = [{'label': 'Select all', 'value': 'all'}]+[{'label': r, 'value': r} for r in sorted(df['victim_race'].unique())]\n",
    "sexoptions = [{'label': 'Select all', 'value': 'all'}]+[{'label': s, 'value': s} for s in sorted(df['victim_sex'].unique())]\n",
    "\n",
    "# Define layout\n",
    "# Define layout\n",
    "app.layout = html.Div([\n",
    "    html.H4(id='title-output',style={\"margin-bottom\":\"5px\",\"margin-top\":\"1px\",\"font-size\":\"24px\",\"text-align\":\"center\"}),\n",
    "    html.Hr(style={\"margin\":\"0px\",\"marginBottom\":\"4px\"}),\n",
    "    html.Div([\n",
    "    dcc.Dropdown(\n",
    "        id='city_dropdown',\n",
    "        options = cityoptions,\n",
    "        value = 'all cities', #default\n",
    "        #value = None,\n",
    "        #placeholder = \"Select city\",\n",
    "        clearable=False,\n",
    "        style={\"width\": \"200px\", \"display\": \"inline-block\",\"margin-top\":\"0\"}\n",
    "    ),\n",
    "        dcc.Dropdown(\n",
    "        id='race_dropdown',\n",
    "        options = raceoptions,\n",
    "        value = 'all', #default\n",
    "        #value = None,\n",
    "        #placeholder = \"Select race\",\n",
    "        clearable=False,\n",
    "        style={\"width\": \"200px\", \"display\": \"inline-block\",\"margin-top\":\"0\"}\n",
    "    ),\n",
    "        dcc.Dropdown(\n",
    "        id='sex_dropdown',\n",
    "        options = sexoptions,\n",
    "        value = 'all', #default\n",
    "        #value = None,\n",
    "        #placeholder = \"Select gender\",\n",
    "        clearable=False,\n",
    "        style={\"width\": \"200px\", \"display\": \"inline-block\",\"margin-top\":\"0\"}\n",
    "    )]),\n",
    "    dbc.Card([dcc.Graph(id = 'murder-map',style={\"height\":\"47.8vh\"})]\n",
    "             ,style={\"width\": \"60%\",\"height\":\"48vh\",\"display\":\"inline-block\",\"marginRight\":\"20px\",\"marginBottom\":\"5px\"}),\n",
    "    dbc.Card([dcc.Graph(id = 'time-spiral',style={\"height\":\"47.8vh\"})],style={\"width\": \"35%\",\"height\":\"48vh\",\"display\":\"inline-block\",\"marginBottom\":\"5px\"}),\n",
    "    dbc.Card([dcc.Graph(id = 'disp-colchart',style={\"height\":\"37.8vh\"})],style={\"width\": \"30%\",\"height\":\"38vh\",\"marginRight\":\"20px\",\"marginTop\":\"5px\",\"display\":\"inline-block\"}),\n",
    "    dbc.Card([dcc.Graph(id = 'sankey',style={\"height\":\"37.8vh\"})],style={\"width\": \"65%\",\"height\":\"38vh\",\"marginTop\":\"5px\",\"display\":\"inline-block\"}),\n",
    "dcc.Store(id='selected-city', data = 'all cities')\n",
    "],\n",
    "style={\"marginLeft\":\"50px\"})\n",
    "\n",
    "\n",
    "def make_colchart(df):\n",
    "       \n",
    "    # Get value counts and reset index\n",
    "    value_counts = df[\"disposition\"].value_counts().reset_index().sort_values('disposition', ascending = False)\n",
    "    \n",
    "    fig = go.Figure(data=go.Bar(x=value_counts['disposition'], \n",
    "                                y=value_counts['count'],\n",
    "                                marker_color=\"#bd0026\")\n",
    "                                )\n",
    "    #fig.update_layout(dragmode='zoom',width=500, height=290)\n",
    "    fig.update_layout(margin={\"r\": 5, \"t\": 5, \"l\": 5, \"b\": 5}) \n",
    "    fig.update_layout(autosize = True,template=\"plotly_white\")\n",
    "    return fig\n",
    "\n",
    "\n",
    "\n",
    "def make_spiral_plot(df):\n",
    "    df['year'] = df['reported_date'].dt.strftime('%y')\n",
    "    df['month2'] = df['reported_date'].dt.strftime('%m')\n",
    "    df_summary = df.groupby(['year', 'month2']).size().reset_index(name = 'num_murders_year_month')#.sort_values(['year', 'month2'])\n",
    "    \n",
    "    ## håndterer fejl som ellers opstår ved valg af city med klik på stort kort\n",
    "    if df_summary.empty:\n",
    "        # Return a default or empty figure\n",
    "        fig = px.bar_polar()\n",
    "        return fig\n",
    "\n",
    "    #quantiles = df_summary['num_murders_year_month'].agg('quantile', q = [0, 0.25, 0.50, 0.75, 1])\n",
    "    q0, q0_25, q0_5, q0_75, q1 = np.percentile(df_summary['num_murders_year_month'], [0, 25, 50, 75, 100])\n",
    "    #q0, q0_33, q0_66,q1 = np.percentile(df_summary['num_murders_year_month'], [0, 33, 66, 100])\n",
    "\n",
    "    all_years = df['year'].unique()\n",
    "    all_months = df['month2'].unique()\n",
    "    all_combinations = pd.DataFrame([(year, month) for year in all_years for month in all_months], columns=['year', 'month2']).sort_values(['year', 'month2'])\n",
    "\n",
    "    # Merge with df_summary to include zeros for missing combinations\n",
    "    df_summary = pd.merge(all_combinations, df_summary, on=['year', 'month2'], how='left').fillna(0)#replace(0, np.nan)\n",
    "    df_summary['constant_value'] = 1\n",
    "\n",
    "\n",
    "    df_summary['hovertemplate'] = df_summary.apply(lambda row: 'Year: %s<br>Month: %s<br>Murders: %d' % (row['year'], row['month2'], row['num_murders_year_month'])\n",
    "                                                  if row['num_murders_year_month'] > 0 else '',\n",
    "                                                  axis=1)\n",
    "\n",
    "\n",
    "    # Create boolean masks for each quantile\n",
    "#    mask_q0 = (df_summary['num_murders_year_month'] ==q0)\n",
    "#    mask_q0_25 = (df_summary['num_murders_year_month'] == q0_25)\n",
    "#    mask_q0_5 = (df_summary['num_murders_year_month'] == q0_5)\n",
    "#    mask_q0_75 = (df_summary['num_murders_year_month'] == q0_75)\n",
    "#    mask_q1 = (df_summary['num_murders_year_month'] == q1)\n",
    "#\n",
    "#    qs=[q0,q0_25,q0_5,q0_75,q1]\n",
    "\n",
    "    # Filter the DataFrame based on quantiles\n",
    "#    points_in_q0 = df_summary[mask_q0]\n",
    "#    points_in_q0_25 = df_summary[mask_q0_25]\n",
    "#    points_in_q0_5 = df_summary[mask_q0_5]\n",
    "#    points_in_q0_75 = df_summary[mask_q0_75]\n",
    "#    points_in_q1 = df_summary[mask_q1]\n",
    "#\n",
    "#    listq=[points_in_q0,points_in_q0_25,points_in_q0_5,points_in_q0_75,points_in_q1]\n",
    "#    listnozero=[]\n",
    "#    for i in range(len(listq)):\n",
    "#        if len(listq[i])!=0:\n",
    "#            listnozero.append(qs[i])\n",
    "#\n",
    "#   colorscale=[]\n",
    "#   if len(listnozero)==4:\n",
    "#       colorscale=[(0, 'rgba(0,0,0,0)'), #hide zero counts\n",
    "#                                              (0, '#ffffb2'),\n",
    "#                                              (q0/q1, '#fed976'), \n",
    "#                                              (q0_25/q1, '#feb24c'),\n",
    "#                                              (q0_5/q1, '#fd8d3c'),\n",
    "#                                              (q0_75/q1, '#f03b20'),\n",
    "#                                              (1, '#bd0026')]\n",
    "#   \n",
    "#       \n",
    "#   elif len(listnozero)==3:\n",
    "#       colorscale=[(0, 'rgba(0,0,0,0)'), #hide zero counts\n",
    "#                                              (0, '#ffffb2'),\n",
    "#                                              (listnozero[0]/q1, '#fecc5c'), \n",
    "#                                              (listnozero[1]/q1, '#fd8d3c'),\n",
    "#                                              (listnozero[2]/q1, '#f03b20'),\n",
    "#                                              (1, '#bd0026')]\n",
    "#       \n",
    "#   elif len(listnozero)==2:\n",
    "#       colorscale=[(0, 'rgba(0,0,0,0)'), #hide zero counts\n",
    "#                                              (0, '#ffffb2'),\n",
    "#                                              (listnozero[0]/q1, '#fecc5c'), \n",
    "#                                              (listnozero[1]/q1, '#fd8d3c'),\n",
    "#                                              (1, '#e31a1c')]\n",
    "#\n",
    "#   elif len(listnozero)==1:\n",
    "#       colorscale=[(0, 'rgba(0,0,0,0)'), #hide zero counts\n",
    "#                                              (0, '#ffeda0'),\n",
    "#                                              (listnozero[0]/q1, '#feb24c'),\n",
    "#                                              (1, '#f03b20')]\n",
    "        \n",
    "  #  else:\n",
    "  #      colorscale=[(0, 'rgba(0,0,0,0)'), #hide zero counts\n",
    "  #                                             (0, '#ffeda0'),\n",
    "  #                                             (q0/q1, '#f03b20')]\n",
    "        \n",
    "    fig = px.bar_polar(df_summary, \n",
    "                       r = 'constant_value', \n",
    "                       custom_data=['year', 'month2', 'num_murders_year_month'], #inkluder evt year og month formateret rigtigt i df_summary \n",
    "                       theta='month2', \n",
    "                       color = 'num_murders_year_month',  \n",
    "                       color_continuous_scale=[(0, 'rgba(0,0,0,0)'), #hide zero counts\n",
    "                                               (0, '#ffffb2'),\n",
    "                                               (q0/q1, '#fed976'), \n",
    "                                               (q0_25/q1, '#feb24c'),\n",
    "                                               (q0_5/q1, '#fd8d3c'),\n",
    "                                               (q0_75/q1, '#f03b20'),\n",
    "                                               (1, '#bd0026')],\n",
    "                       range_color = [q0, q1],\n",
    "                       labels={\"num_murders_year_month\": \"# murders per<br> year and month\"},\n",
    "                       direction = 'counterclockwise',\n",
    "                       category_orders={'month2': np.sort(df_summary['month2'].unique()),\n",
    "                                        'year': np.sort(df_summary['year'].unique())}  # Specify the order of months\n",
    "                   )\n",
    "    fig.update_polars(hole = 0.25, radialaxis=dict(showticklabels=False, ticks='', linewidth=0)) \n",
    "    #fig.update_traces(hovertemplate='Year: %{customdata[0]}<br>Month: %{customdata[1]}<br>Murders: %{customdata[2]}') \n",
    "    fig.update_traces(hovertemplate=df_summary['hovertemplate'])\n",
    "    fig.update_traces(hoverinfo = 'none')\n",
    "    fig.update_layout(autosize = True)\n",
    "\n",
    "    return fig\n",
    "\n",
    "\n",
    "def make_sankey(df, cat_cols=['disposition','victim_sex','victim_race','age_binned'], value_cols = 'n_obs'):\n",
    "    df['victim_age'].mask(df['victim_age'] == 'Unknown', -2, inplace=True)\n",
    "    mask = df['victim_age'] == 'Unknown'\n",
    "    df = df[~mask]\n",
    "    df['victim_sex'].mask(df['victim_sex'] == 'Unknown', 'Unknown sex', inplace=True)\n",
    "    df['victim_race'].mask(df['victim_race'] == 'Unknown', 'Unknown race', inplace=True)\n",
    "    df['victim_age'] = pd.to_numeric(df['victim_age'])\n",
    "    df['age_binned'] = pd.cut(x=df['victim_age'], bins=[-3,-1,9,19, 29, 39, 49, 59, 69, 79, 89, 99, 109], labels=['Unknown age','0-9','10-19', '20-29', '30-39', '40-49', '50-59', '60-69', '70-79', '80-89', '90-99','100+'])\n",
    "    df = df.sort_values(by=['victim_age'], ascending=True)\n",
    "    df = df.groupby(['disposition','victim_race','victim_sex','age_binned']).size().reset_index(name='n_obs')\n",
    "    zeromask = df['n_obs'] == 0\n",
    "    df = df[~zeromask]\n",
    "\n",
    "    # maximum of 6 value cols -> 6 colors\n",
    "    colorPalette = ['#bd0026']*10\n",
    "    labelList = []\n",
    "    colorNumList = []\n",
    "    for catCol in cat_cols:\n",
    "        labelListTemp =  list(set(df[catCol].values))\n",
    "        if catCol=='age_binned':\n",
    "            labelListTemp = ['Unknown age','0-9','10-19', '20-29', '30-39', '40-49', '50-59', '60-69', '70-79', '80-89', '90-99','100+']\n",
    "        colorNumList.append(len(labelListTemp))\n",
    "        labelList = labelList + labelListTemp\n",
    "        \n",
    "    # remove duplicates from labelList\n",
    "    del labelList[12:23]\n",
    "    labelList = list(dict.fromkeys(labelList))\n",
    "    labelList = labelList + ['Unknown age','0-9','10-19', '20-29', '30-39', '40-49', '50-59', '60-69', '70-79', '80-89', '90-99','100+']\n",
    "    \n",
    "    # define colors based on number of levels\n",
    "    colorList = []\n",
    "    for idx, colorNum in enumerate(colorNumList):\n",
    "        colorList = colorList + [colorPalette[idx]]*colorNum\n",
    "        \n",
    "    # transform df into a source-target pair\n",
    "    for i in range(len(cat_cols)-1):\n",
    "        if i==0:\n",
    "            sourceTargetDf = df[[cat_cols[i],cat_cols[i+1],value_cols]]\n",
    "            sourceTargetDf.columns = ['source','target','count']\n",
    "        else:\n",
    "            tempDf = df[[cat_cols[i],cat_cols[i+1],value_cols]]\n",
    "            tempDf.columns = ['source','target','count']\n",
    "            sourceTargetDf = pd.concat([sourceTargetDf,tempDf])\n",
    "        sourceTargetDf = sourceTargetDf.groupby(['source','target']).agg({'count':'sum'}).reset_index()\n",
    "\n",
    "    dispList = list(df['disposition'].unique())\n",
    "    genderList = list(df['victim_sex'].unique())\n",
    "    num_gender = len(genderList)\n",
    "    raceList = list(df['victim_race'].unique())\n",
    "    num_race = len(raceList)\n",
    "    ageList = list(df['age_binned'].unique())\n",
    "\n",
    "    presentList = dispList + genderList + raceList + ageList\n",
    "    \n",
    "\n",
    "    x = [0.001, 0.001, 0.001, 0.33, 0.33, 0.33, 0.66, 0.66, 0.66, 0.66, 0.66, 0.66, 0.999, 0.999, 0.999, 0.999, 0.999, 0.999, 0.999, 0.999, 0.999, 0.999, 0.999, 0.999]\n",
    "    y = [0.2, 0.5, 0.8, 0.8, 0.6, 0.2, 0.4, 0.6, 0.7, 0.3, 0.8, 0.9, 0.999, 0.001, 1.5/11, 2.5/11, 4/11, 5/11, 6/11, 7/11, 0.7, 0.75, 0.8, 0.9]\n",
    "\n",
    "    deleteList = []\n",
    "\n",
    "    allList = ['Closed by arrest','Open/No arrest', 'Closed without arrest', 'Male', 'Female', 'Unknown sex', 'Black', 'Hispanic', 'White', 'Other', 'Asian', 'Unknown race','100+','Unknown age','0-9','10-19', '20-29', '30-39', '40-49', '50-59', '60-69', '70-79', '80-89', '90-99']\n",
    "    \n",
    "    for i in range(len(allList)):\n",
    "        if allList[i] not in presentList:\n",
    "            deleteList.append(i)\n",
    "    \n",
    "\n",
    "    for j in range(len(deleteList)):\n",
    "        del allList[deleteList[j]-j]\n",
    "        del y[deleteList[j]-j]\n",
    "        del x[deleteList[j]-j]\n",
    "\n",
    "    if num_gender == 1:\n",
    "        idx = allList.index(genderList[0])\n",
    "        y[idx] = 0.5\n",
    "    \n",
    "    if num_race == 1:\n",
    "        idx = allList.index(raceList[0])\n",
    "        y[idx] = 0.5\n",
    "\n",
    "    #new stuff\n",
    "    sourceTargetDf['source'] = pd.Categorical(sourceTargetDf['source'], allList)\n",
    "    sourceTargetDf['target'] = pd.Categorical(sourceTargetDf['target'], allList)\n",
    "    sourceTargetDf.sort_values(['source', 'target'], inplace = True)\n",
    "    sourceTargetDf.reset_index(drop=True)\n",
    "        \n",
    "    # add index for source-target pair\n",
    "    sourceTargetDf['sourceID'] = sourceTargetDf['source'].apply(lambda x: labelList.index(x))\n",
    "    sourceTargetDf['targetID'] = sourceTargetDf['target'].apply(lambda x: labelList.index(x))\n",
    "\n",
    "    \n",
    "\n",
    "    fig = go.Figure(data=[go.Sankey(\n",
    "        arrangement = \"snap\",\n",
    "    node = dict(\n",
    "        pad = 15,\n",
    "        thickness = 20,\n",
    "        x = x,\n",
    "        y = y,\n",
    "        line = dict(\n",
    "        color = \"black\",\n",
    "        width = 0.5\n",
    "        ),\n",
    "        color = colorList,\n",
    "        label = labelList\n",
    "    ),\n",
    "    link = dict(\n",
    "          source = sourceTargetDf['sourceID'],\n",
    "          target = sourceTargetDf['targetID'],\n",
    "          value = sourceTargetDf['count']\n",
    "        ))],\n",
    "        layout=dict(\n",
    "    margin=dict(l=48, r=48, b=45, t=10),\n",
    "    height=378)\n",
    "        )\n",
    "       \n",
    "    #fig = go.sankey(dict(data=[data], layout=layout))\n",
    "\n",
    "    return fig\n",
    "\n",
    "def make_map(df, city):\n",
    "    jitter_factor = 0.0005  # Adjust the jitter factor as needed\n",
    "    df['lat'] = df['lat'] + np.random.uniform(-jitter_factor, jitter_factor, len(df))\n",
    "    df['lon'] = df['lon'] + np.random.uniform(-jitter_factor, jitter_factor, len(df))\n",
    "\n",
    "    fig = px.scatter_mapbox(\n",
    "        df if city != 'all cities' else city_df,\n",
    "        lat=\"lat\" if city != 'all cities' else 'avg_lat',\n",
    "        lon=\"lon\" if city != 'all cities' else 'avg_lon',\n",
    "        hover_name=\"victim_full_name\" if city != 'all cities' else 'city',\n",
    "        hover_data=[\"victim_race\", \"victim_age\", \"victim_sex\", \"reported_date\"] if city != 'all cities' else None,\n",
    "        custom_data = ['disposition', 'lat', 'lon', 'victim_race', 'victim_age', 'victim_sex', 'reported_date'] if city != 'all cities'\\\n",
    "            else ['No_homicides_norm_pr1000', 'open_prop'],\n",
    "\n",
    "        color = \"disposition\"  if city != 'all cities' else \"open_prop\",\n",
    "        opacity=0.65 if city != 'all cities' else None,\n",
    "        color_continuous_scale=\"YlOrRd\" if city=='all cities' else None, #\"Rdbu_r\" \n",
    "        labels={\"open_prop\": \"% Open cases\"},\n",
    "        #labels = hover_labels,\n",
    "        size='No_homicides_norm_pr1000' if city=='all cities' else None,\n",
    "        center={\"lat\": 39.8283-2, \"lon\": -98.5795} if city=='all cities' else None,\n",
    "        range_color=[min(city_df[\"open_prop\"])-0.15,max(city_df[\"open_prop\"])] if city=='all cities' else None,\n",
    "        color_continuous_midpoint=0.5 if city=='all cities' else None,\n",
    "        category_orders={\"disposition\": ['Open/No arrest', 'Closed without arrest', 'Closed by arrest']} if city != 'all cities' else None,\n",
    "        color_discrete_sequence=['#EF553B', '#00CC96','#636EFA']\n",
    "    )\n",
    "\n",
    "    \n",
    "    fig.update_layout(mapbox_style=\"light\", \n",
    "                      mapbox_accesstoken=mapbox_token, \n",
    "                      #title = title,\n",
    "                      #mapbox_center={\"lat\": center_lat, \"lon\": center_lon},  \n",
    "                      #mapbox_zoom = 10,\n",
    "                      autosize = True\n",
    "                      )\n",
    "    \n",
    "    \n",
    "    \n",
    "    fig.update_layout(mapbox_zoom = 9.5 if city != 'all cities' else 3.2)\n",
    "\n",
    "    fig.update_traces(uirevision='persist')\n",
    "\n",
    "\n",
    "    #['disposition', 'lat', 'lon', 'victim_race', 'victim_age', 'victim_sex', 'reported_date']\n",
    "    if city == 'all cities':\n",
    "        fig.update_traces(hovertemplate = \"<b>%{hovertext}</b> <br> # Murders per 1000 capita per year: %{customdata[0]:.3f} <br>Open cases: %{customdata[1]:.3f}\")\n",
    "    else:\n",
    "        fig.update_traces(hovertemplate = \"<b>%{hovertext}</b> <br> Lat: %{customdata[1]:.3f} <br> Lon: %{customdata[2]:.3f} <br> Race: %{customdata[3]} <br> Age: %{customdata[4]} <br> Gender: %{customdata[5]} <br> Reported date: %{customdata[6]}\")\n",
    "\n",
    "\n",
    "    \n",
    "    #fig.update_layout(margin={\"r\": 0, \"l\": 0, \"b\": 0})\n",
    "    fig.update_layout(margin={\"r\": 0, \"l\": 15, \"b\": 5,\"t\":5})\n",
    "    fig.update_layout(clickmode='event+select',\n",
    "                      hovermode='closest')\n",
    "\n",
    "    return fig\n",
    "\n",
    "\n",
    "\n",
    "#helper function to filter data based on city, race, sex\n",
    "def filter_df(selected_city, selected_race = 'all', selected_sex = 'all', df = df):\n",
    "    all_cities_filter = selected_city == 'all cities'\n",
    "    all_race_filter = selected_race == 'all'\n",
    "    all_sex_filter = selected_sex == 'all'\n",
    "\n",
    "    if all_cities_filter and all_race_filter and all_sex_filter:\n",
    "        # Handle the case when all filters are 'all'\n",
    "        filtered_df = df  # Include all data\n",
    "    else:\n",
    "        city_filter = df['city'] == selected_city if not all_cities_filter else True\n",
    "        race_filter = df['victim_race'] == selected_race if not all_race_filter else True\n",
    "        sex_filter = df['victim_sex'] == selected_sex if not all_sex_filter else True\n",
    "\n",
    "        filtered_df = df[city_filter & race_filter & sex_filter]\n",
    "    return filtered_df\n",
    "\n",
    "\n",
    "\n",
    "\n",
    "\n",
    "\n",
    "@app.callback(\n",
    "    [Output('murder-map', 'figure'),\n",
    "    Output('disp-colchart', 'figure'),\n",
    "    Output('time-spiral', 'figure'),\n",
    "    Output('sankey', 'figure')\n",
    "    ],\n",
    "    \n",
    "    [Input('city_dropdown', 'value'),\n",
    "     Input('race_dropdown', 'value'),\n",
    "     Input('sex_dropdown', 'value')\n",
    "    ]\n",
    ")\n",
    "def update_figs_on_dropdowns(selected_city, selected_race, selected_sex):\n",
    "    filtered_df = filter_df(selected_city, selected_race, selected_sex)\n",
    "\n",
    "    fig_map = make_map(filtered_df, selected_city)\n",
    "    fig_col = make_colchart(filtered_df)\n",
    "    fig_spiral = make_spiral_plot(filtered_df)\n",
    "    #fig_map.update_layout(transition={'duration': 500, 'easing': 'cubic-in-out'})\n",
    "    fig_sankey = make_sankey(filtered_df)\n",
    "    return fig_map, fig_col, fig_spiral, fig_sankey\n",
    "\n",
    "\n",
    "@app.callback(\n",
    "    [Output('disp-colchart', 'figure', allow_duplicate = True),\n",
    "     Output('time-spiral', 'figure', allow_duplicate = True),\n",
    "     Output('sankey', 'figure', allow_duplicate = True)\n",
    "     ], \n",
    "    [Input('murder-map', 'selectedData')],\n",
    "    [State('city_dropdown', 'value'), State('race_dropdown', 'value'), State('sex_dropdown', 'value')],\n",
    "    prevent_initial_call = True\n",
    ")\n",
    "def update_figures_on_map_selection(selected_data, selected_city, selected_race, selected_sex):\n",
    "    if selected_data:\n",
    "        # Extract the selected points from the map\n",
    "        selected_points = selected_data['points']\n",
    "\n",
    "        # Get the victim_full_name(s) from the selected points\n",
    "        selected_names = [point['hovertext'] for point in selected_points]\n",
    "\n",
    "        # Filter the DataFrame based on selected names, city, race, and sex\n",
    "        filtered_df = df[df['victim_full_name'].isin(selected_names)]\n",
    "        filtered_df = filter_df(selected_city, selected_race, selected_sex, filtered_df)\n",
    "\n",
    "        # Generate new figs based on filtered data\n",
    "        fig_col = make_colchart(filtered_df)\n",
    "        fig_spiral = make_spiral_plot(filtered_df)\n",
    "        fig_sankey = make_sankey(filtered_df)\n",
    "        return fig_col, fig_spiral, fig_sankey\n",
    "    else:\n",
    "        fig_col = make_colchart(filter_df(selected_city, selected_race, selected_sex))\n",
    "        fig_spiral = make_spiral_plot(filter_df(selected_city, selected_race, selected_sex))\n",
    "        fig_sankey = make_sankey(filter_df(selected_city, selected_race, selected_sex))\n",
    "        return fig_col, fig_spiral, fig_sankey\n",
    "    \n",
    "\n",
    "\n",
    "\n",
    "@app.callback(\n",
    "    Output('city_dropdown', 'value'),\n",
    "    Input('selected-city', 'data'),\n",
    "    prevent_initial_call = True\n",
    ")\n",
    "def update_city_dropdown(selected_city):\n",
    "    return selected_city\n",
    "\n",
    "@app.callback(\n",
    "    Output('selected-city', 'data'),\n",
    "    [Input('murder-map', 'clickData')],\n",
    "    [State('city_dropdown', 'value')]\n",
    ")\n",
    "def update_on_click(click_data, selected_city):\n",
    "    if selected_city == 'all cities':\n",
    "        if click_data:\n",
    "            selected_city = click_data['points'][0]['hovertext']\n",
    "            return selected_city\n",
    "    raise PreventUpdate\n",
    "\n",
    "\n",
    "##### work in progress\n",
    "@app.callback(\n",
    "    [Output('murder-map', 'figure', allow_duplicate=True),\n",
    "     Output('disp-colchart', 'figure', allow_duplicate = True),\n",
    "     Output('sankey', 'figure', allow_duplicate = True)], \n",
    "    [Input('time-spiral', 'selectedData')],\n",
    "    [State('city_dropdown', 'value'), State('race_dropdown', 'value'), State('sex_dropdown', 'value')],\n",
    "    prevent_initial_call = True\n",
    ")\n",
    "def update_figs_on_spiral_select(selected_data, selected_city, selected_race, selected_sex):\n",
    "    if selected_data: \n",
    "        d = selected_data['points']\n",
    "\n",
    "        years = np.unique([y for y,m,n in [c['customdata'] for c in d]]).tolist()\n",
    "        months = np.unique([m for y,m,n in [c['customdata'] for c in d]]).tolist()\n",
    "        \n",
    "\n",
    "        filtered_df = df[df['month2'].isin(months) & df['year'].isin(years)]\n",
    "        filtered_df = filter_df(selected_city, selected_race, selected_sex, filtered_df)\n",
    "\n",
    "        fig_map = make_map(filtered_df, selected_city)\n",
    "        fig_col = make_colchart(filtered_df)\n",
    "        fig_sankey = make_sankey(filtered_df)\n",
    "        return fig_map, fig_col, fig_sankey\n",
    "    else:\n",
    "        filtered_df = filter_df(selected_city, selected_race, selected_sex)\n",
    "\n",
    "        fig_map = make_map(filtered_df, selected_city)\n",
    "        fig_col = make_colchart(filtered_df)\n",
    "        fig_sankey = make_sankey(filtered_df)\n",
    "        return fig_map, fig_col, fig_sankey\n",
    "\n",
    "#####\n",
    "\n",
    "\n",
    "@app.callback(\n",
    "    Output('title-output', 'children'),\n",
    "    [Input('city_dropdown', 'value')]\n",
    ")\n",
    "def update_title(city):\n",
    "    city_list = [city for city in df['city'].unique()]\n",
    "    if city in city_list:\n",
    "        return f'Murders in {city}' \n",
    "    else:\n",
    "        return 'Murders in 50 large cities in the US'\n",
    "\n",
    "\n",
    "if __name__ == '__main__':\n",
    "    app.run_server(debug=True, jupyter_mode = \"tab\", port = 8050)\n"
   ]
  },
  {
   "cell_type": "markdown",
   "metadata": {},
   "source": [
    "Testing things"
   ]
  },
  {
   "cell_type": "markdown",
   "metadata": {},
   "source": [
    "Problem: På stort kort opdaterer mord per 1000 indbygger og prop open ikke ved filtrering på race og køn. \n",
    " - Mord per 1000 indbygger er svært at håndtere, da vi ikke har population per befolkningsgruppe\n",
    " - Kan man nøjes med blot at opdatere prop closed baseret på filtrering?"
   ]
  },
  {
   "cell_type": "markdown",
   "metadata": {},
   "source": [
    "#### Num murders per year barchart"
   ]
  },
  {
   "cell_type": "code",
   "execution_count": 778,
   "metadata": {},
   "outputs": [
    {
     "name": "stderr",
     "output_type": "stream",
     "text": [
      "C:\\Users\\clara\\AppData\\Local\\Temp\\ipykernel_18572\\3833635549.py:182: SettingWithCopyWarning:\n",
      "\n",
      "\n",
      "A value is trying to be set on a copy of a slice from a DataFrame\n",
      "\n",
      "See the caveats in the documentation: https://pandas.pydata.org/pandas-docs/stable/user_guide/indexing.html#returning-a-view-versus-a-copy\n",
      "\n",
      "C:\\Users\\clara\\AppData\\Local\\Temp\\ipykernel_18572\\3833635549.py:190: FutureWarning:\n",
      "\n",
      "The default of observed=False is deprecated and will be changed to True in a future version of pandas. Pass observed=False to retain current behavior or observed=True to adopt the future default and silence this warning.\n",
      "\n"
     ]
    },
    {
     "ename": "ValueError",
     "evalue": "Mime type rendering requires nbformat>=4.2.0 but it is not installed",
     "output_type": "error",
     "traceback": [
      "\u001b[1;31m---------------------------------------------------------------------------\u001b[0m",
      "\u001b[1;31mValueError\u001b[0m                                Traceback (most recent call last)",
      "File \u001b[1;32m~\\AppData\\Local\\Packages\\PythonSoftwareFoundation.Python.3.11_qbz5n2kfra8p0\\LocalCache\\local-packages\\Python311\\site-packages\\IPython\\core\\formatters.py:922\u001b[0m, in \u001b[0;36mIPythonDisplayFormatter.__call__\u001b[1;34m(self, obj)\u001b[0m\n\u001b[0;32m    920\u001b[0m method \u001b[39m=\u001b[39m get_real_method(obj, \u001b[39mself\u001b[39m\u001b[39m.\u001b[39mprint_method)\n\u001b[0;32m    921\u001b[0m \u001b[39mif\u001b[39;00m method \u001b[39mis\u001b[39;00m \u001b[39mnot\u001b[39;00m \u001b[39mNone\u001b[39;00m:\n\u001b[1;32m--> 922\u001b[0m     method()\n\u001b[0;32m    923\u001b[0m     \u001b[39mreturn\u001b[39;00m \u001b[39mTrue\u001b[39;00m\n",
      "File \u001b[1;32m~\\AppData\\Local\\Packages\\PythonSoftwareFoundation.Python.3.11_qbz5n2kfra8p0\\LocalCache\\local-packages\\Python311\\site-packages\\plotly\\basedatatypes.py:834\u001b[0m, in \u001b[0;36mBaseFigure._ipython_display_\u001b[1;34m(self)\u001b[0m\n\u001b[0;32m    831\u001b[0m \u001b[39mimport\u001b[39;00m \u001b[39mplotly\u001b[39;00m\u001b[39m.\u001b[39;00m\u001b[39mio\u001b[39;00m \u001b[39mas\u001b[39;00m \u001b[39mpio\u001b[39;00m\n\u001b[0;32m    833\u001b[0m \u001b[39mif\u001b[39;00m pio\u001b[39m.\u001b[39mrenderers\u001b[39m.\u001b[39mrender_on_display \u001b[39mand\u001b[39;00m pio\u001b[39m.\u001b[39mrenderers\u001b[39m.\u001b[39mdefault:\n\u001b[1;32m--> 834\u001b[0m     pio\u001b[39m.\u001b[39;49mshow(\u001b[39mself\u001b[39;49m)\n\u001b[0;32m    835\u001b[0m \u001b[39melse\u001b[39;00m:\n\u001b[0;32m    836\u001b[0m     \u001b[39mprint\u001b[39m(\u001b[39mrepr\u001b[39m(\u001b[39mself\u001b[39m))\n",
      "File \u001b[1;32m~\\AppData\\Local\\Packages\\PythonSoftwareFoundation.Python.3.11_qbz5n2kfra8p0\\LocalCache\\local-packages\\Python311\\site-packages\\plotly\\io\\_renderers.py:396\u001b[0m, in \u001b[0;36mshow\u001b[1;34m(fig, renderer, validate, **kwargs)\u001b[0m\n\u001b[0;32m    391\u001b[0m         \u001b[39mraise\u001b[39;00m \u001b[39mValueError\u001b[39;00m(\n\u001b[0;32m    392\u001b[0m             \u001b[39m\"\u001b[39m\u001b[39mMime type rendering requires ipython but it is not installed\u001b[39m\u001b[39m\"\u001b[39m\n\u001b[0;32m    393\u001b[0m         )\n\u001b[0;32m    395\u001b[0m     \u001b[39mif\u001b[39;00m \u001b[39mnot\u001b[39;00m nbformat \u001b[39mor\u001b[39;00m Version(nbformat\u001b[39m.\u001b[39m__version__) \u001b[39m<\u001b[39m Version(\u001b[39m\"\u001b[39m\u001b[39m4.2.0\u001b[39m\u001b[39m\"\u001b[39m):\n\u001b[1;32m--> 396\u001b[0m         \u001b[39mraise\u001b[39;00m \u001b[39mValueError\u001b[39;00m(\n\u001b[0;32m    397\u001b[0m             \u001b[39m\"\u001b[39m\u001b[39mMime type rendering requires nbformat>=4.2.0 but it is not installed\u001b[39m\u001b[39m\"\u001b[39m\n\u001b[0;32m    398\u001b[0m         )\n\u001b[0;32m    400\u001b[0m     ipython_display\u001b[39m.\u001b[39mdisplay(bundle, raw\u001b[39m=\u001b[39m\u001b[39mTrue\u001b[39;00m)\n\u001b[0;32m    402\u001b[0m \u001b[39m# external renderers\u001b[39;00m\n",
      "\u001b[1;31mValueError\u001b[0m: Mime type rendering requires nbformat>=4.2.0 but it is not installed"
     ]
    },
    {
     "data": {
      "application/vnd.plotly.v1+json": {
       "config": {
        "plotlyServerURL": "https://plot.ly"
       },
       "data": [
        {
         "arrangement": "snap",
         "link": {
          "source": [
           2,
           2,
           2,
           1,
           1,
           1,
           0,
           0,
           0,
           4,
           4,
           4,
           4,
           4,
           3,
           3,
           3,
           3,
           5,
           5,
           6,
           6,
           6,
           6,
           6,
           6,
           6,
           6,
           6,
           6,
           11,
           11,
           11,
           11,
           11,
           11,
           11,
           11,
           11,
           11,
           7,
           7,
           7,
           7,
           7,
           7,
           7,
           7,
           7,
           7,
           7,
           8,
           8,
           8,
           8,
           10,
           10,
           10,
           10,
           10,
           10,
           10,
           10,
           10,
           9,
           9,
           9,
           9,
           9,
           9,
           9
          ],
          "target": [
           4,
           3,
           5,
           4,
           3,
           5,
           4,
           3,
           5,
           6,
           11,
           7,
           8,
           10,
           6,
           11,
           7,
           10,
           10,
           9,
           14,
           15,
           16,
           17,
           18,
           19,
           20,
           21,
           22,
           23,
           13,
           14,
           15,
           16,
           17,
           18,
           19,
           20,
           21,
           23,
           13,
           14,
           15,
           16,
           17,
           18,
           19,
           20,
           21,
           22,
           23,
           15,
           16,
           17,
           18,
           14,
           15,
           16,
           17,
           18,
           19,
           20,
           21,
           22,
           13,
           14,
           16,
           17,
           18,
           19,
           20
          ],
          "value": [
           594,
           208,
           7,
           342,
           52,
           3,
           43,
           73,
           59,
           376,
           265,
           304,
           7,
           27,
           76,
           77,
           153,
           27,
           1,
           68,
           34,
           50,
           165,
           104,
           62,
           20,
           12,
           3,
           1,
           1,
           2,
           18,
           45,
           100,
           85,
           66,
           13,
           11,
           1,
           1,
           1,
           19,
           26,
           75,
           65,
           84,
           102,
           46,
           25,
           10,
           4,
           1,
           1,
           4,
           1,
           5,
           4,
           11,
           9,
           7,
           12,
           2,
           3,
           2,
           7,
           3,
           19,
           15,
           11,
           11,
           2
          ]
         },
         "node": {
          "color": [
           "#bd0026",
           "#bd0026",
           "#bd0026",
           "#bd0026",
           "#bd0026",
           "#bd0026",
           "#bd0026",
           "#bd0026",
           "#bd0026",
           "#bd0026",
           "#bd0026",
           "#bd0026",
           "#bd0026",
           "#bd0026",
           "#bd0026",
           "#bd0026",
           "#bd0026",
           "#bd0026",
           "#bd0026",
           "#bd0026",
           "#bd0026",
           "#bd0026",
           "#bd0026",
           "#bd0026"
          ],
          "label": [
           "Closed without arrest",
           "Open/No arrest",
           "Closed by arrest",
           "Female",
           "Male",
           "Unknown sex",
           "Black",
           "White",
           "Other",
           "Unknown race",
           "Asian",
           "Hispanic",
           "100+",
           "Unknown age",
           "0-9",
           "10-19",
           "20-29",
           "30-39",
           "40-49",
           "50-59",
           "60-69",
           "70-79",
           "80-89",
           "90-99",
           "100+"
          ],
          "line": {
           "color": "black",
           "width": 0.5
          },
          "pad": 15,
          "thickness": 20,
          "x": [
           0.001,
           0.001,
           0.001,
           0.33,
           0.33,
           0.33,
           0.66,
           0.66,
           0.66,
           0.66,
           0.66,
           0.66,
           0.999,
           0.999,
           0.999,
           0.999,
           0.999,
           0.999,
           0.999,
           0.999,
           0.999,
           0.999,
           0.999
          ],
          "y": [
           0.2,
           0.5,
           0.8,
           0.8,
           0.6,
           0.2,
           0.4,
           0.6,
           0.7,
           0.3,
           0.8,
           0.9,
           0.001,
           0.13636363636363635,
           0.22727272727272727,
           0.36363636363636365,
           0.45454545454545453,
           0.5454545454545454,
           0.6363636363636364,
           0.7,
           0.75,
           0.8,
           0.9
          ]
         },
         "type": "sankey"
        }
       ],
       "layout": {
        "height": 378,
        "margin": {
         "b": 45,
         "l": 48,
         "r": 48,
         "t": 10
        },
        "template": {
         "data": {
          "bar": [
           {
            "error_x": {
             "color": "#2a3f5f"
            },
            "error_y": {
             "color": "#2a3f5f"
            },
            "marker": {
             "line": {
              "color": "#E5ECF6",
              "width": 0.5
             },
             "pattern": {
              "fillmode": "overlay",
              "size": 10,
              "solidity": 0.2
             }
            },
            "type": "bar"
           }
          ],
          "barpolar": [
           {
            "marker": {
             "line": {
              "color": "#E5ECF6",
              "width": 0.5
             },
             "pattern": {
              "fillmode": "overlay",
              "size": 10,
              "solidity": 0.2
             }
            },
            "type": "barpolar"
           }
          ],
          "carpet": [
           {
            "aaxis": {
             "endlinecolor": "#2a3f5f",
             "gridcolor": "white",
             "linecolor": "white",
             "minorgridcolor": "white",
             "startlinecolor": "#2a3f5f"
            },
            "baxis": {
             "endlinecolor": "#2a3f5f",
             "gridcolor": "white",
             "linecolor": "white",
             "minorgridcolor": "white",
             "startlinecolor": "#2a3f5f"
            },
            "type": "carpet"
           }
          ],
          "choropleth": [
           {
            "colorbar": {
             "outlinewidth": 0,
             "ticks": ""
            },
            "type": "choropleth"
           }
          ],
          "contour": [
           {
            "colorbar": {
             "outlinewidth": 0,
             "ticks": ""
            },
            "colorscale": [
             [
              0,
              "#0d0887"
             ],
             [
              0.1111111111111111,
              "#46039f"
             ],
             [
              0.2222222222222222,
              "#7201a8"
             ],
             [
              0.3333333333333333,
              "#9c179e"
             ],
             [
              0.4444444444444444,
              "#bd3786"
             ],
             [
              0.5555555555555556,
              "#d8576b"
             ],
             [
              0.6666666666666666,
              "#ed7953"
             ],
             [
              0.7777777777777778,
              "#fb9f3a"
             ],
             [
              0.8888888888888888,
              "#fdca26"
             ],
             [
              1,
              "#f0f921"
             ]
            ],
            "type": "contour"
           }
          ],
          "contourcarpet": [
           {
            "colorbar": {
             "outlinewidth": 0,
             "ticks": ""
            },
            "type": "contourcarpet"
           }
          ],
          "heatmap": [
           {
            "colorbar": {
             "outlinewidth": 0,
             "ticks": ""
            },
            "colorscale": [
             [
              0,
              "#0d0887"
             ],
             [
              0.1111111111111111,
              "#46039f"
             ],
             [
              0.2222222222222222,
              "#7201a8"
             ],
             [
              0.3333333333333333,
              "#9c179e"
             ],
             [
              0.4444444444444444,
              "#bd3786"
             ],
             [
              0.5555555555555556,
              "#d8576b"
             ],
             [
              0.6666666666666666,
              "#ed7953"
             ],
             [
              0.7777777777777778,
              "#fb9f3a"
             ],
             [
              0.8888888888888888,
              "#fdca26"
             ],
             [
              1,
              "#f0f921"
             ]
            ],
            "type": "heatmap"
           }
          ],
          "heatmapgl": [
           {
            "colorbar": {
             "outlinewidth": 0,
             "ticks": ""
            },
            "colorscale": [
             [
              0,
              "#0d0887"
             ],
             [
              0.1111111111111111,
              "#46039f"
             ],
             [
              0.2222222222222222,
              "#7201a8"
             ],
             [
              0.3333333333333333,
              "#9c179e"
             ],
             [
              0.4444444444444444,
              "#bd3786"
             ],
             [
              0.5555555555555556,
              "#d8576b"
             ],
             [
              0.6666666666666666,
              "#ed7953"
             ],
             [
              0.7777777777777778,
              "#fb9f3a"
             ],
             [
              0.8888888888888888,
              "#fdca26"
             ],
             [
              1,
              "#f0f921"
             ]
            ],
            "type": "heatmapgl"
           }
          ],
          "histogram": [
           {
            "marker": {
             "pattern": {
              "fillmode": "overlay",
              "size": 10,
              "solidity": 0.2
             }
            },
            "type": "histogram"
           }
          ],
          "histogram2d": [
           {
            "colorbar": {
             "outlinewidth": 0,
             "ticks": ""
            },
            "colorscale": [
             [
              0,
              "#0d0887"
             ],
             [
              0.1111111111111111,
              "#46039f"
             ],
             [
              0.2222222222222222,
              "#7201a8"
             ],
             [
              0.3333333333333333,
              "#9c179e"
             ],
             [
              0.4444444444444444,
              "#bd3786"
             ],
             [
              0.5555555555555556,
              "#d8576b"
             ],
             [
              0.6666666666666666,
              "#ed7953"
             ],
             [
              0.7777777777777778,
              "#fb9f3a"
             ],
             [
              0.8888888888888888,
              "#fdca26"
             ],
             [
              1,
              "#f0f921"
             ]
            ],
            "type": "histogram2d"
           }
          ],
          "histogram2dcontour": [
           {
            "colorbar": {
             "outlinewidth": 0,
             "ticks": ""
            },
            "colorscale": [
             [
              0,
              "#0d0887"
             ],
             [
              0.1111111111111111,
              "#46039f"
             ],
             [
              0.2222222222222222,
              "#7201a8"
             ],
             [
              0.3333333333333333,
              "#9c179e"
             ],
             [
              0.4444444444444444,
              "#bd3786"
             ],
             [
              0.5555555555555556,
              "#d8576b"
             ],
             [
              0.6666666666666666,
              "#ed7953"
             ],
             [
              0.7777777777777778,
              "#fb9f3a"
             ],
             [
              0.8888888888888888,
              "#fdca26"
             ],
             [
              1,
              "#f0f921"
             ]
            ],
            "type": "histogram2dcontour"
           }
          ],
          "mesh3d": [
           {
            "colorbar": {
             "outlinewidth": 0,
             "ticks": ""
            },
            "type": "mesh3d"
           }
          ],
          "parcoords": [
           {
            "line": {
             "colorbar": {
              "outlinewidth": 0,
              "ticks": ""
             }
            },
            "type": "parcoords"
           }
          ],
          "pie": [
           {
            "automargin": true,
            "type": "pie"
           }
          ],
          "scatter": [
           {
            "fillpattern": {
             "fillmode": "overlay",
             "size": 10,
             "solidity": 0.2
            },
            "type": "scatter"
           }
          ],
          "scatter3d": [
           {
            "line": {
             "colorbar": {
              "outlinewidth": 0,
              "ticks": ""
             }
            },
            "marker": {
             "colorbar": {
              "outlinewidth": 0,
              "ticks": ""
             }
            },
            "type": "scatter3d"
           }
          ],
          "scattercarpet": [
           {
            "marker": {
             "colorbar": {
              "outlinewidth": 0,
              "ticks": ""
             }
            },
            "type": "scattercarpet"
           }
          ],
          "scattergeo": [
           {
            "marker": {
             "colorbar": {
              "outlinewidth": 0,
              "ticks": ""
             }
            },
            "type": "scattergeo"
           }
          ],
          "scattergl": [
           {
            "marker": {
             "colorbar": {
              "outlinewidth": 0,
              "ticks": ""
             }
            },
            "type": "scattergl"
           }
          ],
          "scattermapbox": [
           {
            "marker": {
             "colorbar": {
              "outlinewidth": 0,
              "ticks": ""
             }
            },
            "type": "scattermapbox"
           }
          ],
          "scatterpolar": [
           {
            "marker": {
             "colorbar": {
              "outlinewidth": 0,
              "ticks": ""
             }
            },
            "type": "scatterpolar"
           }
          ],
          "scatterpolargl": [
           {
            "marker": {
             "colorbar": {
              "outlinewidth": 0,
              "ticks": ""
             }
            },
            "type": "scatterpolargl"
           }
          ],
          "scatterternary": [
           {
            "marker": {
             "colorbar": {
              "outlinewidth": 0,
              "ticks": ""
             }
            },
            "type": "scatterternary"
           }
          ],
          "surface": [
           {
            "colorbar": {
             "outlinewidth": 0,
             "ticks": ""
            },
            "colorscale": [
             [
              0,
              "#0d0887"
             ],
             [
              0.1111111111111111,
              "#46039f"
             ],
             [
              0.2222222222222222,
              "#7201a8"
             ],
             [
              0.3333333333333333,
              "#9c179e"
             ],
             [
              0.4444444444444444,
              "#bd3786"
             ],
             [
              0.5555555555555556,
              "#d8576b"
             ],
             [
              0.6666666666666666,
              "#ed7953"
             ],
             [
              0.7777777777777778,
              "#fb9f3a"
             ],
             [
              0.8888888888888888,
              "#fdca26"
             ],
             [
              1,
              "#f0f921"
             ]
            ],
            "type": "surface"
           }
          ],
          "table": [
           {
            "cells": {
             "fill": {
              "color": "#EBF0F8"
             },
             "line": {
              "color": "white"
             }
            },
            "header": {
             "fill": {
              "color": "#C8D4E3"
             },
             "line": {
              "color": "white"
             }
            },
            "type": "table"
           }
          ]
         },
         "layout": {
          "annotationdefaults": {
           "arrowcolor": "#2a3f5f",
           "arrowhead": 0,
           "arrowwidth": 1
          },
          "autotypenumbers": "strict",
          "coloraxis": {
           "colorbar": {
            "outlinewidth": 0,
            "ticks": ""
           }
          },
          "colorscale": {
           "diverging": [
            [
             0,
             "#8e0152"
            ],
            [
             0.1,
             "#c51b7d"
            ],
            [
             0.2,
             "#de77ae"
            ],
            [
             0.3,
             "#f1b6da"
            ],
            [
             0.4,
             "#fde0ef"
            ],
            [
             0.5,
             "#f7f7f7"
            ],
            [
             0.6,
             "#e6f5d0"
            ],
            [
             0.7,
             "#b8e186"
            ],
            [
             0.8,
             "#7fbc41"
            ],
            [
             0.9,
             "#4d9221"
            ],
            [
             1,
             "#276419"
            ]
           ],
           "sequential": [
            [
             0,
             "#0d0887"
            ],
            [
             0.1111111111111111,
             "#46039f"
            ],
            [
             0.2222222222222222,
             "#7201a8"
            ],
            [
             0.3333333333333333,
             "#9c179e"
            ],
            [
             0.4444444444444444,
             "#bd3786"
            ],
            [
             0.5555555555555556,
             "#d8576b"
            ],
            [
             0.6666666666666666,
             "#ed7953"
            ],
            [
             0.7777777777777778,
             "#fb9f3a"
            ],
            [
             0.8888888888888888,
             "#fdca26"
            ],
            [
             1,
             "#f0f921"
            ]
           ],
           "sequentialminus": [
            [
             0,
             "#0d0887"
            ],
            [
             0.1111111111111111,
             "#46039f"
            ],
            [
             0.2222222222222222,
             "#7201a8"
            ],
            [
             0.3333333333333333,
             "#9c179e"
            ],
            [
             0.4444444444444444,
             "#bd3786"
            ],
            [
             0.5555555555555556,
             "#d8576b"
            ],
            [
             0.6666666666666666,
             "#ed7953"
            ],
            [
             0.7777777777777778,
             "#fb9f3a"
            ],
            [
             0.8888888888888888,
             "#fdca26"
            ],
            [
             1,
             "#f0f921"
            ]
           ]
          },
          "colorway": [
           "#636efa",
           "#EF553B",
           "#00cc96",
           "#ab63fa",
           "#FFA15A",
           "#19d3f3",
           "#FF6692",
           "#B6E880",
           "#FF97FF",
           "#FECB52"
          ],
          "font": {
           "color": "#2a3f5f"
          },
          "geo": {
           "bgcolor": "white",
           "lakecolor": "white",
           "landcolor": "#E5ECF6",
           "showlakes": true,
           "showland": true,
           "subunitcolor": "white"
          },
          "hoverlabel": {
           "align": "left"
          },
          "hovermode": "closest",
          "mapbox": {
           "style": "light"
          },
          "paper_bgcolor": "white",
          "plot_bgcolor": "#E5ECF6",
          "polar": {
           "angularaxis": {
            "gridcolor": "white",
            "linecolor": "white",
            "ticks": ""
           },
           "bgcolor": "#E5ECF6",
           "radialaxis": {
            "gridcolor": "white",
            "linecolor": "white",
            "ticks": ""
           }
          },
          "scene": {
           "xaxis": {
            "backgroundcolor": "#E5ECF6",
            "gridcolor": "white",
            "gridwidth": 2,
            "linecolor": "white",
            "showbackground": true,
            "ticks": "",
            "zerolinecolor": "white"
           },
           "yaxis": {
            "backgroundcolor": "#E5ECF6",
            "gridcolor": "white",
            "gridwidth": 2,
            "linecolor": "white",
            "showbackground": true,
            "ticks": "",
            "zerolinecolor": "white"
           },
           "zaxis": {
            "backgroundcolor": "#E5ECF6",
            "gridcolor": "white",
            "gridwidth": 2,
            "linecolor": "white",
            "showbackground": true,
            "ticks": "",
            "zerolinecolor": "white"
           }
          },
          "shapedefaults": {
           "line": {
            "color": "#2a3f5f"
           }
          },
          "ternary": {
           "aaxis": {
            "gridcolor": "white",
            "linecolor": "white",
            "ticks": ""
           },
           "baxis": {
            "gridcolor": "white",
            "linecolor": "white",
            "ticks": ""
           },
           "bgcolor": "#E5ECF6",
           "caxis": {
            "gridcolor": "white",
            "linecolor": "white",
            "ticks": ""
           }
          },
          "title": {
           "x": 0.05
          },
          "xaxis": {
           "automargin": true,
           "gridcolor": "white",
           "linecolor": "white",
           "ticks": "",
           "title": {
            "standoff": 15
           },
           "zerolinecolor": "white",
           "zerolinewidth": 2
          },
          "yaxis": {
           "automargin": true,
           "gridcolor": "white",
           "linecolor": "white",
           "ticks": "",
           "title": {
            "standoff": 15
           },
           "zerolinecolor": "white",
           "zerolinewidth": 2
          }
         }
        }
       }
      },
      "text/html": [
       "<div>                        <script type=\"text/javascript\">window.PlotlyConfig = {MathJaxConfig: 'local'};</script>\n",
       "        <script charset=\"utf-8\" src=\"https://cdn.plot.ly/plotly-2.26.0.min.js\"></script>                <div id=\"161d208e-66e6-48ec-bee4-471d0d6f431d\" class=\"plotly-graph-div\" style=\"height:378px; width:100%;\"></div>            <script type=\"text/javascript\">                                    window.PLOTLYENV=window.PLOTLYENV || {};                                    if (document.getElementById(\"161d208e-66e6-48ec-bee4-471d0d6f431d\")) {                    Plotly.newPlot(                        \"161d208e-66e6-48ec-bee4-471d0d6f431d\",                        [{\"arrangement\":\"snap\",\"link\":{\"source\":[2,2,2,1,1,1,0,0,0,4,4,4,4,4,3,3,3,3,5,5,6,6,6,6,6,6,6,6,6,6,11,11,11,11,11,11,11,11,11,11,7,7,7,7,7,7,7,7,7,7,7,8,8,8,8,10,10,10,10,10,10,10,10,10,9,9,9,9,9,9,9],\"target\":[4,3,5,4,3,5,4,3,5,6,11,7,8,10,6,11,7,10,10,9,14,15,16,17,18,19,20,21,22,23,13,14,15,16,17,18,19,20,21,23,13,14,15,16,17,18,19,20,21,22,23,15,16,17,18,14,15,16,17,18,19,20,21,22,13,14,16,17,18,19,20],\"value\":[594,208,7,342,52,3,43,73,59,376,265,304,7,27,76,77,153,27,1,68,34,50,165,104,62,20,12,3,1,1,2,18,45,100,85,66,13,11,1,1,1,19,26,75,65,84,102,46,25,10,4,1,1,4,1,5,4,11,9,7,12,2,3,2,7,3,19,15,11,11,2]},\"node\":{\"color\":[\"#bd0026\",\"#bd0026\",\"#bd0026\",\"#bd0026\",\"#bd0026\",\"#bd0026\",\"#bd0026\",\"#bd0026\",\"#bd0026\",\"#bd0026\",\"#bd0026\",\"#bd0026\",\"#bd0026\",\"#bd0026\",\"#bd0026\",\"#bd0026\",\"#bd0026\",\"#bd0026\",\"#bd0026\",\"#bd0026\",\"#bd0026\",\"#bd0026\",\"#bd0026\",\"#bd0026\"],\"label\":[\"Closed without arrest\",\"Open\\u002fNo arrest\",\"Closed by arrest\",\"Female\",\"Male\",\"Unknown sex\",\"Black\",\"White\",\"Other\",\"Unknown race\",\"Asian\",\"Hispanic\",\"100+\",\"Unknown age\",\"0-9\",\"10-19\",\"20-29\",\"30-39\",\"40-49\",\"50-59\",\"60-69\",\"70-79\",\"80-89\",\"90-99\",\"100+\"],\"line\":{\"color\":\"black\",\"width\":0.5},\"pad\":15,\"thickness\":20,\"x\":[0.001,0.001,0.001,0.33,0.33,0.33,0.66,0.66,0.66,0.66,0.66,0.66,0.999,0.999,0.999,0.999,0.999,0.999,0.999,0.999,0.999,0.999,0.999],\"y\":[0.2,0.5,0.8,0.8,0.6,0.2,0.4,0.6,0.7,0.3,0.8,0.9,0.001,0.13636363636363635,0.22727272727272727,0.36363636363636365,0.45454545454545453,0.5454545454545454,0.6363636363636364,0.7,0.75,0.8,0.9]},\"type\":\"sankey\"}],                        {\"height\":378,\"margin\":{\"b\":45,\"l\":48,\"r\":48,\"t\":10},\"template\":{\"data\":{\"histogram2dcontour\":[{\"type\":\"histogram2dcontour\",\"colorbar\":{\"outlinewidth\":0,\"ticks\":\"\"},\"colorscale\":[[0.0,\"#0d0887\"],[0.1111111111111111,\"#46039f\"],[0.2222222222222222,\"#7201a8\"],[0.3333333333333333,\"#9c179e\"],[0.4444444444444444,\"#bd3786\"],[0.5555555555555556,\"#d8576b\"],[0.6666666666666666,\"#ed7953\"],[0.7777777777777778,\"#fb9f3a\"],[0.8888888888888888,\"#fdca26\"],[1.0,\"#f0f921\"]]}],\"choropleth\":[{\"type\":\"choropleth\",\"colorbar\":{\"outlinewidth\":0,\"ticks\":\"\"}}],\"histogram2d\":[{\"type\":\"histogram2d\",\"colorbar\":{\"outlinewidth\":0,\"ticks\":\"\"},\"colorscale\":[[0.0,\"#0d0887\"],[0.1111111111111111,\"#46039f\"],[0.2222222222222222,\"#7201a8\"],[0.3333333333333333,\"#9c179e\"],[0.4444444444444444,\"#bd3786\"],[0.5555555555555556,\"#d8576b\"],[0.6666666666666666,\"#ed7953\"],[0.7777777777777778,\"#fb9f3a\"],[0.8888888888888888,\"#fdca26\"],[1.0,\"#f0f921\"]]}],\"heatmap\":[{\"type\":\"heatmap\",\"colorbar\":{\"outlinewidth\":0,\"ticks\":\"\"},\"colorscale\":[[0.0,\"#0d0887\"],[0.1111111111111111,\"#46039f\"],[0.2222222222222222,\"#7201a8\"],[0.3333333333333333,\"#9c179e\"],[0.4444444444444444,\"#bd3786\"],[0.5555555555555556,\"#d8576b\"],[0.6666666666666666,\"#ed7953\"],[0.7777777777777778,\"#fb9f3a\"],[0.8888888888888888,\"#fdca26\"],[1.0,\"#f0f921\"]]}],\"heatmapgl\":[{\"type\":\"heatmapgl\",\"colorbar\":{\"outlinewidth\":0,\"ticks\":\"\"},\"colorscale\":[[0.0,\"#0d0887\"],[0.1111111111111111,\"#46039f\"],[0.2222222222222222,\"#7201a8\"],[0.3333333333333333,\"#9c179e\"],[0.4444444444444444,\"#bd3786\"],[0.5555555555555556,\"#d8576b\"],[0.6666666666666666,\"#ed7953\"],[0.7777777777777778,\"#fb9f3a\"],[0.8888888888888888,\"#fdca26\"],[1.0,\"#f0f921\"]]}],\"contourcarpet\":[{\"type\":\"contourcarpet\",\"colorbar\":{\"outlinewidth\":0,\"ticks\":\"\"}}],\"contour\":[{\"type\":\"contour\",\"colorbar\":{\"outlinewidth\":0,\"ticks\":\"\"},\"colorscale\":[[0.0,\"#0d0887\"],[0.1111111111111111,\"#46039f\"],[0.2222222222222222,\"#7201a8\"],[0.3333333333333333,\"#9c179e\"],[0.4444444444444444,\"#bd3786\"],[0.5555555555555556,\"#d8576b\"],[0.6666666666666666,\"#ed7953\"],[0.7777777777777778,\"#fb9f3a\"],[0.8888888888888888,\"#fdca26\"],[1.0,\"#f0f921\"]]}],\"surface\":[{\"type\":\"surface\",\"colorbar\":{\"outlinewidth\":0,\"ticks\":\"\"},\"colorscale\":[[0.0,\"#0d0887\"],[0.1111111111111111,\"#46039f\"],[0.2222222222222222,\"#7201a8\"],[0.3333333333333333,\"#9c179e\"],[0.4444444444444444,\"#bd3786\"],[0.5555555555555556,\"#d8576b\"],[0.6666666666666666,\"#ed7953\"],[0.7777777777777778,\"#fb9f3a\"],[0.8888888888888888,\"#fdca26\"],[1.0,\"#f0f921\"]]}],\"mesh3d\":[{\"type\":\"mesh3d\",\"colorbar\":{\"outlinewidth\":0,\"ticks\":\"\"}}],\"scatter\":[{\"fillpattern\":{\"fillmode\":\"overlay\",\"size\":10,\"solidity\":0.2},\"type\":\"scatter\"}],\"parcoords\":[{\"type\":\"parcoords\",\"line\":{\"colorbar\":{\"outlinewidth\":0,\"ticks\":\"\"}}}],\"scatterpolargl\":[{\"type\":\"scatterpolargl\",\"marker\":{\"colorbar\":{\"outlinewidth\":0,\"ticks\":\"\"}}}],\"bar\":[{\"error_x\":{\"color\":\"#2a3f5f\"},\"error_y\":{\"color\":\"#2a3f5f\"},\"marker\":{\"line\":{\"color\":\"#E5ECF6\",\"width\":0.5},\"pattern\":{\"fillmode\":\"overlay\",\"size\":10,\"solidity\":0.2}},\"type\":\"bar\"}],\"scattergeo\":[{\"type\":\"scattergeo\",\"marker\":{\"colorbar\":{\"outlinewidth\":0,\"ticks\":\"\"}}}],\"scatterpolar\":[{\"type\":\"scatterpolar\",\"marker\":{\"colorbar\":{\"outlinewidth\":0,\"ticks\":\"\"}}}],\"histogram\":[{\"marker\":{\"pattern\":{\"fillmode\":\"overlay\",\"size\":10,\"solidity\":0.2}},\"type\":\"histogram\"}],\"scattergl\":[{\"type\":\"scattergl\",\"marker\":{\"colorbar\":{\"outlinewidth\":0,\"ticks\":\"\"}}}],\"scatter3d\":[{\"type\":\"scatter3d\",\"line\":{\"colorbar\":{\"outlinewidth\":0,\"ticks\":\"\"}},\"marker\":{\"colorbar\":{\"outlinewidth\":0,\"ticks\":\"\"}}}],\"scattermapbox\":[{\"type\":\"scattermapbox\",\"marker\":{\"colorbar\":{\"outlinewidth\":0,\"ticks\":\"\"}}}],\"scatterternary\":[{\"type\":\"scatterternary\",\"marker\":{\"colorbar\":{\"outlinewidth\":0,\"ticks\":\"\"}}}],\"scattercarpet\":[{\"type\":\"scattercarpet\",\"marker\":{\"colorbar\":{\"outlinewidth\":0,\"ticks\":\"\"}}}],\"carpet\":[{\"aaxis\":{\"endlinecolor\":\"#2a3f5f\",\"gridcolor\":\"white\",\"linecolor\":\"white\",\"minorgridcolor\":\"white\",\"startlinecolor\":\"#2a3f5f\"},\"baxis\":{\"endlinecolor\":\"#2a3f5f\",\"gridcolor\":\"white\",\"linecolor\":\"white\",\"minorgridcolor\":\"white\",\"startlinecolor\":\"#2a3f5f\"},\"type\":\"carpet\"}],\"table\":[{\"cells\":{\"fill\":{\"color\":\"#EBF0F8\"},\"line\":{\"color\":\"white\"}},\"header\":{\"fill\":{\"color\":\"#C8D4E3\"},\"line\":{\"color\":\"white\"}},\"type\":\"table\"}],\"barpolar\":[{\"marker\":{\"line\":{\"color\":\"#E5ECF6\",\"width\":0.5},\"pattern\":{\"fillmode\":\"overlay\",\"size\":10,\"solidity\":0.2}},\"type\":\"barpolar\"}],\"pie\":[{\"automargin\":true,\"type\":\"pie\"}]},\"layout\":{\"autotypenumbers\":\"strict\",\"colorway\":[\"#636efa\",\"#EF553B\",\"#00cc96\",\"#ab63fa\",\"#FFA15A\",\"#19d3f3\",\"#FF6692\",\"#B6E880\",\"#FF97FF\",\"#FECB52\"],\"font\":{\"color\":\"#2a3f5f\"},\"hovermode\":\"closest\",\"hoverlabel\":{\"align\":\"left\"},\"paper_bgcolor\":\"white\",\"plot_bgcolor\":\"#E5ECF6\",\"polar\":{\"bgcolor\":\"#E5ECF6\",\"angularaxis\":{\"gridcolor\":\"white\",\"linecolor\":\"white\",\"ticks\":\"\"},\"radialaxis\":{\"gridcolor\":\"white\",\"linecolor\":\"white\",\"ticks\":\"\"}},\"ternary\":{\"bgcolor\":\"#E5ECF6\",\"aaxis\":{\"gridcolor\":\"white\",\"linecolor\":\"white\",\"ticks\":\"\"},\"baxis\":{\"gridcolor\":\"white\",\"linecolor\":\"white\",\"ticks\":\"\"},\"caxis\":{\"gridcolor\":\"white\",\"linecolor\":\"white\",\"ticks\":\"\"}},\"coloraxis\":{\"colorbar\":{\"outlinewidth\":0,\"ticks\":\"\"}},\"colorscale\":{\"sequential\":[[0.0,\"#0d0887\"],[0.1111111111111111,\"#46039f\"],[0.2222222222222222,\"#7201a8\"],[0.3333333333333333,\"#9c179e\"],[0.4444444444444444,\"#bd3786\"],[0.5555555555555556,\"#d8576b\"],[0.6666666666666666,\"#ed7953\"],[0.7777777777777778,\"#fb9f3a\"],[0.8888888888888888,\"#fdca26\"],[1.0,\"#f0f921\"]],\"sequentialminus\":[[0.0,\"#0d0887\"],[0.1111111111111111,\"#46039f\"],[0.2222222222222222,\"#7201a8\"],[0.3333333333333333,\"#9c179e\"],[0.4444444444444444,\"#bd3786\"],[0.5555555555555556,\"#d8576b\"],[0.6666666666666666,\"#ed7953\"],[0.7777777777777778,\"#fb9f3a\"],[0.8888888888888888,\"#fdca26\"],[1.0,\"#f0f921\"]],\"diverging\":[[0,\"#8e0152\"],[0.1,\"#c51b7d\"],[0.2,\"#de77ae\"],[0.3,\"#f1b6da\"],[0.4,\"#fde0ef\"],[0.5,\"#f7f7f7\"],[0.6,\"#e6f5d0\"],[0.7,\"#b8e186\"],[0.8,\"#7fbc41\"],[0.9,\"#4d9221\"],[1,\"#276419\"]]},\"xaxis\":{\"gridcolor\":\"white\",\"linecolor\":\"white\",\"ticks\":\"\",\"title\":{\"standoff\":15},\"zerolinecolor\":\"white\",\"automargin\":true,\"zerolinewidth\":2},\"yaxis\":{\"gridcolor\":\"white\",\"linecolor\":\"white\",\"ticks\":\"\",\"title\":{\"standoff\":15},\"zerolinecolor\":\"white\",\"automargin\":true,\"zerolinewidth\":2},\"scene\":{\"xaxis\":{\"backgroundcolor\":\"#E5ECF6\",\"gridcolor\":\"white\",\"linecolor\":\"white\",\"showbackground\":true,\"ticks\":\"\",\"zerolinecolor\":\"white\",\"gridwidth\":2},\"yaxis\":{\"backgroundcolor\":\"#E5ECF6\",\"gridcolor\":\"white\",\"linecolor\":\"white\",\"showbackground\":true,\"ticks\":\"\",\"zerolinecolor\":\"white\",\"gridwidth\":2},\"zaxis\":{\"backgroundcolor\":\"#E5ECF6\",\"gridcolor\":\"white\",\"linecolor\":\"white\",\"showbackground\":true,\"ticks\":\"\",\"zerolinecolor\":\"white\",\"gridwidth\":2}},\"shapedefaults\":{\"line\":{\"color\":\"#2a3f5f\"}},\"annotationdefaults\":{\"arrowcolor\":\"#2a3f5f\",\"arrowhead\":0,\"arrowwidth\":1},\"geo\":{\"bgcolor\":\"white\",\"landcolor\":\"#E5ECF6\",\"subunitcolor\":\"white\",\"showland\":true,\"showlakes\":true,\"lakecolor\":\"white\"},\"title\":{\"x\":0.05},\"mapbox\":{\"style\":\"light\"}}}},                        {\"responsive\": true}                    )                };                            </script>        </div>"
      ],
      "text/plain": [
       "Figure({\n",
       "    'data': [{'arrangement': 'snap',\n",
       "              'link': {'source': array([ 2,  2,  2,  1,  1,  1,  0,  0,  0,  4,  4,  4,  4,  4,  3,  3,  3,  3,\n",
       "                                         5,  5,  6,  6,  6,  6,  6,  6,  6,  6,  6,  6, 11, 11, 11, 11, 11, 11,\n",
       "                                        11, 11, 11, 11,  7,  7,  7,  7,  7,  7,  7,  7,  7,  7,  7,  8,  8,  8,\n",
       "                                         8, 10, 10, 10, 10, 10, 10, 10, 10, 10,  9,  9,  9,  9,  9,  9,  9],\n",
       "                                       dtype=int64),\n",
       "                       'target': array([ 4,  3,  5,  4,  3,  5,  4,  3,  5,  6, 11,  7,  8, 10,  6, 11,  7, 10,\n",
       "                                        10,  9, 14, 15, 16, 17, 18, 19, 20, 21, 22, 23, 13, 14, 15, 16, 17, 18,\n",
       "                                        19, 20, 21, 23, 13, 14, 15, 16, 17, 18, 19, 20, 21, 22, 23, 15, 16, 17,\n",
       "                                        18, 14, 15, 16, 17, 18, 19, 20, 21, 22, 13, 14, 16, 17, 18, 19, 20],\n",
       "                                       dtype=int64),\n",
       "                       'value': array([594, 208,   7, 342,  52,   3,  43,  73,  59, 376, 265, 304,   7,  27,\n",
       "                                        76,  77, 153,  27,   1,  68,  34,  50, 165, 104,  62,  20,  12,   3,\n",
       "                                         1,   1,   2,  18,  45, 100,  85,  66,  13,  11,   1,   1,   1,  19,\n",
       "                                        26,  75,  65,  84, 102,  46,  25,  10,   4,   1,   1,   4,   1,   5,\n",
       "                                         4,  11,   9,   7,  12,   2,   3,   2,   7,   3,  19,  15,  11,  11,\n",
       "                                         2], dtype=int64)},\n",
       "              'node': {'color': [#bd0026, #bd0026, #bd0026, #bd0026, #bd0026,\n",
       "                                 #bd0026, #bd0026, #bd0026, #bd0026, #bd0026,\n",
       "                                 #bd0026, #bd0026, #bd0026, #bd0026, #bd0026,\n",
       "                                 #bd0026, #bd0026, #bd0026, #bd0026, #bd0026,\n",
       "                                 #bd0026, #bd0026, #bd0026, #bd0026],\n",
       "                       'label': [Closed without arrest, Open/No arrest, Closed by\n",
       "                                 arrest, Female, Male, Unknown sex, Black, White,\n",
       "                                 Other, Unknown race, Asian, Hispanic, 100+,\n",
       "                                 Unknown age, 0-9, 10-19, 20-29, 30-39, 40-49,\n",
       "                                 50-59, 60-69, 70-79, 80-89, 90-99, 100+],\n",
       "                       'line': {'color': 'black', 'width': 0.5},\n",
       "                       'pad': 15,\n",
       "                       'thickness': 20,\n",
       "                       'x': [0.001, 0.001, 0.001, 0.33, 0.33, 0.33, 0.66, 0.66,\n",
       "                             0.66, 0.66, 0.66, 0.66, 0.999, 0.999, 0.999, 0.999,\n",
       "                             0.999, 0.999, 0.999, 0.999, 0.999, 0.999, 0.999],\n",
       "                       'y': [0.2, 0.5, 0.8, 0.8, 0.6, 0.2, 0.4, 0.6, 0.7, 0.3,\n",
       "                             0.8, 0.9, 0.001, 0.13636363636363635,\n",
       "                             0.22727272727272727, 0.36363636363636365,\n",
       "                             0.45454545454545453, 0.5454545454545454,\n",
       "                             0.6363636363636364, 0.7, 0.75, 0.8, 0.9]},\n",
       "              'type': 'sankey'}],\n",
       "    'layout': {'height': 378, 'margin': {'b': 45, 'l': 48, 'r': 48, 't': 10}, 'template': '...'}\n",
       "})"
      ]
     },
     "execution_count": 778,
     "metadata": {},
     "output_type": "execute_result"
    },
    {
     "name": "stderr",
     "output_type": "stream",
     "text": [
      "C:\\Users\\clara\\AppData\\Local\\Temp\\ipykernel_18572\\3833635549.py:190: FutureWarning:\n",
      "\n",
      "The default of observed=False is deprecated and will be changed to True in a future version of pandas. Pass observed=False to retain current behavior or observed=True to adopt the future default and silence this warning.\n",
      "\n",
      "C:\\Users\\clara\\AppData\\Local\\Temp\\ipykernel_18572\\3833635549.py:303: SettingWithCopyWarning:\n",
      "\n",
      "\n",
      "A value is trying to be set on a copy of a slice from a DataFrame.\n",
      "Try using .loc[row_indexer,col_indexer] = value instead\n",
      "\n",
      "See the caveats in the documentation: https://pandas.pydata.org/pandas-docs/stable/user_guide/indexing.html#returning-a-view-versus-a-copy\n",
      "\n",
      "C:\\Users\\clara\\AppData\\Local\\Temp\\ipykernel_18572\\3833635549.py:304: SettingWithCopyWarning:\n",
      "\n",
      "\n",
      "A value is trying to be set on a copy of a slice from a DataFrame.\n",
      "Try using .loc[row_indexer,col_indexer] = value instead\n",
      "\n",
      "See the caveats in the documentation: https://pandas.pydata.org/pandas-docs/stable/user_guide/indexing.html#returning-a-view-versus-a-copy\n",
      "\n",
      "C:\\Users\\clara\\AppData\\Local\\Temp\\ipykernel_18572\\3833635549.py:67: SettingWithCopyWarning:\n",
      "\n",
      "\n",
      "A value is trying to be set on a copy of a slice from a DataFrame.\n",
      "Try using .loc[row_indexer,col_indexer] = value instead\n",
      "\n",
      "See the caveats in the documentation: https://pandas.pydata.org/pandas-docs/stable/user_guide/indexing.html#returning-a-view-versus-a-copy\n",
      "\n",
      "C:\\Users\\clara\\AppData\\Local\\Temp\\ipykernel_18572\\3833635549.py:68: SettingWithCopyWarning:\n",
      "\n",
      "\n",
      "A value is trying to be set on a copy of a slice from a DataFrame.\n",
      "Try using .loc[row_indexer,col_indexer] = value instead\n",
      "\n",
      "See the caveats in the documentation: https://pandas.pydata.org/pandas-docs/stable/user_guide/indexing.html#returning-a-view-versus-a-copy\n",
      "\n",
      "C:\\Users\\clara\\AppData\\Local\\Temp\\ipykernel_18572\\3833635549.py:182: SettingWithCopyWarning:\n",
      "\n",
      "\n",
      "A value is trying to be set on a copy of a slice from a DataFrame\n",
      "\n",
      "See the caveats in the documentation: https://pandas.pydata.org/pandas-docs/stable/user_guide/indexing.html#returning-a-view-versus-a-copy\n",
      "\n",
      "C:\\Users\\clara\\AppData\\Local\\Temp\\ipykernel_18572\\3833635549.py:190: FutureWarning:\n",
      "\n",
      "The default of observed=False is deprecated and will be changed to True in a future version of pandas. Pass observed=False to retain current behavior or observed=True to adopt the future default and silence this warning.\n",
      "\n",
      "C:\\Users\\clara\\AppData\\Local\\Temp\\ipykernel_18572\\3833635549.py:303: SettingWithCopyWarning:\n",
      "\n",
      "\n",
      "A value is trying to be set on a copy of a slice from a DataFrame.\n",
      "Try using .loc[row_indexer,col_indexer] = value instead\n",
      "\n",
      "See the caveats in the documentation: https://pandas.pydata.org/pandas-docs/stable/user_guide/indexing.html#returning-a-view-versus-a-copy\n",
      "\n",
      "C:\\Users\\clara\\AppData\\Local\\Temp\\ipykernel_18572\\3833635549.py:304: SettingWithCopyWarning:\n",
      "\n",
      "\n",
      "A value is trying to be set on a copy of a slice from a DataFrame.\n",
      "Try using .loc[row_indexer,col_indexer] = value instead\n",
      "\n",
      "See the caveats in the documentation: https://pandas.pydata.org/pandas-docs/stable/user_guide/indexing.html#returning-a-view-versus-a-copy\n",
      "\n",
      "C:\\Users\\clara\\AppData\\Local\\Temp\\ipykernel_18572\\3833635549.py:67: SettingWithCopyWarning:\n",
      "\n",
      "\n",
      "A value is trying to be set on a copy of a slice from a DataFrame.\n",
      "Try using .loc[row_indexer,col_indexer] = value instead\n",
      "\n",
      "See the caveats in the documentation: https://pandas.pydata.org/pandas-docs/stable/user_guide/indexing.html#returning-a-view-versus-a-copy\n",
      "\n",
      "C:\\Users\\clara\\AppData\\Local\\Temp\\ipykernel_18572\\3833635549.py:68: SettingWithCopyWarning:\n",
      "\n",
      "\n",
      "A value is trying to be set on a copy of a slice from a DataFrame.\n",
      "Try using .loc[row_indexer,col_indexer] = value instead\n",
      "\n",
      "See the caveats in the documentation: https://pandas.pydata.org/pandas-docs/stable/user_guide/indexing.html#returning-a-view-versus-a-copy\n",
      "\n",
      "C:\\Users\\clara\\AppData\\Local\\Temp\\ipykernel_18572\\3833635549.py:182: SettingWithCopyWarning:\n",
      "\n",
      "\n",
      "A value is trying to be set on a copy of a slice from a DataFrame\n",
      "\n",
      "See the caveats in the documentation: https://pandas.pydata.org/pandas-docs/stable/user_guide/indexing.html#returning-a-view-versus-a-copy\n",
      "\n",
      "C:\\Users\\clara\\AppData\\Local\\Temp\\ipykernel_18572\\3833635549.py:190: FutureWarning:\n",
      "\n",
      "The default of observed=False is deprecated and will be changed to True in a future version of pandas. Pass observed=False to retain current behavior or observed=True to adopt the future default and silence this warning.\n",
      "\n",
      "C:\\Users\\clara\\AppData\\Local\\Temp\\ipykernel_18572\\3833635549.py:190: FutureWarning:\n",
      "\n",
      "The default of observed=False is deprecated and will be changed to True in a future version of pandas. Pass observed=False to retain current behavior or observed=True to adopt the future default and silence this warning.\n",
      "\n",
      "C:\\Users\\clara\\AppData\\Local\\Temp\\ipykernel_18572\\3833635549.py:190: FutureWarning:\n",
      "\n",
      "The default of observed=False is deprecated and will be changed to True in a future version of pandas. Pass observed=False to retain current behavior or observed=True to adopt the future default and silence this warning.\n",
      "\n",
      "C:\\Users\\clara\\AppData\\Local\\Temp\\ipykernel_18572\\3833635549.py:190: FutureWarning:\n",
      "\n",
      "The default of observed=False is deprecated and will be changed to True in a future version of pandas. Pass observed=False to retain current behavior or observed=True to adopt the future default and silence this warning.\n",
      "\n"
     ]
    }
   ],
   "source": [
    "make_sankey(filter_df('Las Vegas'),['disposition','victim_sex','victim_race','age_binned'],'n_obs')"
   ]
  }
 ],
 "metadata": {
  "kernelspec": {
   "display_name": ".venv",
   "language": "python",
   "name": "python3"
  },
  "language_info": {
   "codemirror_mode": {
    "name": "ipython",
    "version": 3
   },
   "file_extension": ".py",
   "mimetype": "text/x-python",
   "name": "python",
   "nbconvert_exporter": "python",
   "pygments_lexer": "ipython3",
   "version": "3.11.6"
  }
 },
 "nbformat": 4,
 "nbformat_minor": 2
}
