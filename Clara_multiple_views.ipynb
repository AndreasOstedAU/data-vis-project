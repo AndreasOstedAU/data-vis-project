{
 "cells": [
  {
   "cell_type": "code",
   "execution_count": 147,
   "metadata": {},
   "outputs": [],
   "source": [
    "import numpy as np\n",
    "import pandas as pd\n",
    "import plotly.graph_objects as go\n",
    "import dash\n",
    "from dash import dcc, html, Dash, State\n",
    "from dash.dependencies import Input, Output\n",
    "import plotly.graph_objects as go\n",
    "import plotly.express as px\n",
    "from dash.exceptions import PreventUpdate\n",
    "\n",
    "mapbox_token = 'pk.eyJ1IjoiYW5kcmVhc29zdGVkIiwiYSI6ImNsbmJxMjFndDA4dm8ybXJrMzhia2NqdnoifQ.fXDNIJ1LelhA1ypNiaJE9w'"
   ]
  },
  {
   "cell_type": "markdown",
   "metadata": {},
   "source": [
    "Data wrangling"
   ]
  },
  {
   "cell_type": "code",
   "execution_count": 148,
   "metadata": {},
   "outputs": [],
   "source": [
    "df = pd.read_csv('Data/homicide_data.csv')\n",
    "citydata= pd.read_csv('Data/us-cities-top-1k.csv')\n",
    "statedata=pd.read_csv('Data/states.csv')\n",
    "citydata=pd.merge(citydata,statedata,on=\"State\",how=\"left\")\n",
    "df['victim_full_name'] = df['victim_first'] +  ' ' + df['victim_last']\n",
    "\n",
    "df = df.sort_values('city')\n",
    "\n",
    "df['reported_date'] = pd.to_datetime(df['reported_date'], format='%Y%m%d')\n",
    "# Extract month from date and convert to string\n",
    "df['month'] = df['reported_date'].dt.strftime('%Y-%m')\n",
    "#avg_city_coords = citydata.groupby('city').agg({'lat': 'mean', 'lon': 'mean'}).reset_index()\\\n",
    "#               .rename(columns={\"lat\": \"avg_lat\", \"lon\": \"avg_lon\"})\n",
    "\n",
    "df = pd.merge(df, citydata.rename(columns={\"lat\": \"avg_lat\", \"lon\": \"avg_lon\",\"Abbreviation\":\"state\",\"State\":\"Long_state\"}), on = ['city',\"state\"], how = 'left')\n",
    "df['No_homocides_norm_pr1000']= (df.groupby('city')['city'].transform('count'))/df[\"Population\"]\n",
    "df['No_homocides_norm_pr1000']=df['No_homocides_norm_pr1000']*1000\n",
    "avg_city_coords=df[['city','avg_lat','avg_lon','No_homocides_norm_pr1000','Population','state']]\n",
    "avg_city_coords=avg_city_coords.drop_duplicates().reset_index()\n",
    "avg_city_coords=avg_city_coords.drop(49)"
   ]
  },
  {
   "cell_type": "code",
   "execution_count": 149,
   "metadata": {},
   "outputs": [
    {
     "data": {
      "text/html": [
       "<div>\n",
       "<style scoped>\n",
       "    .dataframe tbody tr th:only-of-type {\n",
       "        vertical-align: middle;\n",
       "    }\n",
       "\n",
       "    .dataframe tbody tr th {\n",
       "        vertical-align: top;\n",
       "    }\n",
       "\n",
       "    .dataframe thead th {\n",
       "        text-align: right;\n",
       "    }\n",
       "</style>\n",
       "<table border=\"1\" class=\"dataframe\">\n",
       "  <thead>\n",
       "    <tr style=\"text-align: right;\">\n",
       "      <th></th>\n",
       "      <th>index</th>\n",
       "      <th>city</th>\n",
       "      <th>avg_lat</th>\n",
       "      <th>avg_lon</th>\n",
       "      <th>No_homocides_norm_pr1000</th>\n",
       "      <th>Population</th>\n",
       "      <th>state</th>\n",
       "    </tr>\n",
       "  </thead>\n",
       "  <tbody>\n",
       "    <tr>\n",
       "      <th>0</th>\n",
       "      <td>0</td>\n",
       "      <td>Albuquerque</td>\n",
       "      <td>35.085334</td>\n",
       "      <td>-106.605553</td>\n",
       "      <td>0.679251</td>\n",
       "      <td>556495.0</td>\n",
       "      <td>NM</td>\n",
       "    </tr>\n",
       "    <tr>\n",
       "      <th>1</th>\n",
       "      <td>378</td>\n",
       "      <td>Atlanta</td>\n",
       "      <td>33.748995</td>\n",
       "      <td>-84.387982</td>\n",
       "      <td>2.172646</td>\n",
       "      <td>447841.0</td>\n",
       "      <td>GA</td>\n",
       "    </tr>\n",
       "    <tr>\n",
       "      <th>2</th>\n",
       "      <td>1351</td>\n",
       "      <td>Baltimore</td>\n",
       "      <td>39.290385</td>\n",
       "      <td>-76.612189</td>\n",
       "      <td>4.544256</td>\n",
       "      <td>622104.0</td>\n",
       "      <td>MD</td>\n",
       "    </tr>\n",
       "    <tr>\n",
       "      <th>3</th>\n",
       "      <td>4178</td>\n",
       "      <td>Baton Rouge</td>\n",
       "      <td>30.458283</td>\n",
       "      <td>-91.140320</td>\n",
       "      <td>1.848090</td>\n",
       "      <td>229426.0</td>\n",
       "      <td>LA</td>\n",
       "    </tr>\n",
       "    <tr>\n",
       "      <th>4</th>\n",
       "      <td>4602</td>\n",
       "      <td>Birmingham</td>\n",
       "      <td>33.520661</td>\n",
       "      <td>-86.802490</td>\n",
       "      <td>3.771575</td>\n",
       "      <td>212113.0</td>\n",
       "      <td>AL</td>\n",
       "    </tr>\n",
       "    <tr>\n",
       "      <th>5</th>\n",
       "      <td>5402</td>\n",
       "      <td>Boston</td>\n",
       "      <td>42.360082</td>\n",
       "      <td>-71.058880</td>\n",
       "      <td>0.950514</td>\n",
       "      <td>645966.0</td>\n",
       "      <td>MA</td>\n",
       "    </tr>\n",
       "    <tr>\n",
       "      <th>6</th>\n",
       "      <td>6016</td>\n",
       "      <td>Buffalo</td>\n",
       "      <td>42.886447</td>\n",
       "      <td>-78.878369</td>\n",
       "      <td>2.011901</td>\n",
       "      <td>258959.0</td>\n",
       "      <td>NY</td>\n",
       "    </tr>\n",
       "    <tr>\n",
       "      <th>7</th>\n",
       "      <td>6537</td>\n",
       "      <td>Charlotte</td>\n",
       "      <td>35.227087</td>\n",
       "      <td>-80.843127</td>\n",
       "      <td>0.866481</td>\n",
       "      <td>792862.0</td>\n",
       "      <td>NC</td>\n",
       "    </tr>\n",
       "    <tr>\n",
       "      <th>8</th>\n",
       "      <td>7224</td>\n",
       "      <td>Chicago</td>\n",
       "      <td>41.878114</td>\n",
       "      <td>-87.629798</td>\n",
       "      <td>2.035838</td>\n",
       "      <td>2718782.0</td>\n",
       "      <td>IL</td>\n",
       "    </tr>\n",
       "    <tr>\n",
       "      <th>9</th>\n",
       "      <td>12759</td>\n",
       "      <td>Cincinnati</td>\n",
       "      <td>39.103118</td>\n",
       "      <td>-84.512020</td>\n",
       "      <td>2.332640</td>\n",
       "      <td>297517.0</td>\n",
       "      <td>OH</td>\n",
       "    </tr>\n",
       "    <tr>\n",
       "      <th>10</th>\n",
       "      <td>13453</td>\n",
       "      <td>Columbus</td>\n",
       "      <td>39.961176</td>\n",
       "      <td>-82.998794</td>\n",
       "      <td>1.317848</td>\n",
       "      <td>822553.0</td>\n",
       "      <td>OH</td>\n",
       "    </tr>\n",
       "    <tr>\n",
       "      <th>11</th>\n",
       "      <td>14537</td>\n",
       "      <td>Dallas</td>\n",
       "      <td>32.776664</td>\n",
       "      <td>-96.796988</td>\n",
       "      <td>1.245949</td>\n",
       "      <td>1257676.0</td>\n",
       "      <td>TX</td>\n",
       "    </tr>\n",
       "    <tr>\n",
       "      <th>12</th>\n",
       "      <td>16104</td>\n",
       "      <td>Denver</td>\n",
       "      <td>39.739236</td>\n",
       "      <td>-104.990251</td>\n",
       "      <td>0.480373</td>\n",
       "      <td>649495.0</td>\n",
       "      <td>CO</td>\n",
       "    </tr>\n",
       "    <tr>\n",
       "      <th>13</th>\n",
       "      <td>16416</td>\n",
       "      <td>Detroit</td>\n",
       "      <td>42.331427</td>\n",
       "      <td>-83.045754</td>\n",
       "      <td>3.657610</td>\n",
       "      <td>688701.0</td>\n",
       "      <td>MI</td>\n",
       "    </tr>\n",
       "    <tr>\n",
       "      <th>14</th>\n",
       "      <td>18935</td>\n",
       "      <td>Durham</td>\n",
       "      <td>35.994033</td>\n",
       "      <td>-78.898619</td>\n",
       "      <td>1.124351</td>\n",
       "      <td>245475.0</td>\n",
       "      <td>NC</td>\n",
       "    </tr>\n",
       "    <tr>\n",
       "      <th>15</th>\n",
       "      <td>19211</td>\n",
       "      <td>Fort Worth</td>\n",
       "      <td>32.755488</td>\n",
       "      <td>-97.330766</td>\n",
       "      <td>0.692546</td>\n",
       "      <td>792727.0</td>\n",
       "      <td>TX</td>\n",
       "    </tr>\n",
       "    <tr>\n",
       "      <th>16</th>\n",
       "      <td>19760</td>\n",
       "      <td>Fresno</td>\n",
       "      <td>36.746842</td>\n",
       "      <td>-119.772587</td>\n",
       "      <td>0.955044</td>\n",
       "      <td>509924.0</td>\n",
       "      <td>CA</td>\n",
       "    </tr>\n",
       "    <tr>\n",
       "      <th>17</th>\n",
       "      <td>20247</td>\n",
       "      <td>Houston</td>\n",
       "      <td>29.760427</td>\n",
       "      <td>-95.369803</td>\n",
       "      <td>1.339761</td>\n",
       "      <td>2195914.0</td>\n",
       "      <td>TX</td>\n",
       "    </tr>\n",
       "    <tr>\n",
       "      <th>18</th>\n",
       "      <td>23189</td>\n",
       "      <td>Indianapolis</td>\n",
       "      <td>39.768403</td>\n",
       "      <td>-86.158068</td>\n",
       "      <td>1.567478</td>\n",
       "      <td>843393.0</td>\n",
       "      <td>IN</td>\n",
       "    </tr>\n",
       "    <tr>\n",
       "      <th>19</th>\n",
       "      <td>24511</td>\n",
       "      <td>Jacksonville</td>\n",
       "      <td>30.332184</td>\n",
       "      <td>-81.655651</td>\n",
       "      <td>1.386214</td>\n",
       "      <td>842583.0</td>\n",
       "      <td>FL</td>\n",
       "    </tr>\n",
       "    <tr>\n",
       "      <th>20</th>\n",
       "      <td>25679</td>\n",
       "      <td>Kansas City</td>\n",
       "      <td>39.099727</td>\n",
       "      <td>-94.578567</td>\n",
       "      <td>2.548142</td>\n",
       "      <td>467007.0</td>\n",
       "      <td>MO</td>\n",
       "    </tr>\n",
       "    <tr>\n",
       "      <th>21</th>\n",
       "      <td>26869</td>\n",
       "      <td>Las Vegas</td>\n",
       "      <td>36.169941</td>\n",
       "      <td>-115.139830</td>\n",
       "      <td>2.288364</td>\n",
       "      <td>603488.0</td>\n",
       "      <td>NV</td>\n",
       "    </tr>\n",
       "    <tr>\n",
       "      <th>22</th>\n",
       "      <td>28250</td>\n",
       "      <td>Long Beach</td>\n",
       "      <td>33.770050</td>\n",
       "      <td>-118.193740</td>\n",
       "      <td>0.805235</td>\n",
       "      <td>469428.0</td>\n",
       "      <td>CA</td>\n",
       "    </tr>\n",
       "    <tr>\n",
       "      <th>23</th>\n",
       "      <td>28628</td>\n",
       "      <td>Los Angeles</td>\n",
       "      <td>34.052234</td>\n",
       "      <td>-118.243685</td>\n",
       "      <td>0.581056</td>\n",
       "      <td>3884307.0</td>\n",
       "      <td>CA</td>\n",
       "    </tr>\n",
       "    <tr>\n",
       "      <th>24</th>\n",
       "      <td>30885</td>\n",
       "      <td>Louisville</td>\n",
       "      <td>38.252665</td>\n",
       "      <td>-85.758456</td>\n",
       "      <td>0.944428</td>\n",
       "      <td>609893.0</td>\n",
       "      <td>KY</td>\n",
       "    </tr>\n",
       "    <tr>\n",
       "      <th>25</th>\n",
       "      <td>31461</td>\n",
       "      <td>Memphis</td>\n",
       "      <td>35.149534</td>\n",
       "      <td>-90.048980</td>\n",
       "      <td>2.316933</td>\n",
       "      <td>653450.0</td>\n",
       "      <td>TN</td>\n",
       "    </tr>\n",
       "    <tr>\n",
       "      <th>26</th>\n",
       "      <td>32975</td>\n",
       "      <td>Miami</td>\n",
       "      <td>25.761680</td>\n",
       "      <td>-80.191790</td>\n",
       "      <td>1.781396</td>\n",
       "      <td>417650.0</td>\n",
       "      <td>FL</td>\n",
       "    </tr>\n",
       "    <tr>\n",
       "      <th>27</th>\n",
       "      <td>33719</td>\n",
       "      <td>Milwaukee</td>\n",
       "      <td>43.038902</td>\n",
       "      <td>-87.906474</td>\n",
       "      <td>1.860926</td>\n",
       "      <td>599164.0</td>\n",
       "      <td>WI</td>\n",
       "    </tr>\n",
       "    <tr>\n",
       "      <th>28</th>\n",
       "      <td>34834</td>\n",
       "      <td>Minneapolis</td>\n",
       "      <td>44.977753</td>\n",
       "      <td>-93.265011</td>\n",
       "      <td>0.914840</td>\n",
       "      <td>400070.0</td>\n",
       "      <td>MN</td>\n",
       "    </tr>\n",
       "    <tr>\n",
       "      <th>29</th>\n",
       "      <td>35200</td>\n",
       "      <td>Nashville</td>\n",
       "      <td>36.162664</td>\n",
       "      <td>-86.781602</td>\n",
       "      <td>1.208894</td>\n",
       "      <td>634464.0</td>\n",
       "      <td>TN</td>\n",
       "    </tr>\n",
       "    <tr>\n",
       "      <th>30</th>\n",
       "      <td>35967</td>\n",
       "      <td>New Orleans</td>\n",
       "      <td>29.951066</td>\n",
       "      <td>-90.071532</td>\n",
       "      <td>3.786489</td>\n",
       "      <td>378715.0</td>\n",
       "      <td>LA</td>\n",
       "    </tr>\n",
       "    <tr>\n",
       "      <th>31</th>\n",
       "      <td>37401</td>\n",
       "      <td>New York</td>\n",
       "      <td>40.712784</td>\n",
       "      <td>-74.005941</td>\n",
       "      <td>0.074591</td>\n",
       "      <td>8405837.0</td>\n",
       "      <td>NY</td>\n",
       "    </tr>\n",
       "    <tr>\n",
       "      <th>32</th>\n",
       "      <td>38028</td>\n",
       "      <td>Oakland</td>\n",
       "      <td>37.804364</td>\n",
       "      <td>-122.271114</td>\n",
       "      <td>2.331060</td>\n",
       "      <td>406253.0</td>\n",
       "      <td>CA</td>\n",
       "    </tr>\n",
       "    <tr>\n",
       "      <th>33</th>\n",
       "      <td>38975</td>\n",
       "      <td>Oklahoma City</td>\n",
       "      <td>35.467560</td>\n",
       "      <td>-97.516428</td>\n",
       "      <td>1.100533</td>\n",
       "      <td>610613.0</td>\n",
       "      <td>OK</td>\n",
       "    </tr>\n",
       "    <tr>\n",
       "      <th>34</th>\n",
       "      <td>39647</td>\n",
       "      <td>Omaha</td>\n",
       "      <td>41.252363</td>\n",
       "      <td>-95.997988</td>\n",
       "      <td>0.941630</td>\n",
       "      <td>434353.0</td>\n",
       "      <td>NE</td>\n",
       "    </tr>\n",
       "    <tr>\n",
       "      <th>35</th>\n",
       "      <td>40056</td>\n",
       "      <td>Philadelphia</td>\n",
       "      <td>39.952584</td>\n",
       "      <td>-75.165222</td>\n",
       "      <td>1.955362</td>\n",
       "      <td>1553165.0</td>\n",
       "      <td>PA</td>\n",
       "    </tr>\n",
       "    <tr>\n",
       "      <th>36</th>\n",
       "      <td>43093</td>\n",
       "      <td>Phoenix</td>\n",
       "      <td>33.448377</td>\n",
       "      <td>-112.074037</td>\n",
       "      <td>0.603951</td>\n",
       "      <td>1513367.0</td>\n",
       "      <td>AZ</td>\n",
       "    </tr>\n",
       "    <tr>\n",
       "      <th>37</th>\n",
       "      <td>44007</td>\n",
       "      <td>Pittsburgh</td>\n",
       "      <td>40.440625</td>\n",
       "      <td>-79.995886</td>\n",
       "      <td>2.063164</td>\n",
       "      <td>305841.0</td>\n",
       "      <td>PA</td>\n",
       "    </tr>\n",
       "    <tr>\n",
       "      <th>38</th>\n",
       "      <td>44638</td>\n",
       "      <td>Richmond</td>\n",
       "      <td>37.540725</td>\n",
       "      <td>-77.436048</td>\n",
       "      <td>2.003606</td>\n",
       "      <td>214114.0</td>\n",
       "      <td>VA</td>\n",
       "    </tr>\n",
       "    <tr>\n",
       "      <th>39</th>\n",
       "      <td>45067</td>\n",
       "      <td>Sacramento</td>\n",
       "      <td>38.581572</td>\n",
       "      <td>-121.494400</td>\n",
       "      <td>0.783846</td>\n",
       "      <td>479686.0</td>\n",
       "      <td>CA</td>\n",
       "    </tr>\n",
       "    <tr>\n",
       "      <th>40</th>\n",
       "      <td>45443</td>\n",
       "      <td>San Antonio</td>\n",
       "      <td>29.424122</td>\n",
       "      <td>-98.493628</td>\n",
       "      <td>0.591191</td>\n",
       "      <td>1409019.0</td>\n",
       "      <td>TX</td>\n",
       "    </tr>\n",
       "    <tr>\n",
       "      <th>41</th>\n",
       "      <td>46276</td>\n",
       "      <td>San Bernardino</td>\n",
       "      <td>34.108345</td>\n",
       "      <td>-117.289765</td>\n",
       "      <td>1.286803</td>\n",
       "      <td>213708.0</td>\n",
       "      <td>CA</td>\n",
       "    </tr>\n",
       "    <tr>\n",
       "      <th>42</th>\n",
       "      <td>46551</td>\n",
       "      <td>San Diego</td>\n",
       "      <td>32.715738</td>\n",
       "      <td>-117.161084</td>\n",
       "      <td>0.339997</td>\n",
       "      <td>1355896.0</td>\n",
       "      <td>CA</td>\n",
       "    </tr>\n",
       "    <tr>\n",
       "      <th>43</th>\n",
       "      <td>47012</td>\n",
       "      <td>San Francisco</td>\n",
       "      <td>37.774929</td>\n",
       "      <td>-122.419415</td>\n",
       "      <td>0.791697</td>\n",
       "      <td>837442.0</td>\n",
       "      <td>CA</td>\n",
       "    </tr>\n",
       "    <tr>\n",
       "      <th>44</th>\n",
       "      <td>47675</td>\n",
       "      <td>Savannah</td>\n",
       "      <td>32.083541</td>\n",
       "      <td>-81.099834</td>\n",
       "      <td>1.723027</td>\n",
       "      <td>142772.0</td>\n",
       "      <td>GA</td>\n",
       "    </tr>\n",
       "    <tr>\n",
       "      <th>45</th>\n",
       "      <td>47921</td>\n",
       "      <td>St. Louis</td>\n",
       "      <td>38.627003</td>\n",
       "      <td>-90.199404</td>\n",
       "      <td>5.266695</td>\n",
       "      <td>318416.0</td>\n",
       "      <td>MO</td>\n",
       "    </tr>\n",
       "    <tr>\n",
       "      <th>46</th>\n",
       "      <td>49598</td>\n",
       "      <td>Stockton</td>\n",
       "      <td>37.957702</td>\n",
       "      <td>-121.290780</td>\n",
       "      <td>1.489343</td>\n",
       "      <td>298118.0</td>\n",
       "      <td>CA</td>\n",
       "    </tr>\n",
       "    <tr>\n",
       "      <th>47</th>\n",
       "      <td>50042</td>\n",
       "      <td>Tampa</td>\n",
       "      <td>27.950575</td>\n",
       "      <td>-82.457178</td>\n",
       "      <td>0.589307</td>\n",
       "      <td>352957.0</td>\n",
       "      <td>FL</td>\n",
       "    </tr>\n",
       "    <tr>\n",
       "      <th>48</th>\n",
       "      <td>50250</td>\n",
       "      <td>Tulsa</td>\n",
       "      <td>36.153982</td>\n",
       "      <td>-95.992775</td>\n",
       "      <td>1.466891</td>\n",
       "      <td>398121.0</td>\n",
       "      <td>OK</td>\n",
       "    </tr>\n",
       "    <tr>\n",
       "      <th>50</th>\n",
       "      <td>50834</td>\n",
       "      <td>Washington</td>\n",
       "      <td>38.907192</td>\n",
       "      <td>-77.036871</td>\n",
       "      <td>2.080597</td>\n",
       "      <td>646449.0</td>\n",
       "      <td>DC</td>\n",
       "    </tr>\n",
       "  </tbody>\n",
       "</table>\n",
       "</div>"
      ],
      "text/plain": [
       "    index            city    avg_lat     avg_lon  No_homocides_norm_pr1000  \\\n",
       "0       0     Albuquerque  35.085334 -106.605553                  0.679251   \n",
       "1     378         Atlanta  33.748995  -84.387982                  2.172646   \n",
       "2    1351       Baltimore  39.290385  -76.612189                  4.544256   \n",
       "3    4178     Baton Rouge  30.458283  -91.140320                  1.848090   \n",
       "4    4602      Birmingham  33.520661  -86.802490                  3.771575   \n",
       "5    5402          Boston  42.360082  -71.058880                  0.950514   \n",
       "6    6016         Buffalo  42.886447  -78.878369                  2.011901   \n",
       "7    6537       Charlotte  35.227087  -80.843127                  0.866481   \n",
       "8    7224         Chicago  41.878114  -87.629798                  2.035838   \n",
       "9   12759      Cincinnati  39.103118  -84.512020                  2.332640   \n",
       "10  13453        Columbus  39.961176  -82.998794                  1.317848   \n",
       "11  14537          Dallas  32.776664  -96.796988                  1.245949   \n",
       "12  16104          Denver  39.739236 -104.990251                  0.480373   \n",
       "13  16416         Detroit  42.331427  -83.045754                  3.657610   \n",
       "14  18935          Durham  35.994033  -78.898619                  1.124351   \n",
       "15  19211      Fort Worth  32.755488  -97.330766                  0.692546   \n",
       "16  19760          Fresno  36.746842 -119.772587                  0.955044   \n",
       "17  20247         Houston  29.760427  -95.369803                  1.339761   \n",
       "18  23189    Indianapolis  39.768403  -86.158068                  1.567478   \n",
       "19  24511    Jacksonville  30.332184  -81.655651                  1.386214   \n",
       "20  25679     Kansas City  39.099727  -94.578567                  2.548142   \n",
       "21  26869       Las Vegas  36.169941 -115.139830                  2.288364   \n",
       "22  28250      Long Beach  33.770050 -118.193740                  0.805235   \n",
       "23  28628     Los Angeles  34.052234 -118.243685                  0.581056   \n",
       "24  30885      Louisville  38.252665  -85.758456                  0.944428   \n",
       "25  31461         Memphis  35.149534  -90.048980                  2.316933   \n",
       "26  32975           Miami  25.761680  -80.191790                  1.781396   \n",
       "27  33719       Milwaukee  43.038902  -87.906474                  1.860926   \n",
       "28  34834     Minneapolis  44.977753  -93.265011                  0.914840   \n",
       "29  35200       Nashville  36.162664  -86.781602                  1.208894   \n",
       "30  35967     New Orleans  29.951066  -90.071532                  3.786489   \n",
       "31  37401        New York  40.712784  -74.005941                  0.074591   \n",
       "32  38028         Oakland  37.804364 -122.271114                  2.331060   \n",
       "33  38975   Oklahoma City  35.467560  -97.516428                  1.100533   \n",
       "34  39647           Omaha  41.252363  -95.997988                  0.941630   \n",
       "35  40056    Philadelphia  39.952584  -75.165222                  1.955362   \n",
       "36  43093         Phoenix  33.448377 -112.074037                  0.603951   \n",
       "37  44007      Pittsburgh  40.440625  -79.995886                  2.063164   \n",
       "38  44638        Richmond  37.540725  -77.436048                  2.003606   \n",
       "39  45067      Sacramento  38.581572 -121.494400                  0.783846   \n",
       "40  45443     San Antonio  29.424122  -98.493628                  0.591191   \n",
       "41  46276  San Bernardino  34.108345 -117.289765                  1.286803   \n",
       "42  46551       San Diego  32.715738 -117.161084                  0.339997   \n",
       "43  47012   San Francisco  37.774929 -122.419415                  0.791697   \n",
       "44  47675        Savannah  32.083541  -81.099834                  1.723027   \n",
       "45  47921       St. Louis  38.627003  -90.199404                  5.266695   \n",
       "46  49598        Stockton  37.957702 -121.290780                  1.489343   \n",
       "47  50042           Tampa  27.950575  -82.457178                  0.589307   \n",
       "48  50250           Tulsa  36.153982  -95.992775                  1.466891   \n",
       "50  50834      Washington  38.907192  -77.036871                  2.080597   \n",
       "\n",
       "    Population state  \n",
       "0     556495.0    NM  \n",
       "1     447841.0    GA  \n",
       "2     622104.0    MD  \n",
       "3     229426.0    LA  \n",
       "4     212113.0    AL  \n",
       "5     645966.0    MA  \n",
       "6     258959.0    NY  \n",
       "7     792862.0    NC  \n",
       "8    2718782.0    IL  \n",
       "9     297517.0    OH  \n",
       "10    822553.0    OH  \n",
       "11   1257676.0    TX  \n",
       "12    649495.0    CO  \n",
       "13    688701.0    MI  \n",
       "14    245475.0    NC  \n",
       "15    792727.0    TX  \n",
       "16    509924.0    CA  \n",
       "17   2195914.0    TX  \n",
       "18    843393.0    IN  \n",
       "19    842583.0    FL  \n",
       "20    467007.0    MO  \n",
       "21    603488.0    NV  \n",
       "22    469428.0    CA  \n",
       "23   3884307.0    CA  \n",
       "24    609893.0    KY  \n",
       "25    653450.0    TN  \n",
       "26    417650.0    FL  \n",
       "27    599164.0    WI  \n",
       "28    400070.0    MN  \n",
       "29    634464.0    TN  \n",
       "30    378715.0    LA  \n",
       "31   8405837.0    NY  \n",
       "32    406253.0    CA  \n",
       "33    610613.0    OK  \n",
       "34    434353.0    NE  \n",
       "35   1553165.0    PA  \n",
       "36   1513367.0    AZ  \n",
       "37    305841.0    PA  \n",
       "38    214114.0    VA  \n",
       "39    479686.0    CA  \n",
       "40   1409019.0    TX  \n",
       "41    213708.0    CA  \n",
       "42   1355896.0    CA  \n",
       "43    837442.0    CA  \n",
       "44    142772.0    GA  \n",
       "45    318416.0    MO  \n",
       "46    298118.0    CA  \n",
       "47    352957.0    FL  \n",
       "48    398121.0    OK  \n",
       "50    646449.0    DC  "
      ]
     },
     "execution_count": 149,
     "metadata": {},
     "output_type": "execute_result"
    }
   ],
   "source": [
    "avg_city_coords"
   ]
  },
  {
   "cell_type": "markdown",
   "metadata": {},
   "source": [
    "Dash app"
   ]
  },
  {
   "cell_type": "code",
   "execution_count": 150,
   "metadata": {},
   "outputs": [
    {
     "name": "stdout",
     "output_type": "stream",
     "text": [
      "Dash app running on http://127.0.0.1:8050/\n"
     ]
    },
    {
     "data": {
      "application/javascript": "window.open('http://127.0.0.1:8050/')",
      "text/plain": [
       "<IPython.core.display.Javascript object>"
      ]
     },
     "metadata": {},
     "output_type": "display_data"
    }
   ],
   "source": [
    "app = dash.Dash(__name__)\n",
    "\n",
    "cityoptions = [{'label': 'Select all', 'value': 'all cities'}]+[{'label': city, 'value': city} for city in sorted(df['city'].unique())]\n",
    "raceoptions = [{'label': 'Select all', 'value': 'all'}]+[{'label': r, 'value': r} for r in sorted(df['victim_race'].unique())]\n",
    "sexoptions = [{'label': 'Select all', 'value': 'all'}]+[{'label': s, 'value': s} for s in sorted(df['victim_sex'].unique())]\n",
    "\n",
    "# Define layout\n",
    "app.layout = html.Div([\n",
    "    html.H4(id='title-output',style={\"margin-bottom\":\"5px\",\"margin-top\":\"1px\",\"font-size\":\"20px\",\"text-align\":\"center\"}),\n",
    "    dcc.Dropdown(\n",
    "        id='city_dropdown',\n",
    "        options = cityoptions,\n",
    "        value = 'all cities', #default\n",
    "        #value = None,\n",
    "        #placeholder = \"Select city\",\n",
    "        clearable=False,\n",
    "        style={\"width\": \"200px\", \"display\": \"inline-block\",\"margin-top\":\"0\"}\n",
    "    ),\n",
    "        dcc.Dropdown(\n",
    "        id='race_dropdown',\n",
    "        options = raceoptions,\n",
    "        value = 'all', #default\n",
    "        #value = None,\n",
    "        #placeholder = \"Select race\",\n",
    "        clearable=False,\n",
    "        style={\"width\": \"200px\", \"display\": \"inline-block\",\"margin-top\":\"0\"}\n",
    "    ),\n",
    "        dcc.Dropdown(\n",
    "        id='sex_dropdown',\n",
    "        options = sexoptions,\n",
    "        value = 'all', #default\n",
    "        #value = None,\n",
    "        #placeholder = \"Select gender\",\n",
    "        clearable=False,\n",
    "        style={\"width\": \"200px\", \"display\": \"inline-block\",\"margin-top\":\"0\"}\n",
    "    ),\n",
    "    dcc.Graph(id = 'murder-map'),\n",
    "    dcc.Graph(id = 'disp-colchart'),\n",
    "    dcc.Graph(id = 'arrested-linechart'),\n",
    "dcc.Store(id='selected-city', data = 'all cities')\n",
    "])\n",
    "\n",
    "\n",
    "def make_colchart(df):\n",
    "    fig = go.Figure(data=go.Bar(x=np.unique(df[\"disposition\"]), y=df[\"disposition\"].value_counts(),\n",
    "                    marker_color=\"Gold\"))\n",
    "    fig.update_layout(dragmode='zoom',width=500, height=290)\n",
    "    fig.update_layout(margin={\"r\": 5, \"t\": 5, \"l\": 5, \"b\": 5}) \n",
    "    return fig\n",
    "\n",
    "\n",
    "def make_linechart(df):\n",
    "    if len(df) == 0:\n",
    "        fig = px.scatter(title='No data available')\n",
    "        return fig\n",
    "    else:\n",
    "        grouped = df.groupby(['month', 'disposition']).size().unstack(fill_value=0)\n",
    "\n",
    "        # Calculate the proportion of closed cases by arrest\n",
    "        grouped['closed_arrested'] = grouped['Closed by arrest'] / grouped.sum(axis=1)\n",
    "\n",
    "        # Calculate the rolling average\n",
    "        window = 6  # You can adjust the window size\n",
    "        grouped['smoothed'] = grouped['closed_arrested'].rolling(window=window).mean()\n",
    "\n",
    "        # Create a line chart\n",
    "        fig = px.line(grouped, \n",
    "                    x=grouped.index, \n",
    "                    y='closed_arrested', \n",
    "                    title='Proportion of Closed Cases by Arrest Over Time')\n",
    "\n",
    "        # Add smoothed line\n",
    "        fig.add_scatter(x=grouped.index, y=grouped['smoothed'], mode='lines', name='Smoothed', line=dict(color='red'))\n",
    "\n",
    "        return fig\n",
    "\n",
    "def make_map2(df, city):\n",
    "    fig = px.scatter_mapbox(\n",
    "        df if city != 'all cities' else avg_city_coords,\n",
    "        lat=\"lat\" if city != 'all cities' else 'avg_lat',\n",
    "        lon=\"lon\" if city != 'all cities' else 'avg_lon',\n",
    "        hover_name=\"victim_full_name\" if city != 'all cities' else 'city',\n",
    "        hover_data=[\"victim_race\", \"victim_age\", \"victim_sex\", \"reported_date\"] if city != 'all cities' else None,\n",
    "        color = \"disposition\"  if city != 'all cities' else None,\n",
    "        size='No_homocides_norm_pr1000',#if city=='all citites' else None,\n",
    "        height=700\n",
    "    )\n",
    "    #title = f'Murders in {city}' if city is not None else ''\n",
    "\n",
    "    #if city == 'all cities':\n",
    "    #    fig.update_traces(marker={'size': 10})\n",
    "\n",
    "    \n",
    "    fig.update_layout(mapbox_style=\"light\", \n",
    "                      mapbox_accesstoken=mapbox_token, \n",
    "                      #title = title,\n",
    "                      #mapbox_center={\"lat\": center_lat, \"lon\": center_lon},  \n",
    "                      #mapbox_zoom = 10,\n",
    "                      autosize = True\n",
    "                      )\n",
    "    \n",
    "    fig.update_layout(mapbox_zoom = 9 if city != 'all cities' else 3.9)\n",
    "\n",
    "    fig.update_traces(uirevision='persist')\n",
    "    \n",
    "    fig.update_layout(margin={\"r\": 0, \"l\": 0, \"b\": 0})\n",
    "    fig.update_layout(clickmode='event+select',\n",
    "                      hovermode='closest')\n",
    "    return fig\n",
    "\n",
    "'''\n",
    "def make_map(city):\n",
    "    filtered_df = df[df['city'] == city] if city != 'all cities' else df.groupby('city').agg({'lat': 'mean', 'lon': 'mean'}).reset_index()\n",
    "\n",
    "\n",
    "    fig = px.scatter_mapbox(\n",
    "        filtered_df,\n",
    "        lat=\"lat\",\n",
    "        lon=\"lon\",\n",
    "        hover_name=\"victim_full_name\" if city != 'all cities' else 'city',\n",
    "        hover_data=[\"victim_race\", \"victim_age\", \"victim_sex\"] if city != 'all cities' else None,\n",
    "        color = \"disposition\"  if city != 'all cities' else None,\n",
    "        height=700\n",
    "    )\n",
    "    \n",
    "    title = f'Murders in {city}' if city is not None else ''\n",
    "\n",
    "    \n",
    "    fig.update_layout(mapbox_style=\"light\", \n",
    "                      mapbox_accesstoken=mapbox_token, \n",
    "                      title = title,\n",
    "                      #mapbox_center={\"lat\": center_lat, \"lon\": center_lon},  \n",
    "                      #mapbox_zoom = 10,\n",
    "                      autosize = True\n",
    "                      )\n",
    "    \n",
    "    fig.update_layout(mapbox_zoom = 9 if city != 'all cities' else 3.9)\n",
    "\n",
    "    fig.update_traces(uirevision='persist')\n",
    "    \n",
    "    fig.update_layout(margin={\"r\": 0, \"l\": 0, \"b\": 0})\n",
    "    fig.update_layout(clickmode='event+select',\n",
    "                      hovermode='closest')\n",
    "    return fig\n",
    "'''\n",
    "\n",
    "#helper function to filter data based on city, race, sex\n",
    "def filter_df(selected_city, selected_race, selected_sex, df = df):\n",
    "    all_cities_filter = selected_city == 'all cities'\n",
    "    all_race_filter = selected_race == 'all'\n",
    "    all_sex_filter = selected_sex == 'all'\n",
    "\n",
    "    if all_cities_filter and all_race_filter and all_sex_filter:\n",
    "        # Handle the case when all filters are 'all'\n",
    "        filtered_df = df  # Include all data\n",
    "    else:\n",
    "        city_filter = df['city'] == selected_city if not all_cities_filter else True\n",
    "        race_filter = df['victim_race'] == selected_race if not all_race_filter else True\n",
    "        sex_filter = df['victim_sex'] == selected_sex if not all_sex_filter else True\n",
    "\n",
    "        filtered_df = df[city_filter & race_filter & sex_filter]\n",
    "    return filtered_df\n",
    "\n",
    "\n",
    "\n",
    "@app.callback(\n",
    "    [Output('murder-map', 'figure'),\n",
    "    Output('disp-colchart', 'figure'),\n",
    "    Output('arrested-linechart', 'figure')],\n",
    "    \n",
    "    [Input('city_dropdown', 'value'),\n",
    "     Input('race_dropdown', 'value'),\n",
    "     Input('sex_dropdown', 'value')\n",
    "    ]\n",
    ")\n",
    "def update_figs_on_dropdowns(selected_city, selected_race, selected_sex):\n",
    "    filtered_df = filter_df(selected_city, selected_race, selected_sex)\n",
    "\n",
    "    fig_map = make_map2(filtered_df, selected_city)\n",
    "    fig_col = make_colchart(filtered_df)\n",
    "    fig_line = make_linechart(filtered_df)\n",
    "    return fig_map, fig_col, fig_line\n",
    "\n",
    "\n",
    "@app.callback(\n",
    "    [Output('disp-colchart', 'figure', allow_duplicate=True),\n",
    "     Output('arrested-linechart', 'figure', allow_duplicate = True)], \n",
    "    [Input('murder-map', 'selectedData')],\n",
    "    [State('city_dropdown', 'value'), State('race_dropdown', 'value'), State('sex_dropdown', 'value')],\n",
    "    prevent_initial_call = True\n",
    ")\n",
    "def update_colchart_on_map_selection(selected_data, selected_city, selected_race, selected_sex):\n",
    "    if selected_data:\n",
    "        # Extract the selected points from the map\n",
    "        selected_points = selected_data['points']\n",
    "\n",
    "        # Get the victim_full_name(s) from the selected points\n",
    "        selected_names = [point['hovertext'] for point in selected_points]\n",
    "\n",
    "        # Filter the DataFrame based on selected names, city, race, and sex\n",
    "        filtered_df = df[df['victim_full_name'].isin(selected_names)]\n",
    "        filtered_df = filter_df(selected_city, selected_race, selected_sex, filtered_df)\n",
    "\n",
    "        # Generate the column chart using the filtered DataFrame\n",
    "        fig_col = make_colchart(filtered_df)\n",
    "        fig_line = make_linechart(filtered_df)\n",
    "        return fig_col, fig_line\n",
    "    else:\n",
    "        fig_col = make_colchart(filter_df(selected_city, selected_race, selected_sex))\n",
    "        fig_line = make_linechart(filter_df(selected_city, selected_race, selected_sex))\n",
    "        return fig_col, fig_line\n",
    "    \n",
    "\n",
    "\n",
    "\n",
    "@app.callback(\n",
    "    Output('city_dropdown', 'value'),\n",
    "    Input('selected-city', 'data'),\n",
    "    prevent_initial_call = True\n",
    ")\n",
    "def update_city_dropdown(selected_city):\n",
    "    return selected_city\n",
    "\n",
    "@app.callback(\n",
    "    Output('selected-city', 'data'),\n",
    "    [Input('murder-map', 'clickData')],\n",
    "    [State('city_dropdown', 'value')]\n",
    ")\n",
    "def update_on_click(click_data, selected_city):\n",
    "    if selected_city == 'all cities':\n",
    "        if click_data:\n",
    "            selected_city = click_data['points'][0]['hovertext']\n",
    "            return selected_city\n",
    "    raise PreventUpdate\n",
    "\n",
    "@app.callback(\n",
    "    Output('title-output', 'children'),\n",
    "    [Input('city_dropdown', 'value')]\n",
    ")\n",
    "def update_title(city):\n",
    "    city_list = [city for city in df['city'].unique()]\n",
    "    if city in city_list:\n",
    "        return f'Murders in {city}' \n",
    "    else:\n",
    "        return 'Murders in the US'\n",
    "\n",
    "\n",
    "if __name__ == '__main__':\n",
    "    app.run_server(debug=True, jupyter_mode = \"tab\", port = 8050)\n"
   ]
  },
  {
   "cell_type": "markdown",
   "metadata": {},
   "source": [
    "Testing things"
   ]
  },
  {
   "cell_type": "code",
   "execution_count": 151,
   "metadata": {},
   "outputs": [
    {
     "ename": "ValueError",
     "evalue": "Mime type rendering requires nbformat>=4.2.0 but it is not installed",
     "output_type": "error",
     "traceback": [
      "\u001b[1;31m---------------------------------------------------------------------------\u001b[0m",
      "\u001b[1;31mValueError\u001b[0m                                Traceback (most recent call last)",
      "File \u001b[1;32m~\\AppData\\Local\\Packages\\PythonSoftwareFoundation.Python.3.11_qbz5n2kfra8p0\\LocalCache\\local-packages\\Python311\\site-packages\\IPython\\core\\formatters.py:922\u001b[0m, in \u001b[0;36mIPythonDisplayFormatter.__call__\u001b[1;34m(self, obj)\u001b[0m\n\u001b[0;32m    920\u001b[0m method \u001b[39m=\u001b[39m get_real_method(obj, \u001b[39mself\u001b[39m\u001b[39m.\u001b[39mprint_method)\n\u001b[0;32m    921\u001b[0m \u001b[39mif\u001b[39;00m method \u001b[39mis\u001b[39;00m \u001b[39mnot\u001b[39;00m \u001b[39mNone\u001b[39;00m:\n\u001b[1;32m--> 922\u001b[0m     method()\n\u001b[0;32m    923\u001b[0m     \u001b[39mreturn\u001b[39;00m \u001b[39mTrue\u001b[39;00m\n",
      "File \u001b[1;32m~\\AppData\\Local\\Packages\\PythonSoftwareFoundation.Python.3.11_qbz5n2kfra8p0\\LocalCache\\local-packages\\Python311\\site-packages\\plotly\\basedatatypes.py:834\u001b[0m, in \u001b[0;36mBaseFigure._ipython_display_\u001b[1;34m(self)\u001b[0m\n\u001b[0;32m    831\u001b[0m \u001b[39mimport\u001b[39;00m \u001b[39mplotly\u001b[39;00m\u001b[39m.\u001b[39;00m\u001b[39mio\u001b[39;00m \u001b[39mas\u001b[39;00m \u001b[39mpio\u001b[39;00m\n\u001b[0;32m    833\u001b[0m \u001b[39mif\u001b[39;00m pio\u001b[39m.\u001b[39mrenderers\u001b[39m.\u001b[39mrender_on_display \u001b[39mand\u001b[39;00m pio\u001b[39m.\u001b[39mrenderers\u001b[39m.\u001b[39mdefault:\n\u001b[1;32m--> 834\u001b[0m     pio\u001b[39m.\u001b[39;49mshow(\u001b[39mself\u001b[39;49m)\n\u001b[0;32m    835\u001b[0m \u001b[39melse\u001b[39;00m:\n\u001b[0;32m    836\u001b[0m     \u001b[39mprint\u001b[39m(\u001b[39mrepr\u001b[39m(\u001b[39mself\u001b[39m))\n",
      "File \u001b[1;32m~\\AppData\\Local\\Packages\\PythonSoftwareFoundation.Python.3.11_qbz5n2kfra8p0\\LocalCache\\local-packages\\Python311\\site-packages\\plotly\\io\\_renderers.py:396\u001b[0m, in \u001b[0;36mshow\u001b[1;34m(fig, renderer, validate, **kwargs)\u001b[0m\n\u001b[0;32m    391\u001b[0m         \u001b[39mraise\u001b[39;00m \u001b[39mValueError\u001b[39;00m(\n\u001b[0;32m    392\u001b[0m             \u001b[39m\"\u001b[39m\u001b[39mMime type rendering requires ipython but it is not installed\u001b[39m\u001b[39m\"\u001b[39m\n\u001b[0;32m    393\u001b[0m         )\n\u001b[0;32m    395\u001b[0m     \u001b[39mif\u001b[39;00m \u001b[39mnot\u001b[39;00m nbformat \u001b[39mor\u001b[39;00m Version(nbformat\u001b[39m.\u001b[39m__version__) \u001b[39m<\u001b[39m Version(\u001b[39m\"\u001b[39m\u001b[39m4.2.0\u001b[39m\u001b[39m\"\u001b[39m):\n\u001b[1;32m--> 396\u001b[0m         \u001b[39mraise\u001b[39;00m \u001b[39mValueError\u001b[39;00m(\n\u001b[0;32m    397\u001b[0m             \u001b[39m\"\u001b[39m\u001b[39mMime type rendering requires nbformat>=4.2.0 but it is not installed\u001b[39m\u001b[39m\"\u001b[39m\n\u001b[0;32m    398\u001b[0m         )\n\u001b[0;32m    400\u001b[0m     ipython_display\u001b[39m.\u001b[39mdisplay(bundle, raw\u001b[39m=\u001b[39m\u001b[39mTrue\u001b[39;00m)\n\u001b[0;32m    402\u001b[0m \u001b[39m# external renderers\u001b[39;00m\n",
      "\u001b[1;31mValueError\u001b[0m: Mime type rendering requires nbformat>=4.2.0 but it is not installed"
     ]
    },
    {
     "data": {
      "application/vnd.plotly.v1+json": {
       "config": {
        "plotlyServerURL": "https://plot.ly"
       },
       "data": [
        {
         "hovertemplate": "month=%{x}<br>closed_arrested=%{y}<extra></extra>",
         "legendgroup": "",
         "line": {
          "color": "#636efa",
          "dash": "solid"
         },
         "marker": {
          "symbol": "circle"
         },
         "mode": "lines",
         "name": "",
         "orientation": "v",
         "showlegend": false,
         "type": "scatter",
         "x": [
          "2007-06",
          "2007-09",
          "2007-12",
          "2008-06",
          "2008-09",
          "2008-11",
          "2009-01",
          "2009-02",
          "2009-04",
          "2010-03",
          "2010-04",
          "2010-12",
          "2011-09",
          "2014-09",
          "2015-09",
          "2015-10",
          "2015-11",
          "2016-07",
          "2016-09",
          "2016-10"
         ],
         "xaxis": "x",
         "y": [
          0,
          0,
          0,
          0,
          1,
          0,
          0,
          1,
          1,
          1,
          1,
          1,
          1,
          0,
          0,
          0,
          0,
          1,
          0,
          1
         ],
         "yaxis": "y"
        },
        {
         "line": {
          "color": "red"
         },
         "mode": "lines",
         "name": "Smoothed",
         "type": "scatter",
         "x": [
          "2007-06",
          "2007-09",
          "2007-12",
          "2008-06",
          "2008-09",
          "2008-11",
          "2009-01",
          "2009-02",
          "2009-04",
          "2010-03",
          "2010-04",
          "2010-12",
          "2011-09",
          "2014-09",
          "2015-09",
          "2015-10",
          "2015-11",
          "2016-07",
          "2016-09",
          "2016-10"
         ],
         "y": [
          null,
          null,
          null,
          null,
          null,
          0.16666666666666666,
          0.16666666666666666,
          0.3333333333333333,
          0.5,
          0.6666666666666666,
          0.6666666666666666,
          0.8333333333333334,
          1,
          0.8333333333333334,
          0.6666666666666666,
          0.5,
          0.3333333333333333,
          0.3333333333333333,
          0.16666666666666666,
          0.3333333333333333
         ]
        }
       ],
       "layout": {
        "legend": {
         "tracegroupgap": 0
        },
        "template": {
         "data": {
          "bar": [
           {
            "error_x": {
             "color": "#2a3f5f"
            },
            "error_y": {
             "color": "#2a3f5f"
            },
            "marker": {
             "line": {
              "color": "#E5ECF6",
              "width": 0.5
             },
             "pattern": {
              "fillmode": "overlay",
              "size": 10,
              "solidity": 0.2
             }
            },
            "type": "bar"
           }
          ],
          "barpolar": [
           {
            "marker": {
             "line": {
              "color": "#E5ECF6",
              "width": 0.5
             },
             "pattern": {
              "fillmode": "overlay",
              "size": 10,
              "solidity": 0.2
             }
            },
            "type": "barpolar"
           }
          ],
          "carpet": [
           {
            "aaxis": {
             "endlinecolor": "#2a3f5f",
             "gridcolor": "white",
             "linecolor": "white",
             "minorgridcolor": "white",
             "startlinecolor": "#2a3f5f"
            },
            "baxis": {
             "endlinecolor": "#2a3f5f",
             "gridcolor": "white",
             "linecolor": "white",
             "minorgridcolor": "white",
             "startlinecolor": "#2a3f5f"
            },
            "type": "carpet"
           }
          ],
          "choropleth": [
           {
            "colorbar": {
             "outlinewidth": 0,
             "ticks": ""
            },
            "type": "choropleth"
           }
          ],
          "contour": [
           {
            "colorbar": {
             "outlinewidth": 0,
             "ticks": ""
            },
            "colorscale": [
             [
              0,
              "#0d0887"
             ],
             [
              0.1111111111111111,
              "#46039f"
             ],
             [
              0.2222222222222222,
              "#7201a8"
             ],
             [
              0.3333333333333333,
              "#9c179e"
             ],
             [
              0.4444444444444444,
              "#bd3786"
             ],
             [
              0.5555555555555556,
              "#d8576b"
             ],
             [
              0.6666666666666666,
              "#ed7953"
             ],
             [
              0.7777777777777778,
              "#fb9f3a"
             ],
             [
              0.8888888888888888,
              "#fdca26"
             ],
             [
              1,
              "#f0f921"
             ]
            ],
            "type": "contour"
           }
          ],
          "contourcarpet": [
           {
            "colorbar": {
             "outlinewidth": 0,
             "ticks": ""
            },
            "type": "contourcarpet"
           }
          ],
          "heatmap": [
           {
            "colorbar": {
             "outlinewidth": 0,
             "ticks": ""
            },
            "colorscale": [
             [
              0,
              "#0d0887"
             ],
             [
              0.1111111111111111,
              "#46039f"
             ],
             [
              0.2222222222222222,
              "#7201a8"
             ],
             [
              0.3333333333333333,
              "#9c179e"
             ],
             [
              0.4444444444444444,
              "#bd3786"
             ],
             [
              0.5555555555555556,
              "#d8576b"
             ],
             [
              0.6666666666666666,
              "#ed7953"
             ],
             [
              0.7777777777777778,
              "#fb9f3a"
             ],
             [
              0.8888888888888888,
              "#fdca26"
             ],
             [
              1,
              "#f0f921"
             ]
            ],
            "type": "heatmap"
           }
          ],
          "heatmapgl": [
           {
            "colorbar": {
             "outlinewidth": 0,
             "ticks": ""
            },
            "colorscale": [
             [
              0,
              "#0d0887"
             ],
             [
              0.1111111111111111,
              "#46039f"
             ],
             [
              0.2222222222222222,
              "#7201a8"
             ],
             [
              0.3333333333333333,
              "#9c179e"
             ],
             [
              0.4444444444444444,
              "#bd3786"
             ],
             [
              0.5555555555555556,
              "#d8576b"
             ],
             [
              0.6666666666666666,
              "#ed7953"
             ],
             [
              0.7777777777777778,
              "#fb9f3a"
             ],
             [
              0.8888888888888888,
              "#fdca26"
             ],
             [
              1,
              "#f0f921"
             ]
            ],
            "type": "heatmapgl"
           }
          ],
          "histogram": [
           {
            "marker": {
             "pattern": {
              "fillmode": "overlay",
              "size": 10,
              "solidity": 0.2
             }
            },
            "type": "histogram"
           }
          ],
          "histogram2d": [
           {
            "colorbar": {
             "outlinewidth": 0,
             "ticks": ""
            },
            "colorscale": [
             [
              0,
              "#0d0887"
             ],
             [
              0.1111111111111111,
              "#46039f"
             ],
             [
              0.2222222222222222,
              "#7201a8"
             ],
             [
              0.3333333333333333,
              "#9c179e"
             ],
             [
              0.4444444444444444,
              "#bd3786"
             ],
             [
              0.5555555555555556,
              "#d8576b"
             ],
             [
              0.6666666666666666,
              "#ed7953"
             ],
             [
              0.7777777777777778,
              "#fb9f3a"
             ],
             [
              0.8888888888888888,
              "#fdca26"
             ],
             [
              1,
              "#f0f921"
             ]
            ],
            "type": "histogram2d"
           }
          ],
          "histogram2dcontour": [
           {
            "colorbar": {
             "outlinewidth": 0,
             "ticks": ""
            },
            "colorscale": [
             [
              0,
              "#0d0887"
             ],
             [
              0.1111111111111111,
              "#46039f"
             ],
             [
              0.2222222222222222,
              "#7201a8"
             ],
             [
              0.3333333333333333,
              "#9c179e"
             ],
             [
              0.4444444444444444,
              "#bd3786"
             ],
             [
              0.5555555555555556,
              "#d8576b"
             ],
             [
              0.6666666666666666,
              "#ed7953"
             ],
             [
              0.7777777777777778,
              "#fb9f3a"
             ],
             [
              0.8888888888888888,
              "#fdca26"
             ],
             [
              1,
              "#f0f921"
             ]
            ],
            "type": "histogram2dcontour"
           }
          ],
          "mesh3d": [
           {
            "colorbar": {
             "outlinewidth": 0,
             "ticks": ""
            },
            "type": "mesh3d"
           }
          ],
          "parcoords": [
           {
            "line": {
             "colorbar": {
              "outlinewidth": 0,
              "ticks": ""
             }
            },
            "type": "parcoords"
           }
          ],
          "pie": [
           {
            "automargin": true,
            "type": "pie"
           }
          ],
          "scatter": [
           {
            "fillpattern": {
             "fillmode": "overlay",
             "size": 10,
             "solidity": 0.2
            },
            "type": "scatter"
           }
          ],
          "scatter3d": [
           {
            "line": {
             "colorbar": {
              "outlinewidth": 0,
              "ticks": ""
             }
            },
            "marker": {
             "colorbar": {
              "outlinewidth": 0,
              "ticks": ""
             }
            },
            "type": "scatter3d"
           }
          ],
          "scattercarpet": [
           {
            "marker": {
             "colorbar": {
              "outlinewidth": 0,
              "ticks": ""
             }
            },
            "type": "scattercarpet"
           }
          ],
          "scattergeo": [
           {
            "marker": {
             "colorbar": {
              "outlinewidth": 0,
              "ticks": ""
             }
            },
            "type": "scattergeo"
           }
          ],
          "scattergl": [
           {
            "marker": {
             "colorbar": {
              "outlinewidth": 0,
              "ticks": ""
             }
            },
            "type": "scattergl"
           }
          ],
          "scattermapbox": [
           {
            "marker": {
             "colorbar": {
              "outlinewidth": 0,
              "ticks": ""
             }
            },
            "type": "scattermapbox"
           }
          ],
          "scatterpolar": [
           {
            "marker": {
             "colorbar": {
              "outlinewidth": 0,
              "ticks": ""
             }
            },
            "type": "scatterpolar"
           }
          ],
          "scatterpolargl": [
           {
            "marker": {
             "colorbar": {
              "outlinewidth": 0,
              "ticks": ""
             }
            },
            "type": "scatterpolargl"
           }
          ],
          "scatterternary": [
           {
            "marker": {
             "colorbar": {
              "outlinewidth": 0,
              "ticks": ""
             }
            },
            "type": "scatterternary"
           }
          ],
          "surface": [
           {
            "colorbar": {
             "outlinewidth": 0,
             "ticks": ""
            },
            "colorscale": [
             [
              0,
              "#0d0887"
             ],
             [
              0.1111111111111111,
              "#46039f"
             ],
             [
              0.2222222222222222,
              "#7201a8"
             ],
             [
              0.3333333333333333,
              "#9c179e"
             ],
             [
              0.4444444444444444,
              "#bd3786"
             ],
             [
              0.5555555555555556,
              "#d8576b"
             ],
             [
              0.6666666666666666,
              "#ed7953"
             ],
             [
              0.7777777777777778,
              "#fb9f3a"
             ],
             [
              0.8888888888888888,
              "#fdca26"
             ],
             [
              1,
              "#f0f921"
             ]
            ],
            "type": "surface"
           }
          ],
          "table": [
           {
            "cells": {
             "fill": {
              "color": "#EBF0F8"
             },
             "line": {
              "color": "white"
             }
            },
            "header": {
             "fill": {
              "color": "#C8D4E3"
             },
             "line": {
              "color": "white"
             }
            },
            "type": "table"
           }
          ]
         },
         "layout": {
          "annotationdefaults": {
           "arrowcolor": "#2a3f5f",
           "arrowhead": 0,
           "arrowwidth": 1
          },
          "autotypenumbers": "strict",
          "coloraxis": {
           "colorbar": {
            "outlinewidth": 0,
            "ticks": ""
           }
          },
          "colorscale": {
           "diverging": [
            [
             0,
             "#8e0152"
            ],
            [
             0.1,
             "#c51b7d"
            ],
            [
             0.2,
             "#de77ae"
            ],
            [
             0.3,
             "#f1b6da"
            ],
            [
             0.4,
             "#fde0ef"
            ],
            [
             0.5,
             "#f7f7f7"
            ],
            [
             0.6,
             "#e6f5d0"
            ],
            [
             0.7,
             "#b8e186"
            ],
            [
             0.8,
             "#7fbc41"
            ],
            [
             0.9,
             "#4d9221"
            ],
            [
             1,
             "#276419"
            ]
           ],
           "sequential": [
            [
             0,
             "#0d0887"
            ],
            [
             0.1111111111111111,
             "#46039f"
            ],
            [
             0.2222222222222222,
             "#7201a8"
            ],
            [
             0.3333333333333333,
             "#9c179e"
            ],
            [
             0.4444444444444444,
             "#bd3786"
            ],
            [
             0.5555555555555556,
             "#d8576b"
            ],
            [
             0.6666666666666666,
             "#ed7953"
            ],
            [
             0.7777777777777778,
             "#fb9f3a"
            ],
            [
             0.8888888888888888,
             "#fdca26"
            ],
            [
             1,
             "#f0f921"
            ]
           ],
           "sequentialminus": [
            [
             0,
             "#0d0887"
            ],
            [
             0.1111111111111111,
             "#46039f"
            ],
            [
             0.2222222222222222,
             "#7201a8"
            ],
            [
             0.3333333333333333,
             "#9c179e"
            ],
            [
             0.4444444444444444,
             "#bd3786"
            ],
            [
             0.5555555555555556,
             "#d8576b"
            ],
            [
             0.6666666666666666,
             "#ed7953"
            ],
            [
             0.7777777777777778,
             "#fb9f3a"
            ],
            [
             0.8888888888888888,
             "#fdca26"
            ],
            [
             1,
             "#f0f921"
            ]
           ]
          },
          "colorway": [
           "#636efa",
           "#EF553B",
           "#00cc96",
           "#ab63fa",
           "#FFA15A",
           "#19d3f3",
           "#FF6692",
           "#B6E880",
           "#FF97FF",
           "#FECB52"
          ],
          "font": {
           "color": "#2a3f5f"
          },
          "geo": {
           "bgcolor": "white",
           "lakecolor": "white",
           "landcolor": "#E5ECF6",
           "showlakes": true,
           "showland": true,
           "subunitcolor": "white"
          },
          "hoverlabel": {
           "align": "left"
          },
          "hovermode": "closest",
          "mapbox": {
           "style": "light"
          },
          "paper_bgcolor": "white",
          "plot_bgcolor": "#E5ECF6",
          "polar": {
           "angularaxis": {
            "gridcolor": "white",
            "linecolor": "white",
            "ticks": ""
           },
           "bgcolor": "#E5ECF6",
           "radialaxis": {
            "gridcolor": "white",
            "linecolor": "white",
            "ticks": ""
           }
          },
          "scene": {
           "xaxis": {
            "backgroundcolor": "#E5ECF6",
            "gridcolor": "white",
            "gridwidth": 2,
            "linecolor": "white",
            "showbackground": true,
            "ticks": "",
            "zerolinecolor": "white"
           },
           "yaxis": {
            "backgroundcolor": "#E5ECF6",
            "gridcolor": "white",
            "gridwidth": 2,
            "linecolor": "white",
            "showbackground": true,
            "ticks": "",
            "zerolinecolor": "white"
           },
           "zaxis": {
            "backgroundcolor": "#E5ECF6",
            "gridcolor": "white",
            "gridwidth": 2,
            "linecolor": "white",
            "showbackground": true,
            "ticks": "",
            "zerolinecolor": "white"
           }
          },
          "shapedefaults": {
           "line": {
            "color": "#2a3f5f"
           }
          },
          "ternary": {
           "aaxis": {
            "gridcolor": "white",
            "linecolor": "white",
            "ticks": ""
           },
           "baxis": {
            "gridcolor": "white",
            "linecolor": "white",
            "ticks": ""
           },
           "bgcolor": "#E5ECF6",
           "caxis": {
            "gridcolor": "white",
            "linecolor": "white",
            "ticks": ""
           }
          },
          "title": {
           "x": 0.05
          },
          "xaxis": {
           "automargin": true,
           "gridcolor": "white",
           "linecolor": "white",
           "ticks": "",
           "title": {
            "standoff": 15
           },
           "zerolinecolor": "white",
           "zerolinewidth": 2
          },
          "yaxis": {
           "automargin": true,
           "gridcolor": "white",
           "linecolor": "white",
           "ticks": "",
           "title": {
            "standoff": 15
           },
           "zerolinecolor": "white",
           "zerolinewidth": 2
          }
         }
        },
        "title": {
         "text": "Proportion of Closed Cases by Arrest Over Time"
        },
        "xaxis": {
         "anchor": "y",
         "domain": [
          0,
          1
         ],
         "title": {
          "text": "month"
         }
        },
        "yaxis": {
         "anchor": "x",
         "domain": [
          0,
          1
         ],
         "title": {
          "text": "closed_arrested"
         }
        }
       }
      },
      "text/html": [
       "<div>                        <script type=\"text/javascript\">window.PlotlyConfig = {MathJaxConfig: 'local'};</script>\n",
       "        <script charset=\"utf-8\" src=\"https://cdn.plot.ly/plotly-2.26.0.min.js\"></script>                <div id=\"864b5c18-cf23-4c8f-af60-38e2ce754633\" class=\"plotly-graph-div\" style=\"height:100%; width:100%;\"></div>            <script type=\"text/javascript\">                                    window.PLOTLYENV=window.PLOTLYENV || {};                                    if (document.getElementById(\"864b5c18-cf23-4c8f-af60-38e2ce754633\")) {                    Plotly.newPlot(                        \"864b5c18-cf23-4c8f-af60-38e2ce754633\",                        [{\"hovertemplate\":\"month=%{x}\\u003cbr\\u003eclosed_arrested=%{y}\\u003cextra\\u003e\\u003c\\u002fextra\\u003e\",\"legendgroup\":\"\",\"line\":{\"color\":\"#636efa\",\"dash\":\"solid\"},\"marker\":{\"symbol\":\"circle\"},\"mode\":\"lines\",\"name\":\"\",\"orientation\":\"v\",\"showlegend\":false,\"x\":[\"2007-06\",\"2007-09\",\"2007-12\",\"2008-06\",\"2008-09\",\"2008-11\",\"2009-01\",\"2009-02\",\"2009-04\",\"2010-03\",\"2010-04\",\"2010-12\",\"2011-09\",\"2014-09\",\"2015-09\",\"2015-10\",\"2015-11\",\"2016-07\",\"2016-09\",\"2016-10\"],\"xaxis\":\"x\",\"y\":[0.0,0.0,0.0,0.0,1.0,0.0,0.0,1.0,1.0,1.0,1.0,1.0,1.0,0.0,0.0,0.0,0.0,1.0,0.0,1.0],\"yaxis\":\"y\",\"type\":\"scatter\"},{\"line\":{\"color\":\"red\"},\"mode\":\"lines\",\"name\":\"Smoothed\",\"x\":[\"2007-06\",\"2007-09\",\"2007-12\",\"2008-06\",\"2008-09\",\"2008-11\",\"2009-01\",\"2009-02\",\"2009-04\",\"2010-03\",\"2010-04\",\"2010-12\",\"2011-09\",\"2014-09\",\"2015-09\",\"2015-10\",\"2015-11\",\"2016-07\",\"2016-09\",\"2016-10\"],\"y\":[null,null,null,null,null,0.16666666666666666,0.16666666666666666,0.3333333333333333,0.5,0.6666666666666666,0.6666666666666666,0.8333333333333334,1.0,0.8333333333333334,0.6666666666666666,0.5,0.3333333333333333,0.3333333333333333,0.16666666666666666,0.3333333333333333],\"type\":\"scatter\"}],                        {\"template\":{\"data\":{\"histogram2dcontour\":[{\"type\":\"histogram2dcontour\",\"colorbar\":{\"outlinewidth\":0,\"ticks\":\"\"},\"colorscale\":[[0.0,\"#0d0887\"],[0.1111111111111111,\"#46039f\"],[0.2222222222222222,\"#7201a8\"],[0.3333333333333333,\"#9c179e\"],[0.4444444444444444,\"#bd3786\"],[0.5555555555555556,\"#d8576b\"],[0.6666666666666666,\"#ed7953\"],[0.7777777777777778,\"#fb9f3a\"],[0.8888888888888888,\"#fdca26\"],[1.0,\"#f0f921\"]]}],\"choropleth\":[{\"type\":\"choropleth\",\"colorbar\":{\"outlinewidth\":0,\"ticks\":\"\"}}],\"histogram2d\":[{\"type\":\"histogram2d\",\"colorbar\":{\"outlinewidth\":0,\"ticks\":\"\"},\"colorscale\":[[0.0,\"#0d0887\"],[0.1111111111111111,\"#46039f\"],[0.2222222222222222,\"#7201a8\"],[0.3333333333333333,\"#9c179e\"],[0.4444444444444444,\"#bd3786\"],[0.5555555555555556,\"#d8576b\"],[0.6666666666666666,\"#ed7953\"],[0.7777777777777778,\"#fb9f3a\"],[0.8888888888888888,\"#fdca26\"],[1.0,\"#f0f921\"]]}],\"heatmap\":[{\"type\":\"heatmap\",\"colorbar\":{\"outlinewidth\":0,\"ticks\":\"\"},\"colorscale\":[[0.0,\"#0d0887\"],[0.1111111111111111,\"#46039f\"],[0.2222222222222222,\"#7201a8\"],[0.3333333333333333,\"#9c179e\"],[0.4444444444444444,\"#bd3786\"],[0.5555555555555556,\"#d8576b\"],[0.6666666666666666,\"#ed7953\"],[0.7777777777777778,\"#fb9f3a\"],[0.8888888888888888,\"#fdca26\"],[1.0,\"#f0f921\"]]}],\"heatmapgl\":[{\"type\":\"heatmapgl\",\"colorbar\":{\"outlinewidth\":0,\"ticks\":\"\"},\"colorscale\":[[0.0,\"#0d0887\"],[0.1111111111111111,\"#46039f\"],[0.2222222222222222,\"#7201a8\"],[0.3333333333333333,\"#9c179e\"],[0.4444444444444444,\"#bd3786\"],[0.5555555555555556,\"#d8576b\"],[0.6666666666666666,\"#ed7953\"],[0.7777777777777778,\"#fb9f3a\"],[0.8888888888888888,\"#fdca26\"],[1.0,\"#f0f921\"]]}],\"contourcarpet\":[{\"type\":\"contourcarpet\",\"colorbar\":{\"outlinewidth\":0,\"ticks\":\"\"}}],\"contour\":[{\"type\":\"contour\",\"colorbar\":{\"outlinewidth\":0,\"ticks\":\"\"},\"colorscale\":[[0.0,\"#0d0887\"],[0.1111111111111111,\"#46039f\"],[0.2222222222222222,\"#7201a8\"],[0.3333333333333333,\"#9c179e\"],[0.4444444444444444,\"#bd3786\"],[0.5555555555555556,\"#d8576b\"],[0.6666666666666666,\"#ed7953\"],[0.7777777777777778,\"#fb9f3a\"],[0.8888888888888888,\"#fdca26\"],[1.0,\"#f0f921\"]]}],\"surface\":[{\"type\":\"surface\",\"colorbar\":{\"outlinewidth\":0,\"ticks\":\"\"},\"colorscale\":[[0.0,\"#0d0887\"],[0.1111111111111111,\"#46039f\"],[0.2222222222222222,\"#7201a8\"],[0.3333333333333333,\"#9c179e\"],[0.4444444444444444,\"#bd3786\"],[0.5555555555555556,\"#d8576b\"],[0.6666666666666666,\"#ed7953\"],[0.7777777777777778,\"#fb9f3a\"],[0.8888888888888888,\"#fdca26\"],[1.0,\"#f0f921\"]]}],\"mesh3d\":[{\"type\":\"mesh3d\",\"colorbar\":{\"outlinewidth\":0,\"ticks\":\"\"}}],\"scatter\":[{\"fillpattern\":{\"fillmode\":\"overlay\",\"size\":10,\"solidity\":0.2},\"type\":\"scatter\"}],\"parcoords\":[{\"type\":\"parcoords\",\"line\":{\"colorbar\":{\"outlinewidth\":0,\"ticks\":\"\"}}}],\"scatterpolargl\":[{\"type\":\"scatterpolargl\",\"marker\":{\"colorbar\":{\"outlinewidth\":0,\"ticks\":\"\"}}}],\"bar\":[{\"error_x\":{\"color\":\"#2a3f5f\"},\"error_y\":{\"color\":\"#2a3f5f\"},\"marker\":{\"line\":{\"color\":\"#E5ECF6\",\"width\":0.5},\"pattern\":{\"fillmode\":\"overlay\",\"size\":10,\"solidity\":0.2}},\"type\":\"bar\"}],\"scattergeo\":[{\"type\":\"scattergeo\",\"marker\":{\"colorbar\":{\"outlinewidth\":0,\"ticks\":\"\"}}}],\"scatterpolar\":[{\"type\":\"scatterpolar\",\"marker\":{\"colorbar\":{\"outlinewidth\":0,\"ticks\":\"\"}}}],\"histogram\":[{\"marker\":{\"pattern\":{\"fillmode\":\"overlay\",\"size\":10,\"solidity\":0.2}},\"type\":\"histogram\"}],\"scattergl\":[{\"type\":\"scattergl\",\"marker\":{\"colorbar\":{\"outlinewidth\":0,\"ticks\":\"\"}}}],\"scatter3d\":[{\"type\":\"scatter3d\",\"line\":{\"colorbar\":{\"outlinewidth\":0,\"ticks\":\"\"}},\"marker\":{\"colorbar\":{\"outlinewidth\":0,\"ticks\":\"\"}}}],\"scattermapbox\":[{\"type\":\"scattermapbox\",\"marker\":{\"colorbar\":{\"outlinewidth\":0,\"ticks\":\"\"}}}],\"scatterternary\":[{\"type\":\"scatterternary\",\"marker\":{\"colorbar\":{\"outlinewidth\":0,\"ticks\":\"\"}}}],\"scattercarpet\":[{\"type\":\"scattercarpet\",\"marker\":{\"colorbar\":{\"outlinewidth\":0,\"ticks\":\"\"}}}],\"carpet\":[{\"aaxis\":{\"endlinecolor\":\"#2a3f5f\",\"gridcolor\":\"white\",\"linecolor\":\"white\",\"minorgridcolor\":\"white\",\"startlinecolor\":\"#2a3f5f\"},\"baxis\":{\"endlinecolor\":\"#2a3f5f\",\"gridcolor\":\"white\",\"linecolor\":\"white\",\"minorgridcolor\":\"white\",\"startlinecolor\":\"#2a3f5f\"},\"type\":\"carpet\"}],\"table\":[{\"cells\":{\"fill\":{\"color\":\"#EBF0F8\"},\"line\":{\"color\":\"white\"}},\"header\":{\"fill\":{\"color\":\"#C8D4E3\"},\"line\":{\"color\":\"white\"}},\"type\":\"table\"}],\"barpolar\":[{\"marker\":{\"line\":{\"color\":\"#E5ECF6\",\"width\":0.5},\"pattern\":{\"fillmode\":\"overlay\",\"size\":10,\"solidity\":0.2}},\"type\":\"barpolar\"}],\"pie\":[{\"automargin\":true,\"type\":\"pie\"}]},\"layout\":{\"autotypenumbers\":\"strict\",\"colorway\":[\"#636efa\",\"#EF553B\",\"#00cc96\",\"#ab63fa\",\"#FFA15A\",\"#19d3f3\",\"#FF6692\",\"#B6E880\",\"#FF97FF\",\"#FECB52\"],\"font\":{\"color\":\"#2a3f5f\"},\"hovermode\":\"closest\",\"hoverlabel\":{\"align\":\"left\"},\"paper_bgcolor\":\"white\",\"plot_bgcolor\":\"#E5ECF6\",\"polar\":{\"bgcolor\":\"#E5ECF6\",\"angularaxis\":{\"gridcolor\":\"white\",\"linecolor\":\"white\",\"ticks\":\"\"},\"radialaxis\":{\"gridcolor\":\"white\",\"linecolor\":\"white\",\"ticks\":\"\"}},\"ternary\":{\"bgcolor\":\"#E5ECF6\",\"aaxis\":{\"gridcolor\":\"white\",\"linecolor\":\"white\",\"ticks\":\"\"},\"baxis\":{\"gridcolor\":\"white\",\"linecolor\":\"white\",\"ticks\":\"\"},\"caxis\":{\"gridcolor\":\"white\",\"linecolor\":\"white\",\"ticks\":\"\"}},\"coloraxis\":{\"colorbar\":{\"outlinewidth\":0,\"ticks\":\"\"}},\"colorscale\":{\"sequential\":[[0.0,\"#0d0887\"],[0.1111111111111111,\"#46039f\"],[0.2222222222222222,\"#7201a8\"],[0.3333333333333333,\"#9c179e\"],[0.4444444444444444,\"#bd3786\"],[0.5555555555555556,\"#d8576b\"],[0.6666666666666666,\"#ed7953\"],[0.7777777777777778,\"#fb9f3a\"],[0.8888888888888888,\"#fdca26\"],[1.0,\"#f0f921\"]],\"sequentialminus\":[[0.0,\"#0d0887\"],[0.1111111111111111,\"#46039f\"],[0.2222222222222222,\"#7201a8\"],[0.3333333333333333,\"#9c179e\"],[0.4444444444444444,\"#bd3786\"],[0.5555555555555556,\"#d8576b\"],[0.6666666666666666,\"#ed7953\"],[0.7777777777777778,\"#fb9f3a\"],[0.8888888888888888,\"#fdca26\"],[1.0,\"#f0f921\"]],\"diverging\":[[0,\"#8e0152\"],[0.1,\"#c51b7d\"],[0.2,\"#de77ae\"],[0.3,\"#f1b6da\"],[0.4,\"#fde0ef\"],[0.5,\"#f7f7f7\"],[0.6,\"#e6f5d0\"],[0.7,\"#b8e186\"],[0.8,\"#7fbc41\"],[0.9,\"#4d9221\"],[1,\"#276419\"]]},\"xaxis\":{\"gridcolor\":\"white\",\"linecolor\":\"white\",\"ticks\":\"\",\"title\":{\"standoff\":15},\"zerolinecolor\":\"white\",\"automargin\":true,\"zerolinewidth\":2},\"yaxis\":{\"gridcolor\":\"white\",\"linecolor\":\"white\",\"ticks\":\"\",\"title\":{\"standoff\":15},\"zerolinecolor\":\"white\",\"automargin\":true,\"zerolinewidth\":2},\"scene\":{\"xaxis\":{\"backgroundcolor\":\"#E5ECF6\",\"gridcolor\":\"white\",\"linecolor\":\"white\",\"showbackground\":true,\"ticks\":\"\",\"zerolinecolor\":\"white\",\"gridwidth\":2},\"yaxis\":{\"backgroundcolor\":\"#E5ECF6\",\"gridcolor\":\"white\",\"linecolor\":\"white\",\"showbackground\":true,\"ticks\":\"\",\"zerolinecolor\":\"white\",\"gridwidth\":2},\"zaxis\":{\"backgroundcolor\":\"#E5ECF6\",\"gridcolor\":\"white\",\"linecolor\":\"white\",\"showbackground\":true,\"ticks\":\"\",\"zerolinecolor\":\"white\",\"gridwidth\":2}},\"shapedefaults\":{\"line\":{\"color\":\"#2a3f5f\"}},\"annotationdefaults\":{\"arrowcolor\":\"#2a3f5f\",\"arrowhead\":0,\"arrowwidth\":1},\"geo\":{\"bgcolor\":\"white\",\"landcolor\":\"#E5ECF6\",\"subunitcolor\":\"white\",\"showland\":true,\"showlakes\":true,\"lakecolor\":\"white\"},\"title\":{\"x\":0.05},\"mapbox\":{\"style\":\"light\"}}},\"xaxis\":{\"anchor\":\"y\",\"domain\":[0.0,1.0],\"title\":{\"text\":\"month\"}},\"yaxis\":{\"anchor\":\"x\",\"domain\":[0.0,1.0],\"title\":{\"text\":\"closed_arrested\"}},\"legend\":{\"tracegroupgap\":0},\"title\":{\"text\":\"Proportion of Closed Cases by Arrest Over Time\"}},                        {\"responsive\": true}                    )                };                            </script>        </div>"
      ],
      "text/plain": [
       "Figure({\n",
       "    'data': [{'hovertemplate': 'month=%{x}<br>closed_arrested=%{y}<extra></extra>',\n",
       "              'legendgroup': '',\n",
       "              'line': {'color': '#636efa', 'dash': 'solid'},\n",
       "              'marker': {'symbol': 'circle'},\n",
       "              'mode': 'lines',\n",
       "              'name': '',\n",
       "              'orientation': 'v',\n",
       "              'showlegend': False,\n",
       "              'type': 'scatter',\n",
       "              'x': array(['2007-06', '2007-09', '2007-12', '2008-06', '2008-09', '2008-11',\n",
       "                          '2009-01', '2009-02', '2009-04', '2010-03', '2010-04', '2010-12',\n",
       "                          '2011-09', '2014-09', '2015-09', '2015-10', '2015-11', '2016-07',\n",
       "                          '2016-09', '2016-10'], dtype=object),\n",
       "              'xaxis': 'x',\n",
       "              'y': array([0., 0., 0., 0., 1., 0., 0., 1., 1., 1., 1., 1., 1., 0., 0., 0., 0., 1.,\n",
       "                          0., 1.]),\n",
       "              'yaxis': 'y'},\n",
       "             {'line': {'color': 'red'},\n",
       "              'mode': 'lines',\n",
       "              'name': 'Smoothed',\n",
       "              'type': 'scatter',\n",
       "              'x': array(['2007-06', '2007-09', '2007-12', '2008-06', '2008-09', '2008-11',\n",
       "                          '2009-01', '2009-02', '2009-04', '2010-03', '2010-04', '2010-12',\n",
       "                          '2011-09', '2014-09', '2015-09', '2015-10', '2015-11', '2016-07',\n",
       "                          '2016-09', '2016-10'], dtype=object),\n",
       "              'y': array([       nan,        nan,        nan,        nan,        nan, 0.16666667,\n",
       "                          0.16666667, 0.33333333, 0.5       , 0.66666667, 0.66666667, 0.83333333,\n",
       "                          1.        , 0.83333333, 0.66666667, 0.5       , 0.33333333, 0.33333333,\n",
       "                          0.16666667, 0.33333333])}],\n",
       "    'layout': {'legend': {'tracegroupgap': 0},\n",
       "               'template': '...',\n",
       "               'title': {'text': 'Proportion of Closed Cases by Arrest Over Time'},\n",
       "               'xaxis': {'anchor': 'y', 'domain': [0.0, 1.0], 'title': {'text': 'month'}},\n",
       "               'yaxis': {'anchor': 'x', 'domain': [0.0, 1.0], 'title': {'text': 'closed_arrested'}}}\n",
       "})"
      ]
     },
     "execution_count": 151,
     "metadata": {},
     "output_type": "execute_result"
    }
   ],
   "source": [
    "filtered_df = filter_df('Birmingham', 'Hispanic', 'all')\n",
    "make_linechart(filtered_df)"
   ]
  }
 ],
 "metadata": {
  "kernelspec": {
   "display_name": ".venv",
   "language": "python",
   "name": "python3"
  },
  "language_info": {
   "codemirror_mode": {
    "name": "ipython",
    "version": 3
   },
   "file_extension": ".py",
   "mimetype": "text/x-python",
   "name": "python",
   "nbconvert_exporter": "python",
   "pygments_lexer": "ipython3",
   "version": "3.11.6"
  }
 },
 "nbformat": 4,
 "nbformat_minor": 2
}
