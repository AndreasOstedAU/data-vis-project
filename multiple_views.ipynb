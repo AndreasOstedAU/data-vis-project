{
 "cells": [
  {
   "cell_type": "code",
   "execution_count": 2,
   "metadata": {},
   "outputs": [],
   "source": [
    "import numpy as np\n",
    "import pandas as pd\n",
    "import plotly.graph_objects as go\n",
    "import dash\n",
    "from dash import dcc, html, Dash, State\n",
    "from dash.dependencies import Input, Output\n",
    "import plotly.graph_objects as go\n",
    "import plotly.express as px\n",
    "from dash.exceptions import PreventUpdate\n",
    "\n",
    "mapbox_token = 'pk.eyJ1IjoiYW5kcmVhc29zdGVkIiwiYSI6ImNsbmJxMjFndDA4dm8ybXJrMzhia2NqdnoifQ.fXDNIJ1LelhA1ypNiaJE9w'"
   ]
  },
  {
   "cell_type": "markdown",
   "metadata": {},
   "source": [
    "Data wrangling"
   ]
  },
  {
   "cell_type": "code",
   "execution_count": 3,
   "metadata": {},
   "outputs": [],
   "source": [
    "df = pd.read_csv('Data/homicide_data.csv')\n",
    "citydata = pd.read_csv('Data/us-cities-top-1k.csv')\n",
    "statedata = pd.read_csv('Data/states.csv')"
   ]
  },
  {
   "cell_type": "code",
   "execution_count": 4,
   "metadata": {},
   "outputs": [],
   "source": [
    "citydata=pd.merge(citydata, statedata, on = \"State\", how = \"left\")\n",
    "df['victim_full_name'] = df['victim_first'] +  ' ' + df['victim_last']\n",
    "\n",
    "df = df.sort_values('city')\n",
    "\n",
    "df['reported_date'] = pd.to_datetime(df['reported_date'], format='%Y%m%d')\n",
    "\n",
    "# Extract month from date and convert to string\n",
    "df['month'] = df['reported_date'].dt.strftime('%Y-%m')\n",
    "df['quarter'] = df['reported_date'].dt.to_period('Q').dt.strftime('%Y-Q%q')\n",
    "\n",
    "#join on data about cities\n",
    "df = pd.merge(df, citydata.rename(columns={\"lat\": \"avg_lat\", \"lon\": \"avg_lon\",\"Abbreviation\":\"state\",\"State\":\"Long_state\"}), on = ['city',\"state\"], how = 'left')\n",
    "\n",
    "df['No_homocides_norm_pr1000'] = (df.groupby('city')['city'].transform('count'))/df[\"Population\"]*1000\n",
    "\n",
    "avg_city_coords = df[['city','avg_lat','avg_lon','No_homocides_norm_pr1000','Population','state']].drop_duplicates().reset_index()\n",
    "avg_city_coords = avg_city_coords.drop(49)"
   ]
  },
  {
   "cell_type": "code",
   "execution_count": 5,
   "metadata": {},
   "outputs": [],
   "source": [
    "obs = df.groupby(['disposition', 'city']).size().reset_index(name='n_obs')\n",
    "\n",
    "# Pivot the DataFrame to have 'disposition' as columns and 'city' as index\n",
    "obs_pivot = obs.pivot(index='city', columns='disposition', values='n_obs')\n",
    "\n",
    "# Calculate the proportion of 'Open/No arrest' over the sum of all dispositions\n",
    "obs_pivot['open_prop'] = obs_pivot['Open/No arrest'] / obs_pivot.sum(axis=1)\n",
    "\n",
    "# Reset index if you want to have 'city' as a regular column\n",
    "obs_pivot = obs_pivot.reset_index()\n",
    "\n",
    "\n",
    "city_df =pd.merge(avg_city_coords,obs_pivot[[\"city\",\"open_prop\"]],on=\"city\",how=\"left\")"
   ]
  },
  {
   "cell_type": "markdown",
   "metadata": {},
   "source": [
    "Dash app"
   ]
  },
  {
   "cell_type": "code",
   "execution_count": 36,
   "metadata": {},
   "outputs": [
    {
     "name": "stdout",
     "output_type": "stream",
     "text": [
      "Dash app running on http://127.0.0.1:8050/\n"
     ]
    },
    {
     "data": {
      "application/javascript": "window.open('http://127.0.0.1:8050/')",
      "text/plain": [
       "<IPython.core.display.Javascript object>"
      ]
     },
     "metadata": {},
     "output_type": "display_data"
    }
   ],
   "source": [
    "app = dash.Dash(__name__)\n",
    "\n",
    "cityoptions = [{'label': 'Select all', 'value': 'all cities'}]+[{'label': city, 'value': city} for city in sorted(df['city'].unique())]\n",
    "raceoptions = [{'label': 'Select all', 'value': 'all'}]+[{'label': r, 'value': r} for r in sorted(df['victim_race'].unique())]\n",
    "sexoptions = [{'label': 'Select all', 'value': 'all'}]+[{'label': s, 'value': s} for s in sorted(df['victim_sex'].unique())]\n",
    "\n",
    "# Define layout\n",
    "app.layout = html.Div([\n",
    "    html.H4(id='title-output',style={\"margin-bottom\":\"5px\",\"margin-top\":\"1px\",\"font-size\":\"20px\",\"text-align\":\"center\"}),\n",
    "    dcc.Dropdown(\n",
    "        id='city_dropdown',\n",
    "        options = cityoptions,\n",
    "        value = 'all cities', #default\n",
    "        #value = None,\n",
    "        #placeholder = \"Select city\",\n",
    "        clearable=False,\n",
    "        style={\"width\": \"200px\", \"display\": \"inline-block\",\"margin-top\":\"0\"}\n",
    "    ),\n",
    "        dcc.Dropdown(\n",
    "        id='race_dropdown',\n",
    "        options = raceoptions,\n",
    "        value = 'all', #default\n",
    "        #value = None,\n",
    "        #placeholder = \"Select race\",\n",
    "        clearable=False,\n",
    "        style={\"width\": \"200px\", \"display\": \"inline-block\",\"margin-top\":\"0\"}\n",
    "    ),\n",
    "        dcc.Dropdown(\n",
    "        id='sex_dropdown',\n",
    "        options = sexoptions,\n",
    "        value = 'all', #default\n",
    "        #value = None,\n",
    "        #placeholder = \"Select gender\",\n",
    "        clearable=False,\n",
    "        style={\"width\": \"200px\", \"display\": \"inline-block\",\"margin-top\":\"0\"}\n",
    "    ),\n",
    "    dcc.Graph(id = 'murder-map'),\n",
    "    dcc.Graph(id = 'disp-colchart'),\n",
    "    #dcc.Graph(id = 'arrested-linechart'),\n",
    "    #dcc.Graph(id = 'time-map'),\n",
    "    dcc.Graph(id = 'time-spiral'),\n",
    "dcc.Store(id='selected-city', data = 'all cities')\n",
    "])\n",
    "\n",
    "\n",
    "def make_colchart(df):\n",
    "       \n",
    "    # Get value counts and reset index\n",
    "    value_counts = df[\"disposition\"].value_counts().reset_index()\n",
    "    \n",
    "    fig = go.Figure(data=go.Bar(x=value_counts['disposition'], \n",
    "                                y=value_counts['count'],\n",
    "                                marker_color=\"Gold\"))\n",
    "    fig.update_layout(dragmode='zoom',width=500, height=290)\n",
    "    fig.update_layout(margin={\"r\": 5, \"t\": 5, \"l\": 5, \"b\": 5}) \n",
    "    return fig\n",
    "\n",
    "\n",
    "def make_linechart(df):\n",
    "    if len(df) == 0:\n",
    "        fig = px.scatter(title='No data available')\n",
    "        return fig\n",
    "    else:\n",
    "        grouped = df.groupby(['quarter', 'disposition']).size().unstack(fill_value=0)\n",
    "\n",
    "        # Calculate the proportion of closed cases by arrest\n",
    "        grouped['open_no_arrest'] = grouped['Open/No arrest'] / grouped.sum(axis=1)\n",
    "\n",
    "        # Calculate the rolling average\n",
    "        window = 4  # You can adjust the window size\n",
    "        grouped['smoothed'] = grouped['open_no_arrest'].rolling(window=window).mean()\n",
    "\n",
    "        # Create a line chart\n",
    "        fig = px.line(grouped, \n",
    "                    x=grouped.index, \n",
    "                    y='open_no_arrest', \n",
    "                    title='Proportion of open cases over Time')\n",
    "\n",
    "        # Add smoothed line\n",
    "        fig.add_scatter(x=grouped.index, y=grouped['smoothed'], mode='lines', name='Smoothed', line=dict(color='red'))\n",
    "\n",
    "        return fig\n",
    "\n",
    "\n",
    "def make_time_map(df):\n",
    "    df_time = df.sort_values('reported_date')\n",
    "    df_time['days_since_last_murder'] = df_time['reported_date'].diff().dt.days\n",
    "    df_time['days_before_next_murder'] = df_time['reported_date'].diff(-1).dt.days*-1\n",
    "\n",
    "    \n",
    "    fig = px.scatter(df_time,\n",
    "                 x = 'days_since_last_murder',\n",
    "                 y = 'days_before_next_murder',\n",
    "                 hover_data= ['victim_full_name'],\n",
    "                 color = 'disposition',\n",
    "                 opacity=0.5,\n",
    "                 )\n",
    "    fig.update_layout(height = 600, width = 600)\n",
    "\n",
    "\n",
    "    ### all below is for making a title\n",
    "    race_sel = df_time['victim_race'].unique()\n",
    "    gender_sel =  df_time['victim_sex'].unique()\n",
    "    city_sel = df_time['city'].unique()\n",
    "\n",
    "    race_print = race_sel[0] if len(race_sel) == 1 else 'all races'\n",
    "    gender_print = gender_sel[0] if len(gender_sel) == 1 else 'all genders'\n",
    "    city_print = city_sel[0] if len(city_sel) == 1 else 'all cities'\n",
    "\n",
    "    fig.update_layout(\n",
    "        title = f'Time between murders in {city_print} for {gender_print} {race_print} victims'\n",
    "    )\n",
    "\n",
    "    \n",
    "    return fig#, df_time\n",
    "\n",
    "def make_spiral_plot(df):\n",
    "    df['year'] = df['reported_date'].dt.strftime('%y')\n",
    "    df['month2'] = df['reported_date'].dt.strftime('%m')\n",
    "    df_summary = df.groupby(['year', 'month2']).size().reset_index(name = 'num_murders_year_month')\n",
    "    df_summary['constant_value'] = 1 \n",
    "\n",
    "    fig = px.bar_polar(df_summary, \n",
    "                   r = 'constant_value', \n",
    "                   #r = 'year',\n",
    "                   #hover_data=['year'],\n",
    "                   custom_data=['year', 'month2', 'num_murders_year_month'], #inkluder evt year og month formateret rigtigt i df_summary \n",
    "                   theta='month2', \n",
    "                   color = 'num_murders_year_month',  \n",
    "                   direction = 'counterclockwise'\n",
    "                   )\n",
    "    fig.update_polars(hole = 0.25, radialaxis=dict(showticklabels=False, ticks='', linewidth=0)) \n",
    "    fig.update_traces(hovertemplate='Year: %{customdata[0]}<br>Month: %{customdata[1]}<br>Murders: %{customdata[2]}') \n",
    "    return fig\n",
    "\n",
    "\n",
    "\n",
    "def make_map(df, city):\n",
    "    fig = px.scatter_mapbox(\n",
    "        df if city != 'all cities' else city_df,\n",
    "        lat=\"lat\" if city != 'all cities' else 'avg_lat',\n",
    "        lon=\"lon\" if city != 'all cities' else 'avg_lon',\n",
    "        hover_name=\"victim_full_name\" if city != 'all cities' else 'city',\n",
    "        hover_data=[\"victim_race\", \"victim_age\", \"victim_sex\", \"reported_date\"] if city != 'all cities' else None,\n",
    "        color = \"disposition\"  if city != 'all cities' else \"open_prop\",\n",
    "        color_continuous_scale=[\"green\",\"white\",\"red\"] if city=='all cities' else None,\n",
    "        color_continuous_midpoint=0.5 if city=='all cities' else None,\n",
    "        size='No_homocides_norm_pr1000' if city=='all cities' else None,\n",
    "        center={\"lat\": 39.8283, \"lon\": -98.5795} if city=='all cities' else None,\n",
    "        height=700\n",
    "    )\n",
    "\n",
    "    \n",
    "    fig.update_layout(mapbox_style=\"light\", \n",
    "                      mapbox_accesstoken=mapbox_token, \n",
    "                      #title = title,\n",
    "                      #mapbox_center={\"lat\": center_lat, \"lon\": center_lon},  \n",
    "                      #mapbox_zoom = 10,\n",
    "                      autosize = True\n",
    "                      )\n",
    "    \n",
    "    fig.update_layout(mapbox_zoom = 9 if city != 'all cities' else 3.9)\n",
    "\n",
    "    fig.update_traces(uirevision='persist')\n",
    "    \n",
    "    fig.update_layout(margin={\"r\": 0, \"l\": 0, \"b\": 0})\n",
    "    fig.update_layout(clickmode='event+select',\n",
    "                      hovermode='closest')\n",
    "    return fig\n",
    "\n",
    "\n",
    "\n",
    "#helper function to filter data based on city, race, sex\n",
    "def filter_df(selected_city, selected_race, selected_sex, df = df):\n",
    "    all_cities_filter = selected_city == 'all cities'\n",
    "    all_race_filter = selected_race == 'all'\n",
    "    all_sex_filter = selected_sex == 'all'\n",
    "\n",
    "    if all_cities_filter and all_race_filter and all_sex_filter:\n",
    "        # Handle the case when all filters are 'all'\n",
    "        filtered_df = df  # Include all data\n",
    "    else:\n",
    "        city_filter = df['city'] == selected_city if not all_cities_filter else True\n",
    "        race_filter = df['victim_race'] == selected_race if not all_race_filter else True\n",
    "        sex_filter = df['victim_sex'] == selected_sex if not all_sex_filter else True\n",
    "\n",
    "        filtered_df = df[city_filter & race_filter & sex_filter]\n",
    "    return filtered_df\n",
    "\n",
    "\n",
    "\n",
    "@app.callback(\n",
    "    [Output('murder-map', 'figure'),\n",
    "    Output('disp-colchart', 'figure'),\n",
    "    #Output('arrested-linechart', 'figure'),\n",
    "    #Output('time-map', 'figure'),\n",
    "    Output('time-spiral', 'figure')\n",
    "    ],\n",
    "    \n",
    "    [Input('city_dropdown', 'value'),\n",
    "     Input('race_dropdown', 'value'),\n",
    "     Input('sex_dropdown', 'value')\n",
    "    ]\n",
    ")\n",
    "def update_figs_on_dropdowns(selected_city, selected_race, selected_sex):\n",
    "    filtered_df = filter_df(selected_city, selected_race, selected_sex)\n",
    "\n",
    "    fig_map = make_map(filtered_df, selected_city)\n",
    "    fig_col = make_colchart(filtered_df)\n",
    "    #fig_line = make_linechart(filtered_df)\n",
    "    #fig_time = make_time_map(filtered_df)\n",
    "    fig_spiral = make_spiral_plot(filtered_df)\n",
    "    return fig_map, fig_col, fig_spiral #fig_time #fig_line\n",
    "\n",
    "\n",
    "@app.callback(\n",
    "    [Output('disp-colchart', 'figure', allow_duplicate=True),\n",
    "     #Output('arrested-linechart', 'figure', allow_duplicate = True),\n",
    "     #Output('time-map', 'figure', allow_duplicate = True),\n",
    "     Output('time-spiral', 'figure', allow_duplicate = True)\n",
    "     ], \n",
    "    [Input('murder-map', 'selectedData')],\n",
    "    [State('city_dropdown', 'value'), State('race_dropdown', 'value'), State('sex_dropdown', 'value')],\n",
    "    prevent_initial_call = True\n",
    ")\n",
    "def update_figures_on_map_selection(selected_data, selected_city, selected_race, selected_sex):\n",
    "    if selected_data:\n",
    "        # Extract the selected points from the map\n",
    "        selected_points = selected_data['points']\n",
    "\n",
    "        # Get the victim_full_name(s) from the selected points\n",
    "        selected_names = [point['hovertext'] for point in selected_points]\n",
    "\n",
    "        # Filter the DataFrame based on selected names, city, race, and sex\n",
    "        filtered_df = df[df['victim_full_name'].isin(selected_names)]\n",
    "        filtered_df = filter_df(selected_city, selected_race, selected_sex, filtered_df)\n",
    "\n",
    "        # Generate the column chart using the filtered DataFrame\n",
    "        fig_col = make_colchart(filtered_df)\n",
    "        #fig_line = make_linechart(filtered_df)\n",
    "        #fig_time = make_time_map(filtered_df)\n",
    "        fig_spiral = make_spiral_plot(filtered_df)\n",
    "        return fig_col, fig_spiral #fig_time #,fig_line\n",
    "    else:\n",
    "        fig_col = make_colchart(filter_df(selected_city, selected_race, selected_sex))\n",
    "        #fig_line = make_linechart(filter_df(selected_city, selected_race, selected_sex))\n",
    "        #fig_time = make_time_map(filter_df(selected_city, selected_race, selected_sex))\n",
    "        fig_spiral = make_spiral_plot(filter_df(selected_city, selected_race, selected_sex))\n",
    "        return fig_col, fig_spiral #fig_time#fig_line\n",
    "    \n",
    "\n",
    "\n",
    "\n",
    "@app.callback(\n",
    "    Output('city_dropdown', 'value'),\n",
    "    Input('selected-city', 'data'),\n",
    "    prevent_initial_call = True\n",
    ")\n",
    "def update_city_dropdown(selected_city):\n",
    "    return selected_city\n",
    "\n",
    "@app.callback(\n",
    "    Output('selected-city', 'data'),\n",
    "    [Input('murder-map', 'clickData')],\n",
    "    [State('city_dropdown', 'value')]\n",
    ")\n",
    "def update_on_click(click_data, selected_city):\n",
    "    if selected_city == 'all cities':\n",
    "        if click_data:\n",
    "            selected_city = click_data['points'][0]['hovertext']\n",
    "            return selected_city\n",
    "    raise PreventUpdate\n",
    "\n",
    "@app.callback(\n",
    "    Output('title-output', 'children'),\n",
    "    [Input('city_dropdown', 'value')]\n",
    ")\n",
    "def update_title(city):\n",
    "    city_list = [city for city in df['city'].unique()]\n",
    "    if city in city_list:\n",
    "        return f'Murders in {city}' \n",
    "    else:\n",
    "        return 'Murders in the US'\n",
    "\n",
    "\n",
    "if __name__ == '__main__':\n",
    "    app.run_server(debug=True, jupyter_mode = \"tab\", port = 8050)\n"
   ]
  },
  {
   "cell_type": "markdown",
   "metadata": {},
   "source": [
    "Testing things"
   ]
  },
  {
   "cell_type": "markdown",
   "metadata": {},
   "source": [
    "Problem: På stort kort opdaterer mord per 1000 indbygger og prop open ikke ved filtrering på race og køn. \n",
    " - Mord per 1000 indbygger er svært at håndtere, da vi ikke har population per befolkningsgruppe\n",
    " - Kan man nøjes med blot at opdatere prop closed baseret på filtrering?"
   ]
  },
  {
   "cell_type": "code",
   "execution_count": 8,
   "metadata": {},
   "outputs": [],
   "source": [
    "def update_prop_open_df(selected_race, selected_sex, df = df):\n",
    "    df_filtered = df.iloc[:, 0:13].query('victim_race == @selected_race and victim_sex == @selected_sex')\n",
    "    citydata_new = citydata.drop('State', axis = 1).rename(columns={\"lat\": \"avg_lat\", \"lon\": \"avg_lon\", \"Abbreviation\":\"state\"})\n",
    "    joined_df = pd.merge(df_filtered, citydata_new, on = ['city', 'state'])\n",
    "\n",
    "    obs_disp = joined_df.groupby(['disposition', 'city']).size().reset_index(name='n_obs')\n",
    "\n",
    "    # Pivot the DataFrame to have 'disposition' as columns and 'city' as index\n",
    "    obs_disp_pivot = obs_disp.pivot(index='city', columns='disposition', values='n_obs')\n",
    "\n",
    "    # Calculate the proportion of 'Open/No arrest' over the sum of all dispositions\n",
    "    obs_disp_pivot['open_prop'] = obs_disp_pivot['Open/No arrest'] / obs_disp_pivot.sum(axis=1)\n",
    "\n",
    "    # Reset index if you want to have 'city' as a regular column\n",
    "    obs_disp_pivot = obs_disp_pivot.reset_index()\n",
    "\n",
    "    return(obs_disp_pivot)\n",
    "\n",
    "    "
   ]
  },
  {
   "cell_type": "markdown",
   "metadata": {},
   "source": [
    "#### Num murders per year barchart"
   ]
  },
  {
   "cell_type": "code",
   "execution_count": 77,
   "metadata": {},
   "outputs": [],
   "source": [
    "#df['year'] = df['reported_date'].dt.strftime('%y')\n",
    "\n",
    "#df.groupby('year').size().reset_index(name = 'num_murders_year')\n",
    "\n",
    "def make_colchart_counts(df):\n",
    "    df['year'] = df['reported_date'].dt.strftime('%Y')\n",
    "    year_counts = df.groupby('year').size().reset_index(name = 'num_murders_year')\n",
    "    \n",
    "    fig = go.Figure(data=go.Bar(x=year_counts['year'], \n",
    "                                y=year_counts['num_murders_year'],\n",
    "                                marker_color=\"Gold\"))\n",
    "   \n",
    "    #fig = px.line(year_counts, \n",
    "    #                x='year', \n",
    "    #                y='num_murders_year', \n",
    "    #                title='Murders per year')\n",
    "\n",
    "\n",
    "    fig.update_layout(dragmode='zoom',width=500, height=290)\n",
    "    fig.update_layout(margin={\"r\": 5, \"t\": 5, \"l\": 5, \"b\": 5}) \n",
    "    return fig\n"
   ]
  },
  {
   "cell_type": "code",
   "execution_count": 78,
   "metadata": {},
   "outputs": [
    {
     "data": {
      "application/vnd.plotly.v1+json": {
       "config": {
        "plotlyServerURL": "https://plot.ly"
       },
       "data": [
        {
         "marker": {
          "color": "Gold"
         },
         "type": "bar",
         "x": [
          "2007",
          "2008",
          "2009",
          "2010",
          "2011",
          "2012",
          "2013",
          "2014",
          "2015",
          "2016",
          "2017"
         ],
         "y": [
          4268,
          4215,
          3735,
          4610,
          4562,
          4908,
          4599,
          4608,
          5336,
          6290,
          5048
         ]
        }
       ],
       "layout": {
        "dragmode": "zoom",
        "height": 290,
        "margin": {
         "b": 5,
         "l": 5,
         "r": 5,
         "t": 5
        },
        "template": {
         "data": {
          "bar": [
           {
            "error_x": {
             "color": "#2a3f5f"
            },
            "error_y": {
             "color": "#2a3f5f"
            },
            "marker": {
             "line": {
              "color": "#E5ECF6",
              "width": 0.5
             },
             "pattern": {
              "fillmode": "overlay",
              "size": 10,
              "solidity": 0.2
             }
            },
            "type": "bar"
           }
          ],
          "barpolar": [
           {
            "marker": {
             "line": {
              "color": "#E5ECF6",
              "width": 0.5
             },
             "pattern": {
              "fillmode": "overlay",
              "size": 10,
              "solidity": 0.2
             }
            },
            "type": "barpolar"
           }
          ],
          "carpet": [
           {
            "aaxis": {
             "endlinecolor": "#2a3f5f",
             "gridcolor": "white",
             "linecolor": "white",
             "minorgridcolor": "white",
             "startlinecolor": "#2a3f5f"
            },
            "baxis": {
             "endlinecolor": "#2a3f5f",
             "gridcolor": "white",
             "linecolor": "white",
             "minorgridcolor": "white",
             "startlinecolor": "#2a3f5f"
            },
            "type": "carpet"
           }
          ],
          "choropleth": [
           {
            "colorbar": {
             "outlinewidth": 0,
             "ticks": ""
            },
            "type": "choropleth"
           }
          ],
          "contour": [
           {
            "colorbar": {
             "outlinewidth": 0,
             "ticks": ""
            },
            "colorscale": [
             [
              0,
              "#0d0887"
             ],
             [
              0.1111111111111111,
              "#46039f"
             ],
             [
              0.2222222222222222,
              "#7201a8"
             ],
             [
              0.3333333333333333,
              "#9c179e"
             ],
             [
              0.4444444444444444,
              "#bd3786"
             ],
             [
              0.5555555555555556,
              "#d8576b"
             ],
             [
              0.6666666666666666,
              "#ed7953"
             ],
             [
              0.7777777777777778,
              "#fb9f3a"
             ],
             [
              0.8888888888888888,
              "#fdca26"
             ],
             [
              1,
              "#f0f921"
             ]
            ],
            "type": "contour"
           }
          ],
          "contourcarpet": [
           {
            "colorbar": {
             "outlinewidth": 0,
             "ticks": ""
            },
            "type": "contourcarpet"
           }
          ],
          "heatmap": [
           {
            "colorbar": {
             "outlinewidth": 0,
             "ticks": ""
            },
            "colorscale": [
             [
              0,
              "#0d0887"
             ],
             [
              0.1111111111111111,
              "#46039f"
             ],
             [
              0.2222222222222222,
              "#7201a8"
             ],
             [
              0.3333333333333333,
              "#9c179e"
             ],
             [
              0.4444444444444444,
              "#bd3786"
             ],
             [
              0.5555555555555556,
              "#d8576b"
             ],
             [
              0.6666666666666666,
              "#ed7953"
             ],
             [
              0.7777777777777778,
              "#fb9f3a"
             ],
             [
              0.8888888888888888,
              "#fdca26"
             ],
             [
              1,
              "#f0f921"
             ]
            ],
            "type": "heatmap"
           }
          ],
          "heatmapgl": [
           {
            "colorbar": {
             "outlinewidth": 0,
             "ticks": ""
            },
            "colorscale": [
             [
              0,
              "#0d0887"
             ],
             [
              0.1111111111111111,
              "#46039f"
             ],
             [
              0.2222222222222222,
              "#7201a8"
             ],
             [
              0.3333333333333333,
              "#9c179e"
             ],
             [
              0.4444444444444444,
              "#bd3786"
             ],
             [
              0.5555555555555556,
              "#d8576b"
             ],
             [
              0.6666666666666666,
              "#ed7953"
             ],
             [
              0.7777777777777778,
              "#fb9f3a"
             ],
             [
              0.8888888888888888,
              "#fdca26"
             ],
             [
              1,
              "#f0f921"
             ]
            ],
            "type": "heatmapgl"
           }
          ],
          "histogram": [
           {
            "marker": {
             "pattern": {
              "fillmode": "overlay",
              "size": 10,
              "solidity": 0.2
             }
            },
            "type": "histogram"
           }
          ],
          "histogram2d": [
           {
            "colorbar": {
             "outlinewidth": 0,
             "ticks": ""
            },
            "colorscale": [
             [
              0,
              "#0d0887"
             ],
             [
              0.1111111111111111,
              "#46039f"
             ],
             [
              0.2222222222222222,
              "#7201a8"
             ],
             [
              0.3333333333333333,
              "#9c179e"
             ],
             [
              0.4444444444444444,
              "#bd3786"
             ],
             [
              0.5555555555555556,
              "#d8576b"
             ],
             [
              0.6666666666666666,
              "#ed7953"
             ],
             [
              0.7777777777777778,
              "#fb9f3a"
             ],
             [
              0.8888888888888888,
              "#fdca26"
             ],
             [
              1,
              "#f0f921"
             ]
            ],
            "type": "histogram2d"
           }
          ],
          "histogram2dcontour": [
           {
            "colorbar": {
             "outlinewidth": 0,
             "ticks": ""
            },
            "colorscale": [
             [
              0,
              "#0d0887"
             ],
             [
              0.1111111111111111,
              "#46039f"
             ],
             [
              0.2222222222222222,
              "#7201a8"
             ],
             [
              0.3333333333333333,
              "#9c179e"
             ],
             [
              0.4444444444444444,
              "#bd3786"
             ],
             [
              0.5555555555555556,
              "#d8576b"
             ],
             [
              0.6666666666666666,
              "#ed7953"
             ],
             [
              0.7777777777777778,
              "#fb9f3a"
             ],
             [
              0.8888888888888888,
              "#fdca26"
             ],
             [
              1,
              "#f0f921"
             ]
            ],
            "type": "histogram2dcontour"
           }
          ],
          "mesh3d": [
           {
            "colorbar": {
             "outlinewidth": 0,
             "ticks": ""
            },
            "type": "mesh3d"
           }
          ],
          "parcoords": [
           {
            "line": {
             "colorbar": {
              "outlinewidth": 0,
              "ticks": ""
             }
            },
            "type": "parcoords"
           }
          ],
          "pie": [
           {
            "automargin": true,
            "type": "pie"
           }
          ],
          "scatter": [
           {
            "fillpattern": {
             "fillmode": "overlay",
             "size": 10,
             "solidity": 0.2
            },
            "type": "scatter"
           }
          ],
          "scatter3d": [
           {
            "line": {
             "colorbar": {
              "outlinewidth": 0,
              "ticks": ""
             }
            },
            "marker": {
             "colorbar": {
              "outlinewidth": 0,
              "ticks": ""
             }
            },
            "type": "scatter3d"
           }
          ],
          "scattercarpet": [
           {
            "marker": {
             "colorbar": {
              "outlinewidth": 0,
              "ticks": ""
             }
            },
            "type": "scattercarpet"
           }
          ],
          "scattergeo": [
           {
            "marker": {
             "colorbar": {
              "outlinewidth": 0,
              "ticks": ""
             }
            },
            "type": "scattergeo"
           }
          ],
          "scattergl": [
           {
            "marker": {
             "colorbar": {
              "outlinewidth": 0,
              "ticks": ""
             }
            },
            "type": "scattergl"
           }
          ],
          "scattermapbox": [
           {
            "marker": {
             "colorbar": {
              "outlinewidth": 0,
              "ticks": ""
             }
            },
            "type": "scattermapbox"
           }
          ],
          "scatterpolar": [
           {
            "marker": {
             "colorbar": {
              "outlinewidth": 0,
              "ticks": ""
             }
            },
            "type": "scatterpolar"
           }
          ],
          "scatterpolargl": [
           {
            "marker": {
             "colorbar": {
              "outlinewidth": 0,
              "ticks": ""
             }
            },
            "type": "scatterpolargl"
           }
          ],
          "scatterternary": [
           {
            "marker": {
             "colorbar": {
              "outlinewidth": 0,
              "ticks": ""
             }
            },
            "type": "scatterternary"
           }
          ],
          "surface": [
           {
            "colorbar": {
             "outlinewidth": 0,
             "ticks": ""
            },
            "colorscale": [
             [
              0,
              "#0d0887"
             ],
             [
              0.1111111111111111,
              "#46039f"
             ],
             [
              0.2222222222222222,
              "#7201a8"
             ],
             [
              0.3333333333333333,
              "#9c179e"
             ],
             [
              0.4444444444444444,
              "#bd3786"
             ],
             [
              0.5555555555555556,
              "#d8576b"
             ],
             [
              0.6666666666666666,
              "#ed7953"
             ],
             [
              0.7777777777777778,
              "#fb9f3a"
             ],
             [
              0.8888888888888888,
              "#fdca26"
             ],
             [
              1,
              "#f0f921"
             ]
            ],
            "type": "surface"
           }
          ],
          "table": [
           {
            "cells": {
             "fill": {
              "color": "#EBF0F8"
             },
             "line": {
              "color": "white"
             }
            },
            "header": {
             "fill": {
              "color": "#C8D4E3"
             },
             "line": {
              "color": "white"
             }
            },
            "type": "table"
           }
          ]
         },
         "layout": {
          "annotationdefaults": {
           "arrowcolor": "#2a3f5f",
           "arrowhead": 0,
           "arrowwidth": 1
          },
          "autotypenumbers": "strict",
          "coloraxis": {
           "colorbar": {
            "outlinewidth": 0,
            "ticks": ""
           }
          },
          "colorscale": {
           "diverging": [
            [
             0,
             "#8e0152"
            ],
            [
             0.1,
             "#c51b7d"
            ],
            [
             0.2,
             "#de77ae"
            ],
            [
             0.3,
             "#f1b6da"
            ],
            [
             0.4,
             "#fde0ef"
            ],
            [
             0.5,
             "#f7f7f7"
            ],
            [
             0.6,
             "#e6f5d0"
            ],
            [
             0.7,
             "#b8e186"
            ],
            [
             0.8,
             "#7fbc41"
            ],
            [
             0.9,
             "#4d9221"
            ],
            [
             1,
             "#276419"
            ]
           ],
           "sequential": [
            [
             0,
             "#0d0887"
            ],
            [
             0.1111111111111111,
             "#46039f"
            ],
            [
             0.2222222222222222,
             "#7201a8"
            ],
            [
             0.3333333333333333,
             "#9c179e"
            ],
            [
             0.4444444444444444,
             "#bd3786"
            ],
            [
             0.5555555555555556,
             "#d8576b"
            ],
            [
             0.6666666666666666,
             "#ed7953"
            ],
            [
             0.7777777777777778,
             "#fb9f3a"
            ],
            [
             0.8888888888888888,
             "#fdca26"
            ],
            [
             1,
             "#f0f921"
            ]
           ],
           "sequentialminus": [
            [
             0,
             "#0d0887"
            ],
            [
             0.1111111111111111,
             "#46039f"
            ],
            [
             0.2222222222222222,
             "#7201a8"
            ],
            [
             0.3333333333333333,
             "#9c179e"
            ],
            [
             0.4444444444444444,
             "#bd3786"
            ],
            [
             0.5555555555555556,
             "#d8576b"
            ],
            [
             0.6666666666666666,
             "#ed7953"
            ],
            [
             0.7777777777777778,
             "#fb9f3a"
            ],
            [
             0.8888888888888888,
             "#fdca26"
            ],
            [
             1,
             "#f0f921"
            ]
           ]
          },
          "colorway": [
           "#636efa",
           "#EF553B",
           "#00cc96",
           "#ab63fa",
           "#FFA15A",
           "#19d3f3",
           "#FF6692",
           "#B6E880",
           "#FF97FF",
           "#FECB52"
          ],
          "font": {
           "color": "#2a3f5f"
          },
          "geo": {
           "bgcolor": "white",
           "lakecolor": "white",
           "landcolor": "#E5ECF6",
           "showlakes": true,
           "showland": true,
           "subunitcolor": "white"
          },
          "hoverlabel": {
           "align": "left"
          },
          "hovermode": "closest",
          "mapbox": {
           "style": "light"
          },
          "paper_bgcolor": "white",
          "plot_bgcolor": "#E5ECF6",
          "polar": {
           "angularaxis": {
            "gridcolor": "white",
            "linecolor": "white",
            "ticks": ""
           },
           "bgcolor": "#E5ECF6",
           "radialaxis": {
            "gridcolor": "white",
            "linecolor": "white",
            "ticks": ""
           }
          },
          "scene": {
           "xaxis": {
            "backgroundcolor": "#E5ECF6",
            "gridcolor": "white",
            "gridwidth": 2,
            "linecolor": "white",
            "showbackground": true,
            "ticks": "",
            "zerolinecolor": "white"
           },
           "yaxis": {
            "backgroundcolor": "#E5ECF6",
            "gridcolor": "white",
            "gridwidth": 2,
            "linecolor": "white",
            "showbackground": true,
            "ticks": "",
            "zerolinecolor": "white"
           },
           "zaxis": {
            "backgroundcolor": "#E5ECF6",
            "gridcolor": "white",
            "gridwidth": 2,
            "linecolor": "white",
            "showbackground": true,
            "ticks": "",
            "zerolinecolor": "white"
           }
          },
          "shapedefaults": {
           "line": {
            "color": "#2a3f5f"
           }
          },
          "ternary": {
           "aaxis": {
            "gridcolor": "white",
            "linecolor": "white",
            "ticks": ""
           },
           "baxis": {
            "gridcolor": "white",
            "linecolor": "white",
            "ticks": ""
           },
           "bgcolor": "#E5ECF6",
           "caxis": {
            "gridcolor": "white",
            "linecolor": "white",
            "ticks": ""
           }
          },
          "title": {
           "x": 0.05
          },
          "xaxis": {
           "automargin": true,
           "gridcolor": "white",
           "linecolor": "white",
           "ticks": "",
           "title": {
            "standoff": 15
           },
           "zerolinecolor": "white",
           "zerolinewidth": 2
          },
          "yaxis": {
           "automargin": true,
           "gridcolor": "white",
           "linecolor": "white",
           "ticks": "",
           "title": {
            "standoff": 15
           },
           "zerolinecolor": "white",
           "zerolinewidth": 2
          }
         }
        },
        "width": 500
       }
      }
     },
     "metadata": {},
     "output_type": "display_data"
    }
   ],
   "source": [
    "make_colchart_counts(df)"
   ]
  },
  {
   "cell_type": "code",
   "execution_count": null,
   "metadata": {},
   "outputs": [],
   "source": []
  }
 ],
 "metadata": {
  "kernelspec": {
   "display_name": ".venv",
   "language": "python",
   "name": "python3"
  },
  "language_info": {
   "codemirror_mode": {
    "name": "ipython",
    "version": 3
   },
   "file_extension": ".py",
   "mimetype": "text/x-python",
   "name": "python",
   "nbconvert_exporter": "python",
   "pygments_lexer": "ipython3",
   "version": "3.11.5"
  }
 },
 "nbformat": 4,
 "nbformat_minor": 2
}
