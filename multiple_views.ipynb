{
 "cells": [
  {
   "cell_type": "code",
   "execution_count": 19,
   "metadata": {},
   "outputs": [],
   "source": [
    "import numpy as np\n",
    "import pandas as pd\n",
    "import plotly.graph_objects as go\n",
    "import dash\n",
    "from dash import dcc, html, Dash, State\n",
    "from dash.dependencies import Input, Output\n",
    "import plotly.graph_objects as go\n",
    "import plotly.express as px\n",
    "from dash.exceptions import PreventUpdate\n",
    "\n",
    "mapbox_token = 'pk.eyJ1IjoiYW5kcmVhc29zdGVkIiwiYSI6ImNsbmJxMjFndDA4dm8ybXJrMzhia2NqdnoifQ.fXDNIJ1LelhA1ypNiaJE9w'"
   ]
  },
  {
   "cell_type": "markdown",
   "metadata": {},
   "source": [
    "Data wrangling"
   ]
  },
  {
   "cell_type": "code",
   "execution_count": 20,
   "metadata": {},
   "outputs": [],
   "source": [
    "df = pd.read_csv('Data/homicide_data.csv')\n",
    "df['victim_full_name'] = df['victim_first'] +  ' ' + df['victim_last']\n",
    "\n",
    "df = df.sort_values('city')\n",
    "\n",
    "df['reported_date'] = pd.to_datetime(df['reported_date'], format='%Y%m%d')\n",
    "# Extract month from date and convert to string\n",
    "df['month'] = df['reported_date'].dt.strftime('%Y-%m')\n",
    "avg_city_coords = df.groupby('city').agg({'lat': 'mean', 'lon': 'mean'}).reset_index()\\\n",
    "                .rename(columns={\"lat\": \"avg_lat\", \"lon\": \"avg_lon\"})\n",
    "\n",
    "df = pd.merge(df, avg_city_coords, on = 'city', how = 'left')"
   ]
  },
  {
   "cell_type": "markdown",
   "metadata": {},
   "source": [
    "Dash app"
   ]
  },
  {
   "cell_type": "code",
   "execution_count": 34,
   "metadata": {},
   "outputs": [
    {
     "name": "stdout",
     "output_type": "stream",
     "text": [
      "Dash app running on http://127.0.0.1:8050/\n"
     ]
    },
    {
     "data": {
      "application/javascript": "window.open('http://127.0.0.1:8050/')",
      "text/plain": [
       "<IPython.core.display.Javascript object>"
      ]
     },
     "metadata": {},
     "output_type": "display_data"
    }
   ],
   "source": [
    "app = dash.Dash(__name__)\n",
    "\n",
    "cityoptions = [{'label': 'Select all', 'value': 'all cities'}]+[{'label': city, 'value': city} for city in sorted(df['city'].unique())]\n",
    "raceoptions = [{'label': 'Select all', 'value': 'all'}]+[{'label': r, 'value': r} for r in sorted(df['victim_race'].unique())]\n",
    "sexoptions = [{'label': 'Select all', 'value': 'all'}]+[{'label': s, 'value': s} for s in sorted(df['victim_sex'].unique())]\n",
    "\n",
    "# Define layout\n",
    "app.layout = html.Div([\n",
    "    html.H4(id='title-output',style={\"margin-bottom\":\"5px\",\"margin-top\":\"1px\",\"font-size\":\"20px\",\"text-align\":\"center\"}),\n",
    "    dcc.Dropdown(\n",
    "        id='city_dropdown',\n",
    "        options = cityoptions,\n",
    "        value = 'all cities', #default\n",
    "        #value = None,\n",
    "        #placeholder = \"Select city\",\n",
    "        clearable=False,\n",
    "        style={\"width\": \"200px\", \"display\": \"inline-block\",\"margin-top\":\"0\"}\n",
    "    ),\n",
    "        dcc.Dropdown(\n",
    "        id='race_dropdown',\n",
    "        options = raceoptions,\n",
    "        value = 'all', #default\n",
    "        #value = None,\n",
    "        #placeholder = \"Select race\",\n",
    "        clearable=False,\n",
    "        style={\"width\": \"200px\", \"display\": \"inline-block\",\"margin-top\":\"0\"}\n",
    "    ),\n",
    "        dcc.Dropdown(\n",
    "        id='sex_dropdown',\n",
    "        options = sexoptions,\n",
    "        value = 'all', #default\n",
    "        #value = None,\n",
    "        #placeholder = \"Select gender\",\n",
    "        clearable=False,\n",
    "        style={\"width\": \"200px\", \"display\": \"inline-block\",\"margin-top\":\"0\"}\n",
    "    ),\n",
    "    dcc.Graph(id = 'murder-map'),\n",
    "    dcc.Graph(id = 'disp-colchart'),\n",
    "    dcc.Graph(id = 'arrested-linechart'),\n",
    "dcc.Store(id='selected-city', data = 'all cities')\n",
    "])\n",
    "\n",
    "\n",
    "def make_colchart(df):\n",
    "    fig = go.Figure(data=go.Bar(x=np.unique(df[\"disposition\"]), y=df[\"disposition\"].value_counts(),\n",
    "                    marker_color=\"Gold\"))\n",
    "    fig.update_layout(dragmode='zoom',width=500, height=290)\n",
    "    fig.update_layout(margin={\"r\": 5, \"t\": 5, \"l\": 5, \"b\": 5}) \n",
    "    return fig\n",
    "\n",
    "\n",
    "def make_linechart(df):\n",
    "    if len(df) == 0:\n",
    "        fig = px.scatter(title='No data available')\n",
    "        return fig\n",
    "    else:\n",
    "        grouped = df.groupby(['month', 'disposition']).size().unstack(fill_value=0)\n",
    "\n",
    "        # Calculate the proportion of closed cases by arrest\n",
    "        grouped['closed_arrested'] = grouped['Closed by arrest'] / grouped.sum(axis=1)\n",
    "\n",
    "        # Calculate the rolling average\n",
    "        window = 6  # You can adjust the window size\n",
    "        grouped['smoothed'] = grouped['closed_arrested'].rolling(window=window).mean()\n",
    "\n",
    "        # Create a line chart\n",
    "        fig = px.line(grouped, \n",
    "                    x=grouped.index, \n",
    "                    y='closed_arrested', \n",
    "                    title='Proportion of Closed Cases by Arrest Over Time')\n",
    "\n",
    "        # Add smoothed line\n",
    "        fig.add_scatter(x=grouped.index, y=grouped['smoothed'], mode='lines', name='Smoothed', line=dict(color='red'))\n",
    "\n",
    "        return fig\n",
    "\n",
    "def make_map2(df, city):\n",
    "    fig = px.scatter_mapbox(\n",
    "        df if city != 'all cities' else avg_city_coords,\n",
    "        lat=\"lat\" if city != 'all cities' else 'avg_lat',\n",
    "        lon=\"lon\" if city != 'all cities' else 'avg_lon',\n",
    "        hover_name=\"victim_full_name\" if city != 'all cities' else 'city',\n",
    "        hover_data=[\"victim_race\", \"victim_age\", \"victim_sex\", \"reported_date\"] if city != 'all cities' else None,\n",
    "        color = \"disposition\"  if city != 'all cities' else None,\n",
    "        height=700\n",
    "    )\n",
    "    #title = f'Murders in {city}' if city is not None else ''\n",
    "\n",
    "    if city == 'all cities':\n",
    "        fig.update_traces(marker={'size': 10})\n",
    "\n",
    "    \n",
    "    fig.update_layout(mapbox_style=\"light\", \n",
    "                      mapbox_accesstoken=mapbox_token, \n",
    "                      #title = title,\n",
    "                      #mapbox_center={\"lat\": center_lat, \"lon\": center_lon},  \n",
    "                      #mapbox_zoom = 10,\n",
    "                      autosize = True\n",
    "                      )\n",
    "    \n",
    "    fig.update_layout(mapbox_zoom = 9 if city != 'all cities' else 3.9)\n",
    "\n",
    "    fig.update_traces(uirevision='persist')\n",
    "    \n",
    "    fig.update_layout(margin={\"r\": 0, \"l\": 0, \"b\": 0})\n",
    "    fig.update_layout(clickmode='event+select',\n",
    "                      hovermode='closest')\n",
    "    return fig\n",
    "\n",
    "'''\n",
    "def make_map(city):\n",
    "    filtered_df = df[df['city'] == city] if city != 'all cities' else df.groupby('city').agg({'lat': 'mean', 'lon': 'mean'}).reset_index()\n",
    "\n",
    "\n",
    "    fig = px.scatter_mapbox(\n",
    "        filtered_df,\n",
    "        lat=\"lat\",\n",
    "        lon=\"lon\",\n",
    "        hover_name=\"victim_full_name\" if city != 'all cities' else 'city',\n",
    "        hover_data=[\"victim_race\", \"victim_age\", \"victim_sex\"] if city != 'all cities' else None,\n",
    "        color = \"disposition\"  if city != 'all cities' else None,\n",
    "        height=700\n",
    "    )\n",
    "    \n",
    "    title = f'Murders in {city}' if city is not None else ''\n",
    "\n",
    "    \n",
    "    fig.update_layout(mapbox_style=\"light\", \n",
    "                      mapbox_accesstoken=mapbox_token, \n",
    "                      title = title,\n",
    "                      #mapbox_center={\"lat\": center_lat, \"lon\": center_lon},  \n",
    "                      #mapbox_zoom = 10,\n",
    "                      autosize = True\n",
    "                      )\n",
    "    \n",
    "    fig.update_layout(mapbox_zoom = 9 if city != 'all cities' else 3.9)\n",
    "\n",
    "    fig.update_traces(uirevision='persist')\n",
    "    \n",
    "    fig.update_layout(margin={\"r\": 0, \"l\": 0, \"b\": 0})\n",
    "    fig.update_layout(clickmode='event+select',\n",
    "                      hovermode='closest')\n",
    "    return fig\n",
    "'''\n",
    "\n",
    "#helper function to filter data based on city, race, sex\n",
    "def filter_df(selected_city, selected_race, selected_sex, df = df):\n",
    "    all_cities_filter = selected_city == 'all cities'\n",
    "    all_race_filter = selected_race == 'all'\n",
    "    all_sex_filter = selected_sex == 'all'\n",
    "\n",
    "    if all_cities_filter and all_race_filter and all_sex_filter:\n",
    "        # Handle the case when all filters are 'all'\n",
    "        filtered_df = df  # Include all data\n",
    "    else:\n",
    "        city_filter = df['city'] == selected_city if not all_cities_filter else True\n",
    "        race_filter = df['victim_race'] == selected_race if not all_race_filter else True\n",
    "        sex_filter = df['victim_sex'] == selected_sex if not all_sex_filter else True\n",
    "\n",
    "        filtered_df = df[city_filter & race_filter & sex_filter]\n",
    "    return filtered_df\n",
    "\n",
    "\n",
    "\n",
    "@app.callback(\n",
    "    [Output('murder-map', 'figure'),\n",
    "    Output('disp-colchart', 'figure'),\n",
    "    Output('arrested-linechart', 'figure')],\n",
    "    \n",
    "    [Input('city_dropdown', 'value'),\n",
    "     Input('race_dropdown', 'value'),\n",
    "     Input('sex_dropdown', 'value')\n",
    "    ]\n",
    ")\n",
    "def update_figs_on_dropdowns(selected_city, selected_race, selected_sex):\n",
    "    filtered_df = filter_df(selected_city, selected_race, selected_sex)\n",
    "\n",
    "    fig_map = make_map2(filtered_df, selected_city)\n",
    "    fig_col = make_colchart(filtered_df)\n",
    "    fig_line = make_linechart(filtered_df)\n",
    "    return fig_map, fig_col, fig_line\n",
    "\n",
    "\n",
    "@app.callback(\n",
    "    [Output('disp-colchart', 'figure', allow_duplicate=True),\n",
    "     Output('arrested-linechart', 'figure', allow_duplicate = True)], \n",
    "    [Input('murder-map', 'selectedData')],\n",
    "    [State('city_dropdown', 'value'), State('race_dropdown', 'value'), State('sex_dropdown', 'value')],\n",
    "    prevent_initial_call = True\n",
    ")\n",
    "def update_colchart_on_map_selection(selected_data, selected_city, selected_race, selected_sex):\n",
    "    if selected_data:\n",
    "        # Extract the selected points from the map\n",
    "        selected_points = selected_data['points']\n",
    "\n",
    "        # Get the victim_full_name(s) from the selected points\n",
    "        selected_names = [point['hovertext'] for point in selected_points]\n",
    "\n",
    "        # Filter the DataFrame based on selected names, city, race, and sex\n",
    "        filtered_df = df[df['victim_full_name'].isin(selected_names)]\n",
    "        filtered_df = filter_df(selected_city, selected_race, selected_sex, filtered_df)\n",
    "\n",
    "        # Generate the column chart using the filtered DataFrame\n",
    "        fig_col = make_colchart(filtered_df)\n",
    "        fig_line = make_linechart(filtered_df)\n",
    "        return fig_col, fig_line\n",
    "    else:\n",
    "        fig_col = make_colchart(filter_df(selected_city, selected_race, selected_sex))\n",
    "        fig_line = make_linechart(filter_df(selected_city, selected_race, selected_sex))\n",
    "        return fig_col, fig_line\n",
    "    \n",
    "\n",
    "\n",
    "\n",
    "@app.callback(\n",
    "    Output('city_dropdown', 'value'),\n",
    "    Input('selected-city', 'data'),\n",
    "    prevent_initial_call = True\n",
    ")\n",
    "def update_city_dropdown(selected_city):\n",
    "    return selected_city\n",
    "\n",
    "@app.callback(\n",
    "    Output('selected-city', 'data'),\n",
    "    [Input('murder-map', 'clickData')],\n",
    "    [State('city_dropdown', 'value')]\n",
    ")\n",
    "def update_on_click(click_data, selected_city):\n",
    "    if selected_city == 'all cities':\n",
    "        if click_data:\n",
    "            selected_city = click_data['points'][0]['hovertext']\n",
    "            return selected_city\n",
    "    raise PreventUpdate\n",
    "\n",
    "@app.callback(\n",
    "    Output('title-output', 'children'),\n",
    "    [Input('city_dropdown', 'value')]\n",
    ")\n",
    "def update_title(city):\n",
    "    city_list = [city for city in df['city'].unique()]\n",
    "    if city in city_list:\n",
    "        return f'Murders in {city}' \n",
    "    else:\n",
    "        return 'Murders in the US'\n",
    "\n",
    "\n",
    "if __name__ == '__main__':\n",
    "    app.run_server(debug=True, jupyter_mode = \"tab\", port = 8050)\n"
   ]
  },
  {
   "cell_type": "markdown",
   "metadata": {},
   "source": [
    "Testing things"
   ]
  },
  {
   "cell_type": "code",
   "execution_count": 31,
   "metadata": {},
   "outputs": [
    {
     "data": {
      "application/vnd.plotly.v1+json": {
       "config": {
        "plotlyServerURL": "https://plot.ly"
       },
       "data": [
        {
         "hovertemplate": "month=%{x}<br>closed_arrested=%{y}<extra></extra>",
         "legendgroup": "",
         "line": {
          "color": "#636efa",
          "dash": "solid"
         },
         "marker": {
          "symbol": "circle"
         },
         "mode": "lines",
         "name": "",
         "orientation": "v",
         "showlegend": false,
         "type": "scatter",
         "x": [
          "2007-06",
          "2007-09",
          "2007-12",
          "2008-06",
          "2008-09",
          "2008-11",
          "2009-01",
          "2009-02",
          "2009-04",
          "2010-03",
          "2010-04",
          "2010-12",
          "2011-09",
          "2014-09",
          "2015-09",
          "2015-10",
          "2015-11",
          "2016-07",
          "2016-09",
          "2016-10"
         ],
         "xaxis": "x",
         "y": [
          0,
          0,
          0,
          0,
          1,
          0,
          0,
          1,
          1,
          1,
          1,
          1,
          1,
          0,
          0,
          0,
          0,
          1,
          0,
          1
         ],
         "yaxis": "y"
        },
        {
         "line": {
          "color": "red"
         },
         "mode": "lines",
         "name": "Smoothed",
         "type": "scatter",
         "x": [
          "2007-06",
          "2007-09",
          "2007-12",
          "2008-06",
          "2008-09",
          "2008-11",
          "2009-01",
          "2009-02",
          "2009-04",
          "2010-03",
          "2010-04",
          "2010-12",
          "2011-09",
          "2014-09",
          "2015-09",
          "2015-10",
          "2015-11",
          "2016-07",
          "2016-09",
          "2016-10"
         ],
         "y": [
          null,
          null,
          null,
          null,
          null,
          0.16666666666666666,
          0.16666666666666666,
          0.3333333333333333,
          0.5,
          0.6666666666666666,
          0.6666666666666666,
          0.8333333333333334,
          1,
          0.8333333333333334,
          0.6666666666666666,
          0.5,
          0.3333333333333333,
          0.3333333333333333,
          0.16666666666666666,
          0.3333333333333333
         ]
        }
       ],
       "layout": {
        "legend": {
         "tracegroupgap": 0
        },
        "template": {
         "data": {
          "bar": [
           {
            "error_x": {
             "color": "#2a3f5f"
            },
            "error_y": {
             "color": "#2a3f5f"
            },
            "marker": {
             "line": {
              "color": "#E5ECF6",
              "width": 0.5
             },
             "pattern": {
              "fillmode": "overlay",
              "size": 10,
              "solidity": 0.2
             }
            },
            "type": "bar"
           }
          ],
          "barpolar": [
           {
            "marker": {
             "line": {
              "color": "#E5ECF6",
              "width": 0.5
             },
             "pattern": {
              "fillmode": "overlay",
              "size": 10,
              "solidity": 0.2
             }
            },
            "type": "barpolar"
           }
          ],
          "carpet": [
           {
            "aaxis": {
             "endlinecolor": "#2a3f5f",
             "gridcolor": "white",
             "linecolor": "white",
             "minorgridcolor": "white",
             "startlinecolor": "#2a3f5f"
            },
            "baxis": {
             "endlinecolor": "#2a3f5f",
             "gridcolor": "white",
             "linecolor": "white",
             "minorgridcolor": "white",
             "startlinecolor": "#2a3f5f"
            },
            "type": "carpet"
           }
          ],
          "choropleth": [
           {
            "colorbar": {
             "outlinewidth": 0,
             "ticks": ""
            },
            "type": "choropleth"
           }
          ],
          "contour": [
           {
            "colorbar": {
             "outlinewidth": 0,
             "ticks": ""
            },
            "colorscale": [
             [
              0,
              "#0d0887"
             ],
             [
              0.1111111111111111,
              "#46039f"
             ],
             [
              0.2222222222222222,
              "#7201a8"
             ],
             [
              0.3333333333333333,
              "#9c179e"
             ],
             [
              0.4444444444444444,
              "#bd3786"
             ],
             [
              0.5555555555555556,
              "#d8576b"
             ],
             [
              0.6666666666666666,
              "#ed7953"
             ],
             [
              0.7777777777777778,
              "#fb9f3a"
             ],
             [
              0.8888888888888888,
              "#fdca26"
             ],
             [
              1,
              "#f0f921"
             ]
            ],
            "type": "contour"
           }
          ],
          "contourcarpet": [
           {
            "colorbar": {
             "outlinewidth": 0,
             "ticks": ""
            },
            "type": "contourcarpet"
           }
          ],
          "heatmap": [
           {
            "colorbar": {
             "outlinewidth": 0,
             "ticks": ""
            },
            "colorscale": [
             [
              0,
              "#0d0887"
             ],
             [
              0.1111111111111111,
              "#46039f"
             ],
             [
              0.2222222222222222,
              "#7201a8"
             ],
             [
              0.3333333333333333,
              "#9c179e"
             ],
             [
              0.4444444444444444,
              "#bd3786"
             ],
             [
              0.5555555555555556,
              "#d8576b"
             ],
             [
              0.6666666666666666,
              "#ed7953"
             ],
             [
              0.7777777777777778,
              "#fb9f3a"
             ],
             [
              0.8888888888888888,
              "#fdca26"
             ],
             [
              1,
              "#f0f921"
             ]
            ],
            "type": "heatmap"
           }
          ],
          "heatmapgl": [
           {
            "colorbar": {
             "outlinewidth": 0,
             "ticks": ""
            },
            "colorscale": [
             [
              0,
              "#0d0887"
             ],
             [
              0.1111111111111111,
              "#46039f"
             ],
             [
              0.2222222222222222,
              "#7201a8"
             ],
             [
              0.3333333333333333,
              "#9c179e"
             ],
             [
              0.4444444444444444,
              "#bd3786"
             ],
             [
              0.5555555555555556,
              "#d8576b"
             ],
             [
              0.6666666666666666,
              "#ed7953"
             ],
             [
              0.7777777777777778,
              "#fb9f3a"
             ],
             [
              0.8888888888888888,
              "#fdca26"
             ],
             [
              1,
              "#f0f921"
             ]
            ],
            "type": "heatmapgl"
           }
          ],
          "histogram": [
           {
            "marker": {
             "pattern": {
              "fillmode": "overlay",
              "size": 10,
              "solidity": 0.2
             }
            },
            "type": "histogram"
           }
          ],
          "histogram2d": [
           {
            "colorbar": {
             "outlinewidth": 0,
             "ticks": ""
            },
            "colorscale": [
             [
              0,
              "#0d0887"
             ],
             [
              0.1111111111111111,
              "#46039f"
             ],
             [
              0.2222222222222222,
              "#7201a8"
             ],
             [
              0.3333333333333333,
              "#9c179e"
             ],
             [
              0.4444444444444444,
              "#bd3786"
             ],
             [
              0.5555555555555556,
              "#d8576b"
             ],
             [
              0.6666666666666666,
              "#ed7953"
             ],
             [
              0.7777777777777778,
              "#fb9f3a"
             ],
             [
              0.8888888888888888,
              "#fdca26"
             ],
             [
              1,
              "#f0f921"
             ]
            ],
            "type": "histogram2d"
           }
          ],
          "histogram2dcontour": [
           {
            "colorbar": {
             "outlinewidth": 0,
             "ticks": ""
            },
            "colorscale": [
             [
              0,
              "#0d0887"
             ],
             [
              0.1111111111111111,
              "#46039f"
             ],
             [
              0.2222222222222222,
              "#7201a8"
             ],
             [
              0.3333333333333333,
              "#9c179e"
             ],
             [
              0.4444444444444444,
              "#bd3786"
             ],
             [
              0.5555555555555556,
              "#d8576b"
             ],
             [
              0.6666666666666666,
              "#ed7953"
             ],
             [
              0.7777777777777778,
              "#fb9f3a"
             ],
             [
              0.8888888888888888,
              "#fdca26"
             ],
             [
              1,
              "#f0f921"
             ]
            ],
            "type": "histogram2dcontour"
           }
          ],
          "mesh3d": [
           {
            "colorbar": {
             "outlinewidth": 0,
             "ticks": ""
            },
            "type": "mesh3d"
           }
          ],
          "parcoords": [
           {
            "line": {
             "colorbar": {
              "outlinewidth": 0,
              "ticks": ""
             }
            },
            "type": "parcoords"
           }
          ],
          "pie": [
           {
            "automargin": true,
            "type": "pie"
           }
          ],
          "scatter": [
           {
            "fillpattern": {
             "fillmode": "overlay",
             "size": 10,
             "solidity": 0.2
            },
            "type": "scatter"
           }
          ],
          "scatter3d": [
           {
            "line": {
             "colorbar": {
              "outlinewidth": 0,
              "ticks": ""
             }
            },
            "marker": {
             "colorbar": {
              "outlinewidth": 0,
              "ticks": ""
             }
            },
            "type": "scatter3d"
           }
          ],
          "scattercarpet": [
           {
            "marker": {
             "colorbar": {
              "outlinewidth": 0,
              "ticks": ""
             }
            },
            "type": "scattercarpet"
           }
          ],
          "scattergeo": [
           {
            "marker": {
             "colorbar": {
              "outlinewidth": 0,
              "ticks": ""
             }
            },
            "type": "scattergeo"
           }
          ],
          "scattergl": [
           {
            "marker": {
             "colorbar": {
              "outlinewidth": 0,
              "ticks": ""
             }
            },
            "type": "scattergl"
           }
          ],
          "scattermapbox": [
           {
            "marker": {
             "colorbar": {
              "outlinewidth": 0,
              "ticks": ""
             }
            },
            "type": "scattermapbox"
           }
          ],
          "scatterpolar": [
           {
            "marker": {
             "colorbar": {
              "outlinewidth": 0,
              "ticks": ""
             }
            },
            "type": "scatterpolar"
           }
          ],
          "scatterpolargl": [
           {
            "marker": {
             "colorbar": {
              "outlinewidth": 0,
              "ticks": ""
             }
            },
            "type": "scatterpolargl"
           }
          ],
          "scatterternary": [
           {
            "marker": {
             "colorbar": {
              "outlinewidth": 0,
              "ticks": ""
             }
            },
            "type": "scatterternary"
           }
          ],
          "surface": [
           {
            "colorbar": {
             "outlinewidth": 0,
             "ticks": ""
            },
            "colorscale": [
             [
              0,
              "#0d0887"
             ],
             [
              0.1111111111111111,
              "#46039f"
             ],
             [
              0.2222222222222222,
              "#7201a8"
             ],
             [
              0.3333333333333333,
              "#9c179e"
             ],
             [
              0.4444444444444444,
              "#bd3786"
             ],
             [
              0.5555555555555556,
              "#d8576b"
             ],
             [
              0.6666666666666666,
              "#ed7953"
             ],
             [
              0.7777777777777778,
              "#fb9f3a"
             ],
             [
              0.8888888888888888,
              "#fdca26"
             ],
             [
              1,
              "#f0f921"
             ]
            ],
            "type": "surface"
           }
          ],
          "table": [
           {
            "cells": {
             "fill": {
              "color": "#EBF0F8"
             },
             "line": {
              "color": "white"
             }
            },
            "header": {
             "fill": {
              "color": "#C8D4E3"
             },
             "line": {
              "color": "white"
             }
            },
            "type": "table"
           }
          ]
         },
         "layout": {
          "annotationdefaults": {
           "arrowcolor": "#2a3f5f",
           "arrowhead": 0,
           "arrowwidth": 1
          },
          "autotypenumbers": "strict",
          "coloraxis": {
           "colorbar": {
            "outlinewidth": 0,
            "ticks": ""
           }
          },
          "colorscale": {
           "diverging": [
            [
             0,
             "#8e0152"
            ],
            [
             0.1,
             "#c51b7d"
            ],
            [
             0.2,
             "#de77ae"
            ],
            [
             0.3,
             "#f1b6da"
            ],
            [
             0.4,
             "#fde0ef"
            ],
            [
             0.5,
             "#f7f7f7"
            ],
            [
             0.6,
             "#e6f5d0"
            ],
            [
             0.7,
             "#b8e186"
            ],
            [
             0.8,
             "#7fbc41"
            ],
            [
             0.9,
             "#4d9221"
            ],
            [
             1,
             "#276419"
            ]
           ],
           "sequential": [
            [
             0,
             "#0d0887"
            ],
            [
             0.1111111111111111,
             "#46039f"
            ],
            [
             0.2222222222222222,
             "#7201a8"
            ],
            [
             0.3333333333333333,
             "#9c179e"
            ],
            [
             0.4444444444444444,
             "#bd3786"
            ],
            [
             0.5555555555555556,
             "#d8576b"
            ],
            [
             0.6666666666666666,
             "#ed7953"
            ],
            [
             0.7777777777777778,
             "#fb9f3a"
            ],
            [
             0.8888888888888888,
             "#fdca26"
            ],
            [
             1,
             "#f0f921"
            ]
           ],
           "sequentialminus": [
            [
             0,
             "#0d0887"
            ],
            [
             0.1111111111111111,
             "#46039f"
            ],
            [
             0.2222222222222222,
             "#7201a8"
            ],
            [
             0.3333333333333333,
             "#9c179e"
            ],
            [
             0.4444444444444444,
             "#bd3786"
            ],
            [
             0.5555555555555556,
             "#d8576b"
            ],
            [
             0.6666666666666666,
             "#ed7953"
            ],
            [
             0.7777777777777778,
             "#fb9f3a"
            ],
            [
             0.8888888888888888,
             "#fdca26"
            ],
            [
             1,
             "#f0f921"
            ]
           ]
          },
          "colorway": [
           "#636efa",
           "#EF553B",
           "#00cc96",
           "#ab63fa",
           "#FFA15A",
           "#19d3f3",
           "#FF6692",
           "#B6E880",
           "#FF97FF",
           "#FECB52"
          ],
          "font": {
           "color": "#2a3f5f"
          },
          "geo": {
           "bgcolor": "white",
           "lakecolor": "white",
           "landcolor": "#E5ECF6",
           "showlakes": true,
           "showland": true,
           "subunitcolor": "white"
          },
          "hoverlabel": {
           "align": "left"
          },
          "hovermode": "closest",
          "mapbox": {
           "style": "light"
          },
          "paper_bgcolor": "white",
          "plot_bgcolor": "#E5ECF6",
          "polar": {
           "angularaxis": {
            "gridcolor": "white",
            "linecolor": "white",
            "ticks": ""
           },
           "bgcolor": "#E5ECF6",
           "radialaxis": {
            "gridcolor": "white",
            "linecolor": "white",
            "ticks": ""
           }
          },
          "scene": {
           "xaxis": {
            "backgroundcolor": "#E5ECF6",
            "gridcolor": "white",
            "gridwidth": 2,
            "linecolor": "white",
            "showbackground": true,
            "ticks": "",
            "zerolinecolor": "white"
           },
           "yaxis": {
            "backgroundcolor": "#E5ECF6",
            "gridcolor": "white",
            "gridwidth": 2,
            "linecolor": "white",
            "showbackground": true,
            "ticks": "",
            "zerolinecolor": "white"
           },
           "zaxis": {
            "backgroundcolor": "#E5ECF6",
            "gridcolor": "white",
            "gridwidth": 2,
            "linecolor": "white",
            "showbackground": true,
            "ticks": "",
            "zerolinecolor": "white"
           }
          },
          "shapedefaults": {
           "line": {
            "color": "#2a3f5f"
           }
          },
          "ternary": {
           "aaxis": {
            "gridcolor": "white",
            "linecolor": "white",
            "ticks": ""
           },
           "baxis": {
            "gridcolor": "white",
            "linecolor": "white",
            "ticks": ""
           },
           "bgcolor": "#E5ECF6",
           "caxis": {
            "gridcolor": "white",
            "linecolor": "white",
            "ticks": ""
           }
          },
          "title": {
           "x": 0.05
          },
          "xaxis": {
           "automargin": true,
           "gridcolor": "white",
           "linecolor": "white",
           "ticks": "",
           "title": {
            "standoff": 15
           },
           "zerolinecolor": "white",
           "zerolinewidth": 2
          },
          "yaxis": {
           "automargin": true,
           "gridcolor": "white",
           "linecolor": "white",
           "ticks": "",
           "title": {
            "standoff": 15
           },
           "zerolinecolor": "white",
           "zerolinewidth": 2
          }
         }
        },
        "title": {
         "text": "Proportion of Closed Cases by Arrest Over Time"
        },
        "xaxis": {
         "anchor": "y",
         "domain": [
          0,
          1
         ],
         "title": {
          "text": "month"
         }
        },
        "yaxis": {
         "anchor": "x",
         "domain": [
          0,
          1
         ],
         "title": {
          "text": "closed_arrested"
         }
        }
       }
      }
     },
     "metadata": {},
     "output_type": "display_data"
    }
   ],
   "source": [
    "filtered_df = filter_df('Birmingham', 'Hispanic', 'all')\n",
    "make_linechart(filtered_df)"
   ]
  }
 ],
 "metadata": {
  "kernelspec": {
   "display_name": ".venv",
   "language": "python",
   "name": "python3"
  },
  "language_info": {
   "codemirror_mode": {
    "name": "ipython",
    "version": 3
   },
   "file_extension": ".py",
   "mimetype": "text/x-python",
   "name": "python",
   "nbconvert_exporter": "python",
   "pygments_lexer": "ipython3",
   "version": "3.11.5"
  }
 },
 "nbformat": 4,
 "nbformat_minor": 2
}
