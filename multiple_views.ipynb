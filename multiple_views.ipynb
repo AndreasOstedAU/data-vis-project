{
 "cells": [
  {
   "cell_type": "code",
   "execution_count": 1,
   "metadata": {},
   "outputs": [],
   "source": [
    "import numpy as np\n",
    "import pandas as pd\n",
    "import plotly.graph_objects as go\n",
    "import dash\n",
    "from dash import dcc, html, Dash, State, ctx\n",
    "from dash.dependencies import Input, Output\n",
    "import plotly.graph_objects as go\n",
    "import plotly.express as px\n",
    "from dash.exceptions import PreventUpdate\n",
    "import dash_bootstrap_components as dbc\n",
    "\n",
    "from dash.exceptions import PreventUpdate\n",
    "\n",
    "\n",
    "mapbox_token = 'pk.eyJ1IjoiYW5kcmVhc29zdGVkIiwiYSI6ImNsbmJxMjFndDA4dm8ybXJrMzhia2NqdnoifQ.fXDNIJ1LelhA1ypNiaJE9w'"
   ]
  },
  {
   "cell_type": "markdown",
   "metadata": {},
   "source": [
    "Data wrangling"
   ]
  },
  {
   "cell_type": "code",
   "execution_count": 2,
   "metadata": {},
   "outputs": [],
   "source": [
    "df = pd.read_csv('Data/homicide_data.csv')\n",
    "citydata = pd.read_csv('Data/us-cities-top-1k.csv')\n",
    "statedata = pd.read_csv('Data/states.csv')"
   ]
  },
  {
   "cell_type": "code",
   "execution_count": 3,
   "metadata": {},
   "outputs": [],
   "source": [
    "citydata=pd.merge(citydata, statedata, on = \"State\", how = \"left\")\n",
    "df['victim_full_name'] = df['victim_first'] +  ' ' + df['victim_last']\n",
    "\n",
    "df = df.sort_values('city')\n",
    "\n",
    "df['reported_date'] = pd.to_datetime(df['reported_date'], format='%Y%m%d')\n",
    "\n",
    "# Extract month from date and convert to string\n",
    "df['month'] = df['reported_date'].dt.strftime('%Y-%m')\n",
    "df['quarter'] = df['reported_date'].dt.to_period('Q').dt.strftime('%Y-Q%q')\n",
    "\n",
    "df['year'] = df['reported_date'].dt.strftime('%y')\n",
    "df['month2'] = df['reported_date'].dt.strftime('%m')\n",
    "\n",
    "#join on data about cities\n",
    "df = pd.merge(df, citydata.rename(columns={\"lat\": \"avg_lat\", \"lon\": \"avg_lon\",\"Abbreviation\":\"state\",\"State\":\"Long_state\"}), on = ['city',\"state\"], how = 'left')\n",
    "\n",
    "\n",
    "df['years_range'] = df.groupby('city')['reported_date'].transform(lambda x: (x.max() - x.min()).days / 365)\n",
    "df['No_homocides_norm_pr1000'] = (df.groupby('city')['city'].transform('count'))/(df[\"Population\"]*df['years_range'])*1000\n",
    "\n",
    "\n",
    "\n",
    "\n",
    "avg_city_coords = df[['city','avg_lat','avg_lon','No_homocides_norm_pr1000','Population','state']].drop_duplicates().reset_index()\n",
    "avg_city_coords = avg_city_coords.drop(49)"
   ]
  },
  {
   "cell_type": "code",
   "execution_count": 4,
   "metadata": {},
   "outputs": [],
   "source": [
    "obs = df.groupby(['disposition', 'city']).size().reset_index(name='n_obs')\n",
    "\n",
    "# Pivot the DataFrame to have 'disposition' as columns and 'city' as index\n",
    "obs_pivot = obs.pivot(index='city', columns='disposition', values='n_obs')\n",
    "\n",
    "# Calculate the proportion of 'Open/No arrest' over the sum of all dispositions\n",
    "obs_pivot['open_prop'] = obs_pivot['Open/No arrest'] / obs_pivot.sum(axis=1)\n",
    "\n",
    "# Reset index if you want to have 'city' as a regular column\n",
    "obs_pivot = obs_pivot.reset_index()\n",
    "\n",
    "\n",
    "city_df =pd.merge(avg_city_coords,obs_pivot[[\"city\",\"open_prop\"]],on=\"city\",how=\"left\")"
   ]
  },
  {
   "cell_type": "markdown",
   "metadata": {},
   "source": [
    "Dash app"
   ]
  },
  {
   "cell_type": "code",
   "execution_count": 163,
   "metadata": {},
   "outputs": [
    {
     "name": "stdout",
     "output_type": "stream",
     "text": [
      "Dash app running on http://127.0.0.1:8050/\n"
     ]
    },
    {
     "data": {
      "application/javascript": "window.open('http://127.0.0.1:8050/')",
      "text/plain": [
       "<IPython.core.display.Javascript object>"
      ]
     },
     "metadata": {},
     "output_type": "display_data"
    }
   ],
   "source": [
    "app = dash.Dash(__name__, external_stylesheets=[dbc.themes.BOOTSTRAP])\n",
    "\n",
    "cityoptions = [{'label': 'Select all', 'value': 'all cities'}]+[{'label': city, 'value': city} for city in sorted(df['city'].unique())]\n",
    "raceoptions = [{'label': 'Select all', 'value': 'all'}]+[{'label': r, 'value': r} for r in sorted(df['victim_race'].unique())]\n",
    "sexoptions = [{'label': 'Select all', 'value': 'all'}]+[{'label': s, 'value': s} for s in sorted(df['victim_sex'].unique())]\n",
    "\n",
    "# Define layout\n",
    "# Define layout\n",
    "app.layout = html.Div([\n",
    "    html.H4(id='title-output',style={\"margin-bottom\":\"5px\",\"margin-top\":\"1px\",\"font-size\":\"24px\",\"text-align\":\"center\"}),\n",
    "    html.Hr(style={\"margin\":\"0px\",\"marginBottom\":\"4px\"}),\n",
    "    dcc.Dropdown(\n",
    "        id='city_dropdown',\n",
    "        options = cityoptions,\n",
    "        value = 'all cities', #default\n",
    "        #value = None,\n",
    "        #placeholder = \"Select city\",\n",
    "        clearable=False,\n",
    "        style={\"width\": \"200px\", \"display\": \"inline-block\",\"margin-top\":\"0\"}\n",
    "    ),\n",
    "        dcc.Dropdown(\n",
    "        id='race_dropdown',\n",
    "        options = raceoptions,\n",
    "        value = 'all', #default\n",
    "        #value = None,\n",
    "        #placeholder = \"Select race\",\n",
    "        clearable=False,\n",
    "        style={\"width\": \"200px\", \"display\": \"inline-block\",\"margin-top\":\"0\"}\n",
    "    ),\n",
    "        dcc.Dropdown(\n",
    "        id='sex_dropdown',\n",
    "        options = sexoptions,\n",
    "        value = 'all', #default\n",
    "        #value = None,\n",
    "        #placeholder = \"Select gender\",\n",
    "        clearable=False,\n",
    "        style={\"width\": \"200px\", \"display\": \"inline-block\",\"margin-top\":\"0\"}\n",
    "    ),\n",
    "    dbc.Card([dcc.Graph(id = 'murder-map',style={\"height\":\"48vh\"})]\n",
    "             ,style={\"width\": \"60%\",\"height\":\"48vh\"}),\n",
    "    dbc.Card([dcc.Graph(id = 'disp-colchart',style={\"height\":\"30vh\"})],style={\"width\": \"30%\",\"height\":\"30vh\",\"marginTop\":\"5px\"}),\n",
    "    dcc.Graph(id = 'time-spiral'),\n",
    "dcc.Store(id='selected-city', data = 'all cities')\n",
    "],\n",
    "style={\"marginLeft\":\"50px\"})\n",
    "\n",
    "\n",
    "def make_colchart(df):\n",
    "       \n",
    "    # Get value counts and reset index\n",
    "    value_counts = df[\"disposition\"].value_counts().reset_index().sort_values('disposition')\n",
    "    \n",
    "    fig = go.Figure(data=go.Bar(x=value_counts['disposition'], \n",
    "                                y=value_counts['count'],\n",
    "                                marker_color=\"Gold\"))\n",
    "    #fig.update_layout(dragmode='zoom',width=500, height=290)\n",
    "    fig.update_layout(margin={\"r\": 5, \"t\": 5, \"l\": 5, \"b\": 5}) \n",
    "    fig.update_layout(autosize = True)\n",
    "    return fig\n",
    "\n",
    "\n",
    "def make_linechart(df):\n",
    "    if len(df) == 0:\n",
    "        fig = px.scatter(title='No data available')\n",
    "        return fig\n",
    "    else:\n",
    "        grouped = df.groupby(['quarter', 'disposition']).size().unstack(fill_value=0)\n",
    "\n",
    "        # Calculate the proportion of closed cases by arrest\n",
    "        grouped['open_no_arrest'] = grouped['Open/No arrest'] / grouped.sum(axis=1)\n",
    "\n",
    "        # Calculate the rolling average\n",
    "        window = 4  # You can adjust the window size\n",
    "        grouped['smoothed'] = grouped['open_no_arrest'].rolling(window=window).mean()\n",
    "\n",
    "        # Create a line chart\n",
    "        fig = px.line(grouped, \n",
    "                    x=grouped.index, \n",
    "                    y='open_no_arrest', \n",
    "                    title='Proportion of open cases over Time')\n",
    "\n",
    "        # Add smoothed line\n",
    "        fig.add_scatter(x=grouped.index, y=grouped['smoothed'], mode='lines', name='Smoothed', line=dict(color='red'))\n",
    "\n",
    "        return fig\n",
    "\n",
    "\n",
    "def make_time_map(df):\n",
    "    df_time = df.sort_values('reported_date')\n",
    "    df_time['days_since_last_murder'] = df_time['reported_date'].diff().dt.days\n",
    "    df_time['days_before_next_murder'] = df_time['reported_date'].diff(-1).dt.days*-1\n",
    "\n",
    "    \n",
    "    fig = px.scatter(df_time,\n",
    "                 x = 'days_since_last_murder',\n",
    "                 y = 'days_before_next_murder',\n",
    "                 hover_data= ['victim_full_name'],\n",
    "                 color = 'disposition',\n",
    "                 opacity=0.5,\n",
    "                 )\n",
    "    fig.update_layout(height = 600, width = 600)\n",
    "\n",
    "\n",
    "    ### all below is for making a title\n",
    "    race_sel = df_time['victim_race'].unique()\n",
    "    gender_sel =  df_time['victim_sex'].unique()\n",
    "    city_sel = df_time['city'].unique()\n",
    "\n",
    "    race_print = race_sel[0] if len(race_sel) == 1 else 'all races'\n",
    "    gender_print = gender_sel[0] if len(gender_sel) == 1 else 'all genders'\n",
    "    city_print = city_sel[0] if len(city_sel) == 1 else 'all cities'\n",
    "\n",
    "    fig.update_layout(\n",
    "        title = f'Time between murders in {city_print} for {gender_print} {race_print} victims'\n",
    "    )\n",
    "\n",
    "    \n",
    "    return fig#, df_time\n",
    "\n",
    "def make_spiral_plot(df):\n",
    "    df['year'] = df['reported_date'].dt.strftime('%y')\n",
    "    df['month2'] = df['reported_date'].dt.strftime('%m')\n",
    "    df_summary = df.groupby(['year', 'month2']).size().reset_index(name = 'num_murders_year_month')#.sort_values(['year', 'month2'])\n",
    "    \n",
    "    ## håndterer fejl som ellers opstår ved valg af city med klik på stort kort\n",
    "    if df_summary.empty:\n",
    "        # Return a default or empty figure\n",
    "        fig = px.bar_polar()\n",
    "        return fig\n",
    "\n",
    "    #quantiles = df_summary['num_murders_year_month'].agg('quantile', q = [0, 0.25, 0.50, 0.75, 1])\n",
    "    q0, q0_25, q0_5, q0_75, q1 = np.percentile(df_summary['num_murders_year_month'], [0, 25, 50, 75, 100])\n",
    "\n",
    "\n",
    "    all_years = df['year'].unique()\n",
    "    all_months = df['month2'].unique()\n",
    "    all_combinations = pd.DataFrame([(year, month) for year in all_years for month in all_months], columns=['year', 'month2']).sort_values(['year', 'month2'])\n",
    "\n",
    "    # Merge with df_summary to include zeros for missing combinations\n",
    "    df_summary = pd.merge(all_combinations, df_summary, on=['year', 'month2'], how='left').fillna(0)#replace(0, np.nan)\n",
    "    df_summary['constant_value'] = 1\n",
    "\n",
    "\n",
    "    df_summary['hovertemplate'] = df_summary.apply(lambda row: 'Year: %s<br>Month: %s<br>Murders: %d' % (row['year'], row['month2'], row['num_murders_year_month'])\n",
    "                                                  if row['num_murders_year_month'] > 0 else '',\n",
    "                                                  axis=1)\n",
    "\n",
    "    fig = px.bar_polar(df_summary, \n",
    "                       r = 'constant_value', \n",
    "                       #r = 'year',\n",
    "                       #hover_data=['year'],\n",
    "                       #custom_data=['hovertext'],\n",
    "                       custom_data=['year', 'month2', 'num_murders_year_month'], #inkluder evt year og month formateret rigtigt i df_summary \n",
    "                       theta='month2', \n",
    "                       color = 'num_murders_year_month',  \n",
    "                       color_continuous_scale=[(0, 'rgba(0,0,0,0)'), #hide zero counts\n",
    "                                               (0, '#ffffb2'),\n",
    "                                               (q0/q1, '#fed976'), \n",
    "                                               (q0_25/q1, '#feb24c'),\n",
    "                                               (q0_5/q1, '#fd8d3c'),\n",
    "                                               (q0_75/q1, '#f03b20'),\n",
    "                                               (1, '#bd0026')],\n",
    "                       range_color = [q0, q1],\n",
    "                       direction = 'counterclockwise',\n",
    "                       category_orders={'month2': np.sort(df_summary['month2'].unique()),\n",
    "                                        'year': np.sort(df_summary['year'].unique())}  # Specify the order of months\n",
    "                   )\n",
    "    fig.update_polars(hole = 0.25, radialaxis=dict(showticklabels=False, ticks='', linewidth=0)) \n",
    "    #fig.update_traces(hovertemplate='Year: %{customdata[0]}<br>Month: %{customdata[1]}<br>Murders: %{customdata[2]}') \n",
    "    fig.update_traces(hovertemplate=df_summary['hovertemplate'])\n",
    "    fig.update_traces(hoverinfo = 'none')\n",
    "    fig.update_layout(autosize = True)\n",
    "\n",
    "    return fig\n",
    "\n",
    "\n",
    "\n",
    "\n",
    "def make_map(df, city):\n",
    "    fig = px.scatter_mapbox(\n",
    "        df if city != 'all cities' else city_df,\n",
    "        lat=\"lat\" if city != 'all cities' else 'avg_lat',\n",
    "        lon=\"lon\" if city != 'all cities' else 'avg_lon',\n",
    "        hover_name=\"victim_full_name\" if city != 'all cities' else 'city',\n",
    "        hover_data=[\"victim_race\", \"victim_age\", \"victim_sex\", \"reported_date\"] if city != 'all cities' else None,\n",
    "        color = \"disposition\"  if city != 'all cities' else \"open_prop\",\n",
    "        color_continuous_scale=\"YlOrRd\" if city=='all cities' else None, #\"Rdbu_r\" \n",
    "        labels={\"open_prop\": \"% Open cases\"},\n",
    "        size='No_homocides_norm_pr1000' if city=='all cities' else None,\n",
    "        center={\"lat\": 39.8283-2, \"lon\": -98.5795} if city=='all cities' else None,\n",
    "        range_color=[min(city_df[\"open_prop\"])-0.15,max(city_df[\"open_prop\"])] if city=='all cities' else None,\n",
    "        color_continuous_midpoint=0.5 if city=='all cities' else None,\n",
    "        category_orders={\"disposition\": ['Closed by arrest', 'Closed without arrest', 'Open/No arrest']} if city != 'all cities' else None,\n",
    "        color_discrete_sequence=['#636EFA', '#00CC96', '#EF553B']\n",
    "    )\n",
    "\n",
    "    \n",
    "    fig.update_layout(mapbox_style=\"light\", \n",
    "                      mapbox_accesstoken=mapbox_token, \n",
    "                      #title = title,\n",
    "                      #mapbox_center={\"lat\": center_lat, \"lon\": center_lon},  \n",
    "                      #mapbox_zoom = 10,\n",
    "                      autosize = True\n",
    "                      )\n",
    "    \n",
    "    \n",
    "    \n",
    "    fig.update_layout(mapbox_zoom = 9.5 if city != 'all cities' else 3.2)\n",
    "\n",
    "    fig.update_traces(uirevision='persist')\n",
    "    \n",
    "    #fig.update_layout(margin={\"r\": 0, \"l\": 0, \"b\": 0})\n",
    "    fig.update_layout(margin={\"r\": 0, \"l\": 15, \"b\": 5,\"t\":5})\n",
    "    fig.update_layout(clickmode='event+select',\n",
    "                      hovermode='closest')\n",
    "    return fig\n",
    "\n",
    "\n",
    "\n",
    "#helper function to filter data based on city, race, sex\n",
    "def filter_df(selected_city, selected_race, selected_sex, df = df):\n",
    "    all_cities_filter = selected_city == 'all cities'\n",
    "    all_race_filter = selected_race == 'all'\n",
    "    all_sex_filter = selected_sex == 'all'\n",
    "\n",
    "    if all_cities_filter and all_race_filter and all_sex_filter:\n",
    "        # Handle the case when all filters are 'all'\n",
    "        filtered_df = df  # Include all data\n",
    "    else:\n",
    "        city_filter = df['city'] == selected_city if not all_cities_filter else True\n",
    "        race_filter = df['victim_race'] == selected_race if not all_race_filter else True\n",
    "        sex_filter = df['victim_sex'] == selected_sex if not all_sex_filter else True\n",
    "\n",
    "        filtered_df = df[city_filter & race_filter & sex_filter]\n",
    "    return filtered_df\n",
    "\n",
    "\n",
    "\n",
    "\n",
    "\n",
    "\n",
    "@app.callback(\n",
    "    [Output('murder-map', 'figure'),\n",
    "    Output('disp-colchart', 'figure'),\n",
    "    #Output('arrested-linechart', 'figure'),\n",
    "    #Output('time-map', 'figure'),\n",
    "    Output('time-spiral', 'figure')\n",
    "    ],\n",
    "    \n",
    "    [Input('city_dropdown', 'value'),\n",
    "     Input('race_dropdown', 'value'),\n",
    "     Input('sex_dropdown', 'value')\n",
    "    ]\n",
    ")\n",
    "def update_figs_on_dropdowns(selected_city, selected_race, selected_sex):\n",
    "    filtered_df = filter_df(selected_city, selected_race, selected_sex)\n",
    "\n",
    "    fig_map = make_map(filtered_df, selected_city)\n",
    "    fig_col = make_colchart(filtered_df)\n",
    "    #fig_line = make_linechart(filtered_df)\n",
    "    #fig_time = make_time_map(filtered_df)\n",
    "    fig_spiral = make_spiral_plot(filtered_df)\n",
    "    #fig_map.update_layout(transition={'duration': 500, 'easing': 'cubic-in-out'})\n",
    "    return fig_map, fig_col, fig_spiral #fig_time #fig_line\n",
    "\n",
    "\n",
    "@app.callback(\n",
    "    [Output('disp-colchart', 'figure', allow_duplicate=True),\n",
    "     #Output('arrested-linechart', 'figure', allow_duplicate = True),\n",
    "     #Output('time-map', 'figure', allow_duplicate = True),\n",
    "     Output('time-spiral', 'figure', allow_duplicate = True)\n",
    "     ], \n",
    "    [Input('murder-map', 'selectedData')],\n",
    "    [State('city_dropdown', 'value'), State('race_dropdown', 'value'), State('sex_dropdown', 'value')],\n",
    "    prevent_initial_call = True\n",
    ")\n",
    "def update_figures_on_map_selection(selected_data, selected_city, selected_race, selected_sex):\n",
    "    if selected_data:\n",
    "        # Extract the selected points from the map\n",
    "        selected_points = selected_data['points']\n",
    "\n",
    "        # Get the victim_full_name(s) from the selected points\n",
    "        selected_names = [point['hovertext'] for point in selected_points]\n",
    "\n",
    "        # Filter the DataFrame based on selected names, city, race, and sex\n",
    "        filtered_df = df[df['victim_full_name'].isin(selected_names)]\n",
    "        filtered_df = filter_df(selected_city, selected_race, selected_sex, filtered_df)\n",
    "\n",
    "        # Generate the column chart using the filtered DataFrame\n",
    "        fig_col = make_colchart(filtered_df)\n",
    "        #fig_line = make_linechart(filtered_df)\n",
    "        #fig_time = make_time_map(filtered_df)\n",
    "        fig_spiral = make_spiral_plot(filtered_df)\n",
    "        return fig_col, fig_spiral #fig_time #,fig_line\n",
    "    else:\n",
    "        fig_col = make_colchart(filter_df(selected_city, selected_race, selected_sex))\n",
    "        #fig_line = make_linechart(filter_df(selected_city, selected_race, selected_sex))\n",
    "        #fig_time = make_time_map(filter_df(selected_city, selected_race, selected_sex))\n",
    "        fig_spiral = make_spiral_plot(filter_df(selected_city, selected_race, selected_sex))\n",
    "        return fig_col, fig_spiral #fig_time#fig_line\n",
    "    \n",
    "\n",
    "\n",
    "\n",
    "@app.callback(\n",
    "    Output('city_dropdown', 'value'),\n",
    "    Input('selected-city', 'data'),\n",
    "    prevent_initial_call = True\n",
    ")\n",
    "def update_city_dropdown(selected_city):\n",
    "    return selected_city\n",
    "\n",
    "@app.callback(\n",
    "    Output('selected-city', 'data'),\n",
    "    [Input('murder-map', 'clickData')],\n",
    "    [State('city_dropdown', 'value')]\n",
    ")\n",
    "def update_on_click(click_data, selected_city):\n",
    "    if selected_city == 'all cities':\n",
    "        if click_data:\n",
    "            selected_city = click_data['points'][0]['hovertext']\n",
    "            return selected_city\n",
    "    raise PreventUpdate\n",
    "\n",
    "\n",
    "##### work in progress\n",
    "@app.callback(\n",
    "    [Output('murder-map', 'figure', allow_duplicate=True),\n",
    "     Output('disp-colchart', 'figure', allow_duplicate = True)\n",
    "     ], \n",
    "    [Input('time-spiral', 'selectedData')],\n",
    "    [State('city_dropdown', 'value'), State('race_dropdown', 'value'), State('sex_dropdown', 'value')],\n",
    "    prevent_initial_call = True\n",
    ")\n",
    "def update_figs_on_spiral_select(selected_data, selected_city, selected_race, selected_sex):\n",
    "    if selected_data: \n",
    "        d = selected_data['points']\n",
    "\n",
    "        years = np.unique([y for y,m,n in [c['customdata'] for c in d]]).tolist()\n",
    "        months = np.unique([m for y,m,n in [c['customdata'] for c in d]]).tolist()\n",
    "        \n",
    "\n",
    "        filtered_df = df[df['month2'].isin(months) & df['year'].isin(years)]\n",
    "        filtered_df = filter_df(selected_city, selected_race, selected_sex, filtered_df)\n",
    "\n",
    "        fig_map = make_map(filtered_df, selected_city)\n",
    "        fig_col = make_colchart(filtered_df)\n",
    "        return fig_map, fig_col\n",
    "    else:\n",
    "        filtered_df = filter_df(selected_city, selected_race, selected_sex)\n",
    "\n",
    "        fig_map = make_map(filtered_df, selected_city)\n",
    "        fig_col = make_colchart(filtered_df)\n",
    "        return fig_map, fig_col\n",
    "\n",
    "#####\n",
    "\n",
    "\n",
    "@app.callback(\n",
    "    Output('title-output', 'children'),\n",
    "    [Input('city_dropdown', 'value')]\n",
    ")\n",
    "def update_title(city):\n",
    "    city_list = [city for city in df['city'].unique()]\n",
    "    if city in city_list:\n",
    "        return f'Murders in {city}' \n",
    "    else:\n",
    "        return 'Murders in 50 large cities in the US'\n",
    "\n",
    "\n",
    "if __name__ == '__main__':\n",
    "    app.run_server(debug=True, jupyter_mode = \"tab\", port = 8050)\n"
   ]
  },
  {
   "cell_type": "markdown",
   "metadata": {},
   "source": [
    "Testing things"
   ]
  },
  {
   "cell_type": "markdown",
   "metadata": {},
   "source": [
    "Problem: På stort kort opdaterer mord per 1000 indbygger og prop open ikke ved filtrering på race og køn. \n",
    " - Mord per 1000 indbygger er svært at håndtere, da vi ikke har population per befolkningsgruppe\n",
    " - Kan man nøjes med blot at opdatere prop closed baseret på filtrering?"
   ]
  },
  {
   "cell_type": "code",
   "execution_count": 9,
   "metadata": {},
   "outputs": [],
   "source": [
    "def update_prop_open_df(selected_race, selected_sex, df = df):\n",
    "    df_filtered = df.iloc[:, 0:13].query('victim_race == @selected_race and victim_sex == @selected_sex')\n",
    "    citydata_new = citydata.drop('State', axis = 1).rename(columns={\"lat\": \"avg_lat\", \"lon\": \"avg_lon\", \"Abbreviation\":\"state\"})\n",
    "    joined_df = pd.merge(df_filtered, citydata_new, on = ['city', 'state'])\n",
    "\n",
    "    obs_disp = joined_df.groupby(['disposition', 'city']).size().reset_index(name='n_obs')\n",
    "\n",
    "    # Pivot the DataFrame to have 'disposition' as columns and 'city' as index\n",
    "    obs_disp_pivot = obs_disp.pivot(index='city', columns='disposition', values='n_obs')\n",
    "\n",
    "    # Calculate the proportion of 'Open/No arrest' over the sum of all dispositions\n",
    "    obs_disp_pivot['open_prop'] = obs_disp_pivot['Open/No arrest'] / obs_disp_pivot.sum(axis=1)\n",
    "\n",
    "    # Reset index if you want to have 'city' as a regular column\n",
    "    obs_disp_pivot = obs_disp_pivot.reset_index()\n",
    "\n",
    "    return(obs_disp_pivot)\n",
    "\n",
    "    "
   ]
  },
  {
   "cell_type": "markdown",
   "metadata": {},
   "source": [
    "#### Num murders per year barchart"
   ]
  },
  {
   "cell_type": "code",
   "execution_count": 10,
   "metadata": {},
   "outputs": [
    {
     "name": "stderr",
     "output_type": "stream",
     "text": [
      "C:\\Users\\Andre\\AppData\\Local\\Temp\\ipykernel_28604\\3937463750.py:121: SettingWithCopyWarning:\n",
      "\n",
      "\n",
      "A value is trying to be set on a copy of a slice from a DataFrame.\n",
      "Try using .loc[row_indexer,col_indexer] = value instead\n",
      "\n",
      "See the caveats in the documentation: https://pandas.pydata.org/pandas-docs/stable/user_guide/indexing.html#returning-a-view-versus-a-copy\n",
      "\n",
      "C:\\Users\\Andre\\AppData\\Local\\Temp\\ipykernel_28604\\3937463750.py:122: SettingWithCopyWarning:\n",
      "\n",
      "\n",
      "A value is trying to be set on a copy of a slice from a DataFrame.\n",
      "Try using .loc[row_indexer,col_indexer] = value instead\n",
      "\n",
      "See the caveats in the documentation: https://pandas.pydata.org/pandas-docs/stable/user_guide/indexing.html#returning-a-view-versus-a-copy\n",
      "\n",
      "C:\\Users\\Andre\\AppData\\Local\\Temp\\ipykernel_28604\\3937463750.py:121: SettingWithCopyWarning:\n",
      "\n",
      "\n",
      "A value is trying to be set on a copy of a slice from a DataFrame.\n",
      "Try using .loc[row_indexer,col_indexer] = value instead\n",
      "\n",
      "See the caveats in the documentation: https://pandas.pydata.org/pandas-docs/stable/user_guide/indexing.html#returning-a-view-versus-a-copy\n",
      "\n",
      "C:\\Users\\Andre\\AppData\\Local\\Temp\\ipykernel_28604\\3937463750.py:122: SettingWithCopyWarning:\n",
      "\n",
      "\n",
      "A value is trying to be set on a copy of a slice from a DataFrame.\n",
      "Try using .loc[row_indexer,col_indexer] = value instead\n",
      "\n",
      "See the caveats in the documentation: https://pandas.pydata.org/pandas-docs/stable/user_guide/indexing.html#returning-a-view-versus-a-copy\n",
      "\n",
      "C:\\Users\\Andre\\AppData\\Local\\Temp\\ipykernel_28604\\3937463750.py:121: SettingWithCopyWarning:\n",
      "\n",
      "\n",
      "A value is trying to be set on a copy of a slice from a DataFrame.\n",
      "Try using .loc[row_indexer,col_indexer] = value instead\n",
      "\n",
      "See the caveats in the documentation: https://pandas.pydata.org/pandas-docs/stable/user_guide/indexing.html#returning-a-view-versus-a-copy\n",
      "\n",
      "C:\\Users\\Andre\\AppData\\Local\\Temp\\ipykernel_28604\\3937463750.py:122: SettingWithCopyWarning:\n",
      "\n",
      "\n",
      "A value is trying to be set on a copy of a slice from a DataFrame.\n",
      "Try using .loc[row_indexer,col_indexer] = value instead\n",
      "\n",
      "See the caveats in the documentation: https://pandas.pydata.org/pandas-docs/stable/user_guide/indexing.html#returning-a-view-versus-a-copy\n",
      "\n",
      "C:\\Users\\Andre\\AppData\\Local\\Temp\\ipykernel_28604\\3937463750.py:121: SettingWithCopyWarning:\n",
      "\n",
      "\n",
      "A value is trying to be set on a copy of a slice from a DataFrame.\n",
      "Try using .loc[row_indexer,col_indexer] = value instead\n",
      "\n",
      "See the caveats in the documentation: https://pandas.pydata.org/pandas-docs/stable/user_guide/indexing.html#returning-a-view-versus-a-copy\n",
      "\n",
      "C:\\Users\\Andre\\AppData\\Local\\Temp\\ipykernel_28604\\3937463750.py:122: SettingWithCopyWarning:\n",
      "\n",
      "\n",
      "A value is trying to be set on a copy of a slice from a DataFrame.\n",
      "Try using .loc[row_indexer,col_indexer] = value instead\n",
      "\n",
      "See the caveats in the documentation: https://pandas.pydata.org/pandas-docs/stable/user_guide/indexing.html#returning-a-view-versus-a-copy\n",
      "\n",
      "C:\\Users\\Andre\\AppData\\Local\\Temp\\ipykernel_28604\\3937463750.py:121: SettingWithCopyWarning:\n",
      "\n",
      "\n",
      "A value is trying to be set on a copy of a slice from a DataFrame.\n",
      "Try using .loc[row_indexer,col_indexer] = value instead\n",
      "\n",
      "See the caveats in the documentation: https://pandas.pydata.org/pandas-docs/stable/user_guide/indexing.html#returning-a-view-versus-a-copy\n",
      "\n",
      "C:\\Users\\Andre\\AppData\\Local\\Temp\\ipykernel_28604\\3937463750.py:122: SettingWithCopyWarning:\n",
      "\n",
      "\n",
      "A value is trying to be set on a copy of a slice from a DataFrame.\n",
      "Try using .loc[row_indexer,col_indexer] = value instead\n",
      "\n",
      "See the caveats in the documentation: https://pandas.pydata.org/pandas-docs/stable/user_guide/indexing.html#returning-a-view-versus-a-copy\n",
      "\n",
      "C:\\Users\\Andre\\AppData\\Local\\Temp\\ipykernel_28604\\3937463750.py:121: SettingWithCopyWarning:\n",
      "\n",
      "\n",
      "A value is trying to be set on a copy of a slice from a DataFrame.\n",
      "Try using .loc[row_indexer,col_indexer] = value instead\n",
      "\n",
      "See the caveats in the documentation: https://pandas.pydata.org/pandas-docs/stable/user_guide/indexing.html#returning-a-view-versus-a-copy\n",
      "\n",
      "C:\\Users\\Andre\\AppData\\Local\\Temp\\ipykernel_28604\\3937463750.py:122: SettingWithCopyWarning:\n",
      "\n",
      "\n",
      "A value is trying to be set on a copy of a slice from a DataFrame.\n",
      "Try using .loc[row_indexer,col_indexer] = value instead\n",
      "\n",
      "See the caveats in the documentation: https://pandas.pydata.org/pandas-docs/stable/user_guide/indexing.html#returning-a-view-versus-a-copy\n",
      "\n",
      "C:\\Users\\Andre\\AppData\\Local\\Temp\\ipykernel_28604\\3937463750.py:121: SettingWithCopyWarning:\n",
      "\n",
      "\n",
      "A value is trying to be set on a copy of a slice from a DataFrame.\n",
      "Try using .loc[row_indexer,col_indexer] = value instead\n",
      "\n",
      "See the caveats in the documentation: https://pandas.pydata.org/pandas-docs/stable/user_guide/indexing.html#returning-a-view-versus-a-copy\n",
      "\n",
      "C:\\Users\\Andre\\AppData\\Local\\Temp\\ipykernel_28604\\3937463750.py:122: SettingWithCopyWarning:\n",
      "\n",
      "\n",
      "A value is trying to be set on a copy of a slice from a DataFrame.\n",
      "Try using .loc[row_indexer,col_indexer] = value instead\n",
      "\n",
      "See the caveats in the documentation: https://pandas.pydata.org/pandas-docs/stable/user_guide/indexing.html#returning-a-view-versus-a-copy\n",
      "\n",
      "C:\\Users\\Andre\\AppData\\Local\\Temp\\ipykernel_28604\\3937463750.py:121: SettingWithCopyWarning:\n",
      "\n",
      "\n",
      "A value is trying to be set on a copy of a slice from a DataFrame.\n",
      "Try using .loc[row_indexer,col_indexer] = value instead\n",
      "\n",
      "See the caveats in the documentation: https://pandas.pydata.org/pandas-docs/stable/user_guide/indexing.html#returning-a-view-versus-a-copy\n",
      "\n",
      "C:\\Users\\Andre\\AppData\\Local\\Temp\\ipykernel_28604\\3937463750.py:122: SettingWithCopyWarning:\n",
      "\n",
      "\n",
      "A value is trying to be set on a copy of a slice from a DataFrame.\n",
      "Try using .loc[row_indexer,col_indexer] = value instead\n",
      "\n",
      "See the caveats in the documentation: https://pandas.pydata.org/pandas-docs/stable/user_guide/indexing.html#returning-a-view-versus-a-copy\n",
      "\n",
      "C:\\Users\\Andre\\AppData\\Local\\Temp\\ipykernel_28604\\3937463750.py:121: SettingWithCopyWarning:\n",
      "\n",
      "\n",
      "A value is trying to be set on a copy of a slice from a DataFrame.\n",
      "Try using .loc[row_indexer,col_indexer] = value instead\n",
      "\n",
      "See the caveats in the documentation: https://pandas.pydata.org/pandas-docs/stable/user_guide/indexing.html#returning-a-view-versus-a-copy\n",
      "\n",
      "C:\\Users\\Andre\\AppData\\Local\\Temp\\ipykernel_28604\\3937463750.py:122: SettingWithCopyWarning:\n",
      "\n",
      "\n",
      "A value is trying to be set on a copy of a slice from a DataFrame.\n",
      "Try using .loc[row_indexer,col_indexer] = value instead\n",
      "\n",
      "See the caveats in the documentation: https://pandas.pydata.org/pandas-docs/stable/user_guide/indexing.html#returning-a-view-versus-a-copy\n",
      "\n"
     ]
    }
   ],
   "source": [
    "#df['year'] = df['reported_date'].dt.strftime('%y')\n",
    "\n",
    "#df.groupby('year').size().reset_index(name = 'num_murders_year')\n",
    "\n",
    "def make_colchart_counts(df):\n",
    "    df['year'] = df['reported_date'].dt.strftime('%Y')\n",
    "    year_counts = df.groupby('year').size().reset_index(name = 'num_murders_year')\n",
    "    \n",
    "    fig = go.Figure(data=go.Bar(x=year_counts['year'], \n",
    "                                y=year_counts['num_murders_year'],\n",
    "                                marker_color=\"Gold\"))\n",
    "   \n",
    "    #fig = px.line(year_counts, \n",
    "    #                x='year', \n",
    "    #                y='num_murders_year', \n",
    "    #                title='Murders per year')\n",
    "\n",
    "\n",
    "    fig.update_layout(dragmode='zoom',width=500, height=290)\n",
    "    fig.update_layout(margin={\"r\": 5, \"t\": 5, \"l\": 5, \"b\": 5}) \n",
    "    return fig\n"
   ]
  },
  {
   "cell_type": "code",
   "execution_count": 160,
   "metadata": {},
   "outputs": [],
   "source": [
    "def make_spiral_plot2(df):\n",
    "    df['year'] = df['reported_date'].dt.strftime('%y')\n",
    "    df['month2'] = df['reported_date'].dt.strftime('%m')\n",
    "    df_summary = df.groupby(['year', 'month2']).size().reset_index(name = 'num_murders_year_month')#.sort_values(['year', 'month2'])\n",
    "    \n",
    "    ## håndterer fejl som ellers opstår ved valg af city med klik på stort kort\n",
    "    if df_summary.empty:\n",
    "        # Return a default or empty figure\n",
    "        fig = px.bar_polar()\n",
    "        return fig\n",
    "\n",
    "    #quantiles = df_summary['num_murders_year_month'].agg('quantile', q = [0, 0.25, 0.50, 0.75, 1])\n",
    "    q0, q0_25, q0_5, q0_75, q1 = np.percentile(df_summary['num_murders_year_month'], [0, 25, 50, 75, 100])\n",
    "\n",
    "\n",
    "    all_years = df['year'].unique()\n",
    "    all_months = df['month2'].unique()\n",
    "    all_combinations = pd.DataFrame([(year, month) for year in all_years for month in all_months], columns=['year', 'month2']).sort_values(['year', 'month2'])\n",
    "\n",
    "    # Merge with df_summary to include zeros for missing combinations\n",
    "    df_summary = pd.merge(all_combinations, df_summary, on=['year', 'month2'], how='left').fillna(0)#replace(0, np.nan)\n",
    "    df_summary['constant_value'] = 1\n",
    "\n",
    "\n",
    "    df_summary['hovertemplate'] = df_summary.apply(lambda row: 'Year: %s<br>Month: %s<br>Murders: %d' % (row['year'], row['month2'], row['num_murders_year_month'])\n",
    "                                                  if row['num_murders_year_month'] > 0 else '',\n",
    "                                                  axis=1)\n",
    "\n",
    "    fig = px.bar_polar(df_summary, \n",
    "                       r = 'constant_value', \n",
    "                       #r = 'year',\n",
    "                       #hover_data=['year'],\n",
    "                       #custom_data=['hovertext'],\n",
    "                       custom_data=['year', 'month2', 'num_murders_year_month'], #inkluder evt year og month formateret rigtigt i df_summary \n",
    "                       theta='month2', \n",
    "                       color = 'num_murders_year_month',  \n",
    "                       color_continuous_scale=[(0, 'rgba(0,0,0,0)'), #hide zero counts\n",
    "                                               (0, '#f0f921'),\n",
    "                                               (q0/q1, '#fca636'), \n",
    "                                               (q0_25/q1, '#e16462'),\n",
    "                                               (q0_5/q1, '#b12a90'),\n",
    "                                               (q0_75/q1, '#6a00a8'),\n",
    "                                               (1, '#0d0887')],\n",
    "                       range_color = [q0, q1],\n",
    "                       direction = 'counterclockwise',\n",
    "                       category_orders={'month2': np.sort(df_summary['month2'].unique()),\n",
    "                                        'year': np.sort(df_summary['year'].unique())}  # Specify the order of months\n",
    "                   )\n",
    "    fig.update_polars(hole = 0.25, radialaxis=dict(showticklabels=False, ticks='', linewidth=0)) \n",
    "    #fig.update_traces(hovertemplate='Year: %{customdata[0]}<br>Month: %{customdata[1]}<br>Murders: %{customdata[2]}') \n",
    "    fig.update_traces(hovertemplate=df_summary['hovertemplate'])\n",
    "    fig.update_traces(hoverinfo = 'none')\n",
    "    fig.update_layout(autosize = True)\n",
    "\n",
    "    return fig, df_summary\n"
   ]
  },
  {
   "cell_type": "code",
   "execution_count": 161,
   "metadata": {},
   "outputs": [
    {
     "name": "stderr",
     "output_type": "stream",
     "text": [
      "C:\\Users\\Andre\\AppData\\Local\\Temp\\ipykernel_28604\\675431286.py:2: SettingWithCopyWarning:\n",
      "\n",
      "\n",
      "A value is trying to be set on a copy of a slice from a DataFrame.\n",
      "Try using .loc[row_indexer,col_indexer] = value instead\n",
      "\n",
      "See the caveats in the documentation: https://pandas.pydata.org/pandas-docs/stable/user_guide/indexing.html#returning-a-view-versus-a-copy\n",
      "\n",
      "C:\\Users\\Andre\\AppData\\Local\\Temp\\ipykernel_28604\\675431286.py:3: SettingWithCopyWarning:\n",
      "\n",
      "\n",
      "A value is trying to be set on a copy of a slice from a DataFrame.\n",
      "Try using .loc[row_indexer,col_indexer] = value instead\n",
      "\n",
      "See the caveats in the documentation: https://pandas.pydata.org/pandas-docs/stable/user_guide/indexing.html#returning-a-view-versus-a-copy\n",
      "\n"
     ]
    },
    {
     "data": {
      "application/vnd.plotly.v1+json": {
       "config": {
        "plotlyServerURL": "https://plot.ly"
       },
       "data": [
        {
         "customdata": [
          [
           "10",
           "01",
           5
          ],
          [
           "10",
           "02",
           1
          ],
          [
           "10",
           "03",
           2
          ],
          [
           "10",
           "04",
           1
          ],
          [
           "10",
           "05",
           2
          ],
          [
           "10",
           "06",
           2
          ],
          [
           "10",
           "07",
           4
          ],
          [
           "10",
           "08",
           0
          ],
          [
           "10",
           "09",
           4
          ],
          [
           "10",
           "10",
           6
          ],
          [
           "10",
           "11",
           5
          ],
          [
           "10",
           "12",
           6
          ],
          [
           "11",
           "01",
           3
          ],
          [
           "11",
           "02",
           3
          ],
          [
           "11",
           "03",
           3
          ],
          [
           "11",
           "04",
           4
          ],
          [
           "11",
           "05",
           7
          ],
          [
           "11",
           "06",
           3
          ],
          [
           "11",
           "07",
           2
          ],
          [
           "11",
           "08",
           8
          ],
          [
           "11",
           "09",
           4
          ],
          [
           "11",
           "10",
           3
          ],
          [
           "11",
           "11",
           1
          ],
          [
           "11",
           "12",
           2
          ],
          [
           "12",
           "01",
           1
          ],
          [
           "12",
           "02",
           3
          ],
          [
           "12",
           "03",
           5
          ],
          [
           "12",
           "04",
           4
          ],
          [
           "12",
           "05",
           4
          ],
          [
           "12",
           "06",
           4
          ],
          [
           "12",
           "07",
           2
          ],
          [
           "12",
           "08",
           3
          ],
          [
           "12",
           "09",
           1
          ],
          [
           "12",
           "10",
           9
          ],
          [
           "12",
           "11",
           3
          ],
          [
           "12",
           "12",
           1
          ],
          [
           "13",
           "01",
           4
          ],
          [
           "13",
           "02",
           5
          ],
          [
           "13",
           "03",
           3
          ],
          [
           "13",
           "04",
           5
          ],
          [
           "13",
           "05",
           2
          ],
          [
           "13",
           "06",
           2
          ],
          [
           "13",
           "07",
           4
          ],
          [
           "13",
           "08",
           5
          ],
          [
           "13",
           "09",
           3
          ],
          [
           "13",
           "10",
           4
          ],
          [
           "13",
           "11",
           2
          ],
          [
           "13",
           "12",
           3
          ],
          [
           "14",
           "01",
           2
          ],
          [
           "14",
           "02",
           1
          ],
          [
           "14",
           "03",
           5
          ],
          [
           "14",
           "04",
           1
          ],
          [
           "14",
           "05",
           2
          ],
          [
           "14",
           "06",
           2
          ],
          [
           "14",
           "07",
           3
          ],
          [
           "14",
           "08",
           5
          ],
          [
           "14",
           "09",
           1
          ],
          [
           "14",
           "10",
           4
          ],
          [
           "14",
           "11",
           3
          ],
          [
           "14",
           "12",
           2
          ],
          [
           "15",
           "01",
           5
          ],
          [
           "15",
           "02",
           3
          ],
          [
           "15",
           "03",
           5
          ],
          [
           "15",
           "04",
           5
          ],
          [
           "15",
           "05",
           2
          ],
          [
           "15",
           "06",
           1
          ],
          [
           "15",
           "07",
           7
          ],
          [
           "15",
           "08",
           5
          ],
          [
           "15",
           "09",
           7
          ],
          [
           "15",
           "10",
           3
          ],
          [
           "15",
           "11",
           8
          ],
          [
           "15",
           "12",
           2
          ],
          [
           "16",
           "01",
           3
          ],
          [
           "16",
           "02",
           2
          ],
          [
           "16",
           "03",
           3
          ],
          [
           "16",
           "04",
           5
          ],
          [
           "16",
           "05",
           1
          ],
          [
           "16",
           "06",
           5
          ],
          [
           "16",
           "07",
           9
          ],
          [
           "16",
           "08",
           3
          ],
          [
           "16",
           "09",
           3
          ],
          [
           "16",
           "10",
           12
          ],
          [
           "16",
           "11",
           10
          ],
          [
           "16",
           "12",
           1
          ],
          [
           "17",
           "01",
           5
          ],
          [
           "17",
           "02",
           3
          ],
          [
           "17",
           "03",
           0
          ],
          [
           "17",
           "04",
           0
          ],
          [
           "17",
           "05",
           0
          ],
          [
           "17",
           "06",
           0
          ],
          [
           "17",
           "07",
           0
          ],
          [
           "17",
           "08",
           0
          ],
          [
           "17",
           "09",
           0
          ],
          [
           "17",
           "10",
           0
          ],
          [
           "17",
           "11",
           0
          ],
          [
           "17",
           "12",
           0
          ]
         ],
         "hoverinfo": "none",
         "hovertemplate": [
          "Year: 10<br>Month: 01<br>Murders: 5",
          "Year: 10<br>Month: 02<br>Murders: 1",
          "Year: 10<br>Month: 03<br>Murders: 2",
          "Year: 10<br>Month: 04<br>Murders: 1",
          "Year: 10<br>Month: 05<br>Murders: 2",
          "Year: 10<br>Month: 06<br>Murders: 2",
          "Year: 10<br>Month: 07<br>Murders: 4",
          "",
          "Year: 10<br>Month: 09<br>Murders: 4",
          "Year: 10<br>Month: 10<br>Murders: 6",
          "Year: 10<br>Month: 11<br>Murders: 5",
          "Year: 10<br>Month: 12<br>Murders: 6",
          "Year: 11<br>Month: 01<br>Murders: 3",
          "Year: 11<br>Month: 02<br>Murders: 3",
          "Year: 11<br>Month: 03<br>Murders: 3",
          "Year: 11<br>Month: 04<br>Murders: 4",
          "Year: 11<br>Month: 05<br>Murders: 7",
          "Year: 11<br>Month: 06<br>Murders: 3",
          "Year: 11<br>Month: 07<br>Murders: 2",
          "Year: 11<br>Month: 08<br>Murders: 8",
          "Year: 11<br>Month: 09<br>Murders: 4",
          "Year: 11<br>Month: 10<br>Murders: 3",
          "Year: 11<br>Month: 11<br>Murders: 1",
          "Year: 11<br>Month: 12<br>Murders: 2",
          "Year: 12<br>Month: 01<br>Murders: 1",
          "Year: 12<br>Month: 02<br>Murders: 3",
          "Year: 12<br>Month: 03<br>Murders: 5",
          "Year: 12<br>Month: 04<br>Murders: 4",
          "Year: 12<br>Month: 05<br>Murders: 4",
          "Year: 12<br>Month: 06<br>Murders: 4",
          "Year: 12<br>Month: 07<br>Murders: 2",
          "Year: 12<br>Month: 08<br>Murders: 3",
          "Year: 12<br>Month: 09<br>Murders: 1",
          "Year: 12<br>Month: 10<br>Murders: 9",
          "Year: 12<br>Month: 11<br>Murders: 3",
          "Year: 12<br>Month: 12<br>Murders: 1",
          "Year: 13<br>Month: 01<br>Murders: 4",
          "Year: 13<br>Month: 02<br>Murders: 5",
          "Year: 13<br>Month: 03<br>Murders: 3",
          "Year: 13<br>Month: 04<br>Murders: 5",
          "Year: 13<br>Month: 05<br>Murders: 2",
          "Year: 13<br>Month: 06<br>Murders: 2",
          "Year: 13<br>Month: 07<br>Murders: 4",
          "Year: 13<br>Month: 08<br>Murders: 5",
          "Year: 13<br>Month: 09<br>Murders: 3",
          "Year: 13<br>Month: 10<br>Murders: 4",
          "Year: 13<br>Month: 11<br>Murders: 2",
          "Year: 13<br>Month: 12<br>Murders: 3",
          "Year: 14<br>Month: 01<br>Murders: 2",
          "Year: 14<br>Month: 02<br>Murders: 1",
          "Year: 14<br>Month: 03<br>Murders: 5",
          "Year: 14<br>Month: 04<br>Murders: 1",
          "Year: 14<br>Month: 05<br>Murders: 2",
          "Year: 14<br>Month: 06<br>Murders: 2",
          "Year: 14<br>Month: 07<br>Murders: 3",
          "Year: 14<br>Month: 08<br>Murders: 5",
          "Year: 14<br>Month: 09<br>Murders: 1",
          "Year: 14<br>Month: 10<br>Murders: 4",
          "Year: 14<br>Month: 11<br>Murders: 3",
          "Year: 14<br>Month: 12<br>Murders: 2",
          "Year: 15<br>Month: 01<br>Murders: 5",
          "Year: 15<br>Month: 02<br>Murders: 3",
          "Year: 15<br>Month: 03<br>Murders: 5",
          "Year: 15<br>Month: 04<br>Murders: 5",
          "Year: 15<br>Month: 05<br>Murders: 2",
          "Year: 15<br>Month: 06<br>Murders: 1",
          "Year: 15<br>Month: 07<br>Murders: 7",
          "Year: 15<br>Month: 08<br>Murders: 5",
          "Year: 15<br>Month: 09<br>Murders: 7",
          "Year: 15<br>Month: 10<br>Murders: 3",
          "Year: 15<br>Month: 11<br>Murders: 8",
          "Year: 15<br>Month: 12<br>Murders: 2",
          "Year: 16<br>Month: 01<br>Murders: 3",
          "Year: 16<br>Month: 02<br>Murders: 2",
          "Year: 16<br>Month: 03<br>Murders: 3",
          "Year: 16<br>Month: 04<br>Murders: 5",
          "Year: 16<br>Month: 05<br>Murders: 1",
          "Year: 16<br>Month: 06<br>Murders: 5",
          "Year: 16<br>Month: 07<br>Murders: 9",
          "Year: 16<br>Month: 08<br>Murders: 3",
          "Year: 16<br>Month: 09<br>Murders: 3",
          "Year: 16<br>Month: 10<br>Murders: 12",
          "Year: 16<br>Month: 11<br>Murders: 10",
          "Year: 16<br>Month: 12<br>Murders: 1",
          "Year: 17<br>Month: 01<br>Murders: 5",
          "Year: 17<br>Month: 02<br>Murders: 3",
          "",
          "",
          "",
          "",
          "",
          "",
          "",
          "",
          "",
          ""
         ],
         "legendgroup": "",
         "marker": {
          "color": [
           5,
           1,
           2,
           1,
           2,
           2,
           4,
           0,
           4,
           6,
           5,
           6,
           3,
           3,
           3,
           4,
           7,
           3,
           2,
           8,
           4,
           3,
           1,
           2,
           1,
           3,
           5,
           4,
           4,
           4,
           2,
           3,
           1,
           9,
           3,
           1,
           4,
           5,
           3,
           5,
           2,
           2,
           4,
           5,
           3,
           4,
           2,
           3,
           2,
           1,
           5,
           1,
           2,
           2,
           3,
           5,
           1,
           4,
           3,
           2,
           5,
           3,
           5,
           5,
           2,
           1,
           7,
           5,
           7,
           3,
           8,
           2,
           3,
           2,
           3,
           5,
           1,
           5,
           9,
           3,
           3,
           12,
           10,
           1,
           5,
           3,
           0,
           0,
           0,
           0,
           0,
           0,
           0,
           0,
           0,
           0
          ],
          "coloraxis": "coloraxis",
          "pattern": {
           "shape": ""
          }
         },
         "name": "",
         "r": [
          1,
          1,
          1,
          1,
          1,
          1,
          1,
          1,
          1,
          1,
          1,
          1,
          1,
          1,
          1,
          1,
          1,
          1,
          1,
          1,
          1,
          1,
          1,
          1,
          1,
          1,
          1,
          1,
          1,
          1,
          1,
          1,
          1,
          1,
          1,
          1,
          1,
          1,
          1,
          1,
          1,
          1,
          1,
          1,
          1,
          1,
          1,
          1,
          1,
          1,
          1,
          1,
          1,
          1,
          1,
          1,
          1,
          1,
          1,
          1,
          1,
          1,
          1,
          1,
          1,
          1,
          1,
          1,
          1,
          1,
          1,
          1,
          1,
          1,
          1,
          1,
          1,
          1,
          1,
          1,
          1,
          1,
          1,
          1,
          1,
          1,
          1,
          1,
          1,
          1,
          1,
          1,
          1,
          1,
          1,
          1
         ],
         "showlegend": false,
         "subplot": "polar",
         "theta": [
          "01",
          "02",
          "03",
          "04",
          "05",
          "06",
          "07",
          "08",
          "09",
          "10",
          "11",
          "12",
          "01",
          "02",
          "03",
          "04",
          "05",
          "06",
          "07",
          "08",
          "09",
          "10",
          "11",
          "12",
          "01",
          "02",
          "03",
          "04",
          "05",
          "06",
          "07",
          "08",
          "09",
          "10",
          "11",
          "12",
          "01",
          "02",
          "03",
          "04",
          "05",
          "06",
          "07",
          "08",
          "09",
          "10",
          "11",
          "12",
          "01",
          "02",
          "03",
          "04",
          "05",
          "06",
          "07",
          "08",
          "09",
          "10",
          "11",
          "12",
          "01",
          "02",
          "03",
          "04",
          "05",
          "06",
          "07",
          "08",
          "09",
          "10",
          "11",
          "12",
          "01",
          "02",
          "03",
          "04",
          "05",
          "06",
          "07",
          "08",
          "09",
          "10",
          "11",
          "12",
          "01",
          "02",
          "03",
          "04",
          "05",
          "06",
          "07",
          "08",
          "09",
          "10",
          "11",
          "12"
         ],
         "type": "barpolar"
        }
       ],
       "layout": {
        "autosize": true,
        "barmode": "relative",
        "coloraxis": {
         "cmax": 12,
         "cmin": 1,
         "colorbar": {
          "title": {
           "text": "num_murders_year_month"
          }
         },
         "colorscale": [
          [
           0,
           "rgba(0,0,0,0)"
          ],
          [
           0,
           "#f0f921"
          ],
          [
           0.08333333333333333,
           "#fca636"
          ],
          [
           0.16666666666666666,
           "#e16462"
          ],
          [
           0.25,
           "#b12a90"
          ],
          [
           0.4166666666666667,
           "#6a00a8"
          ],
          [
           1,
           "#0d0887"
          ]
         ]
        },
        "legend": {
         "tracegroupgap": 0
        },
        "margin": {
         "t": 60
        },
        "polar": {
         "angularaxis": {
          "categoryarray": [
           "01",
           "02",
           "03",
           "04",
           "05",
           "06",
           "07",
           "08",
           "09",
           "10",
           "11",
           "12"
          ],
          "categoryorder": "array",
          "direction": "counterclockwise",
          "rotation": 90
         },
         "domain": {
          "x": [
           0,
           1
          ],
          "y": [
           0,
           1
          ]
         },
         "hole": 0.25,
         "radialaxis": {
          "linewidth": 0,
          "showticklabels": false,
          "ticks": ""
         }
        },
        "template": {
         "data": {
          "bar": [
           {
            "error_x": {
             "color": "#2a3f5f"
            },
            "error_y": {
             "color": "#2a3f5f"
            },
            "marker": {
             "line": {
              "color": "#E5ECF6",
              "width": 0.5
             },
             "pattern": {
              "fillmode": "overlay",
              "size": 10,
              "solidity": 0.2
             }
            },
            "type": "bar"
           }
          ],
          "barpolar": [
           {
            "marker": {
             "line": {
              "color": "#E5ECF6",
              "width": 0.5
             },
             "pattern": {
              "fillmode": "overlay",
              "size": 10,
              "solidity": 0.2
             }
            },
            "type": "barpolar"
           }
          ],
          "carpet": [
           {
            "aaxis": {
             "endlinecolor": "#2a3f5f",
             "gridcolor": "white",
             "linecolor": "white",
             "minorgridcolor": "white",
             "startlinecolor": "#2a3f5f"
            },
            "baxis": {
             "endlinecolor": "#2a3f5f",
             "gridcolor": "white",
             "linecolor": "white",
             "minorgridcolor": "white",
             "startlinecolor": "#2a3f5f"
            },
            "type": "carpet"
           }
          ],
          "choropleth": [
           {
            "colorbar": {
             "outlinewidth": 0,
             "ticks": ""
            },
            "type": "choropleth"
           }
          ],
          "contour": [
           {
            "colorbar": {
             "outlinewidth": 0,
             "ticks": ""
            },
            "colorscale": [
             [
              0,
              "#0d0887"
             ],
             [
              0.1111111111111111,
              "#46039f"
             ],
             [
              0.2222222222222222,
              "#7201a8"
             ],
             [
              0.3333333333333333,
              "#9c179e"
             ],
             [
              0.4444444444444444,
              "#bd3786"
             ],
             [
              0.5555555555555556,
              "#d8576b"
             ],
             [
              0.6666666666666666,
              "#ed7953"
             ],
             [
              0.7777777777777778,
              "#fb9f3a"
             ],
             [
              0.8888888888888888,
              "#fdca26"
             ],
             [
              1,
              "#f0f921"
             ]
            ],
            "type": "contour"
           }
          ],
          "contourcarpet": [
           {
            "colorbar": {
             "outlinewidth": 0,
             "ticks": ""
            },
            "type": "contourcarpet"
           }
          ],
          "heatmap": [
           {
            "colorbar": {
             "outlinewidth": 0,
             "ticks": ""
            },
            "colorscale": [
             [
              0,
              "#0d0887"
             ],
             [
              0.1111111111111111,
              "#46039f"
             ],
             [
              0.2222222222222222,
              "#7201a8"
             ],
             [
              0.3333333333333333,
              "#9c179e"
             ],
             [
              0.4444444444444444,
              "#bd3786"
             ],
             [
              0.5555555555555556,
              "#d8576b"
             ],
             [
              0.6666666666666666,
              "#ed7953"
             ],
             [
              0.7777777777777778,
              "#fb9f3a"
             ],
             [
              0.8888888888888888,
              "#fdca26"
             ],
             [
              1,
              "#f0f921"
             ]
            ],
            "type": "heatmap"
           }
          ],
          "heatmapgl": [
           {
            "colorbar": {
             "outlinewidth": 0,
             "ticks": ""
            },
            "colorscale": [
             [
              0,
              "#0d0887"
             ],
             [
              0.1111111111111111,
              "#46039f"
             ],
             [
              0.2222222222222222,
              "#7201a8"
             ],
             [
              0.3333333333333333,
              "#9c179e"
             ],
             [
              0.4444444444444444,
              "#bd3786"
             ],
             [
              0.5555555555555556,
              "#d8576b"
             ],
             [
              0.6666666666666666,
              "#ed7953"
             ],
             [
              0.7777777777777778,
              "#fb9f3a"
             ],
             [
              0.8888888888888888,
              "#fdca26"
             ],
             [
              1,
              "#f0f921"
             ]
            ],
            "type": "heatmapgl"
           }
          ],
          "histogram": [
           {
            "marker": {
             "pattern": {
              "fillmode": "overlay",
              "size": 10,
              "solidity": 0.2
             }
            },
            "type": "histogram"
           }
          ],
          "histogram2d": [
           {
            "colorbar": {
             "outlinewidth": 0,
             "ticks": ""
            },
            "colorscale": [
             [
              0,
              "#0d0887"
             ],
             [
              0.1111111111111111,
              "#46039f"
             ],
             [
              0.2222222222222222,
              "#7201a8"
             ],
             [
              0.3333333333333333,
              "#9c179e"
             ],
             [
              0.4444444444444444,
              "#bd3786"
             ],
             [
              0.5555555555555556,
              "#d8576b"
             ],
             [
              0.6666666666666666,
              "#ed7953"
             ],
             [
              0.7777777777777778,
              "#fb9f3a"
             ],
             [
              0.8888888888888888,
              "#fdca26"
             ],
             [
              1,
              "#f0f921"
             ]
            ],
            "type": "histogram2d"
           }
          ],
          "histogram2dcontour": [
           {
            "colorbar": {
             "outlinewidth": 0,
             "ticks": ""
            },
            "colorscale": [
             [
              0,
              "#0d0887"
             ],
             [
              0.1111111111111111,
              "#46039f"
             ],
             [
              0.2222222222222222,
              "#7201a8"
             ],
             [
              0.3333333333333333,
              "#9c179e"
             ],
             [
              0.4444444444444444,
              "#bd3786"
             ],
             [
              0.5555555555555556,
              "#d8576b"
             ],
             [
              0.6666666666666666,
              "#ed7953"
             ],
             [
              0.7777777777777778,
              "#fb9f3a"
             ],
             [
              0.8888888888888888,
              "#fdca26"
             ],
             [
              1,
              "#f0f921"
             ]
            ],
            "type": "histogram2dcontour"
           }
          ],
          "mesh3d": [
           {
            "colorbar": {
             "outlinewidth": 0,
             "ticks": ""
            },
            "type": "mesh3d"
           }
          ],
          "parcoords": [
           {
            "line": {
             "colorbar": {
              "outlinewidth": 0,
              "ticks": ""
             }
            },
            "type": "parcoords"
           }
          ],
          "pie": [
           {
            "automargin": true,
            "type": "pie"
           }
          ],
          "scatter": [
           {
            "fillpattern": {
             "fillmode": "overlay",
             "size": 10,
             "solidity": 0.2
            },
            "type": "scatter"
           }
          ],
          "scatter3d": [
           {
            "line": {
             "colorbar": {
              "outlinewidth": 0,
              "ticks": ""
             }
            },
            "marker": {
             "colorbar": {
              "outlinewidth": 0,
              "ticks": ""
             }
            },
            "type": "scatter3d"
           }
          ],
          "scattercarpet": [
           {
            "marker": {
             "colorbar": {
              "outlinewidth": 0,
              "ticks": ""
             }
            },
            "type": "scattercarpet"
           }
          ],
          "scattergeo": [
           {
            "marker": {
             "colorbar": {
              "outlinewidth": 0,
              "ticks": ""
             }
            },
            "type": "scattergeo"
           }
          ],
          "scattergl": [
           {
            "marker": {
             "colorbar": {
              "outlinewidth": 0,
              "ticks": ""
             }
            },
            "type": "scattergl"
           }
          ],
          "scattermapbox": [
           {
            "marker": {
             "colorbar": {
              "outlinewidth": 0,
              "ticks": ""
             }
            },
            "type": "scattermapbox"
           }
          ],
          "scatterpolar": [
           {
            "marker": {
             "colorbar": {
              "outlinewidth": 0,
              "ticks": ""
             }
            },
            "type": "scatterpolar"
           }
          ],
          "scatterpolargl": [
           {
            "marker": {
             "colorbar": {
              "outlinewidth": 0,
              "ticks": ""
             }
            },
            "type": "scatterpolargl"
           }
          ],
          "scatterternary": [
           {
            "marker": {
             "colorbar": {
              "outlinewidth": 0,
              "ticks": ""
             }
            },
            "type": "scatterternary"
           }
          ],
          "surface": [
           {
            "colorbar": {
             "outlinewidth": 0,
             "ticks": ""
            },
            "colorscale": [
             [
              0,
              "#0d0887"
             ],
             [
              0.1111111111111111,
              "#46039f"
             ],
             [
              0.2222222222222222,
              "#7201a8"
             ],
             [
              0.3333333333333333,
              "#9c179e"
             ],
             [
              0.4444444444444444,
              "#bd3786"
             ],
             [
              0.5555555555555556,
              "#d8576b"
             ],
             [
              0.6666666666666666,
              "#ed7953"
             ],
             [
              0.7777777777777778,
              "#fb9f3a"
             ],
             [
              0.8888888888888888,
              "#fdca26"
             ],
             [
              1,
              "#f0f921"
             ]
            ],
            "type": "surface"
           }
          ],
          "table": [
           {
            "cells": {
             "fill": {
              "color": "#EBF0F8"
             },
             "line": {
              "color": "white"
             }
            },
            "header": {
             "fill": {
              "color": "#C8D4E3"
             },
             "line": {
              "color": "white"
             }
            },
            "type": "table"
           }
          ]
         },
         "layout": {
          "annotationdefaults": {
           "arrowcolor": "#2a3f5f",
           "arrowhead": 0,
           "arrowwidth": 1
          },
          "autotypenumbers": "strict",
          "coloraxis": {
           "colorbar": {
            "outlinewidth": 0,
            "ticks": ""
           }
          },
          "colorscale": {
           "diverging": [
            [
             0,
             "#8e0152"
            ],
            [
             0.1,
             "#c51b7d"
            ],
            [
             0.2,
             "#de77ae"
            ],
            [
             0.3,
             "#f1b6da"
            ],
            [
             0.4,
             "#fde0ef"
            ],
            [
             0.5,
             "#f7f7f7"
            ],
            [
             0.6,
             "#e6f5d0"
            ],
            [
             0.7,
             "#b8e186"
            ],
            [
             0.8,
             "#7fbc41"
            ],
            [
             0.9,
             "#4d9221"
            ],
            [
             1,
             "#276419"
            ]
           ],
           "sequential": [
            [
             0,
             "#0d0887"
            ],
            [
             0.1111111111111111,
             "#46039f"
            ],
            [
             0.2222222222222222,
             "#7201a8"
            ],
            [
             0.3333333333333333,
             "#9c179e"
            ],
            [
             0.4444444444444444,
             "#bd3786"
            ],
            [
             0.5555555555555556,
             "#d8576b"
            ],
            [
             0.6666666666666666,
             "#ed7953"
            ],
            [
             0.7777777777777778,
             "#fb9f3a"
            ],
            [
             0.8888888888888888,
             "#fdca26"
            ],
            [
             1,
             "#f0f921"
            ]
           ],
           "sequentialminus": [
            [
             0,
             "#0d0887"
            ],
            [
             0.1111111111111111,
             "#46039f"
            ],
            [
             0.2222222222222222,
             "#7201a8"
            ],
            [
             0.3333333333333333,
             "#9c179e"
            ],
            [
             0.4444444444444444,
             "#bd3786"
            ],
            [
             0.5555555555555556,
             "#d8576b"
            ],
            [
             0.6666666666666666,
             "#ed7953"
            ],
            [
             0.7777777777777778,
             "#fb9f3a"
            ],
            [
             0.8888888888888888,
             "#fdca26"
            ],
            [
             1,
             "#f0f921"
            ]
           ]
          },
          "colorway": [
           "#636efa",
           "#EF553B",
           "#00cc96",
           "#ab63fa",
           "#FFA15A",
           "#19d3f3",
           "#FF6692",
           "#B6E880",
           "#FF97FF",
           "#FECB52"
          ],
          "font": {
           "color": "#2a3f5f"
          },
          "geo": {
           "bgcolor": "white",
           "lakecolor": "white",
           "landcolor": "#E5ECF6",
           "showlakes": true,
           "showland": true,
           "subunitcolor": "white"
          },
          "hoverlabel": {
           "align": "left"
          },
          "hovermode": "closest",
          "mapbox": {
           "style": "light"
          },
          "paper_bgcolor": "white",
          "plot_bgcolor": "#E5ECF6",
          "polar": {
           "angularaxis": {
            "gridcolor": "white",
            "linecolor": "white",
            "ticks": ""
           },
           "bgcolor": "#E5ECF6",
           "radialaxis": {
            "gridcolor": "white",
            "linecolor": "white",
            "ticks": ""
           }
          },
          "scene": {
           "xaxis": {
            "backgroundcolor": "#E5ECF6",
            "gridcolor": "white",
            "gridwidth": 2,
            "linecolor": "white",
            "showbackground": true,
            "ticks": "",
            "zerolinecolor": "white"
           },
           "yaxis": {
            "backgroundcolor": "#E5ECF6",
            "gridcolor": "white",
            "gridwidth": 2,
            "linecolor": "white",
            "showbackground": true,
            "ticks": "",
            "zerolinecolor": "white"
           },
           "zaxis": {
            "backgroundcolor": "#E5ECF6",
            "gridcolor": "white",
            "gridwidth": 2,
            "linecolor": "white",
            "showbackground": true,
            "ticks": "",
            "zerolinecolor": "white"
           }
          },
          "shapedefaults": {
           "line": {
            "color": "#2a3f5f"
           }
          },
          "ternary": {
           "aaxis": {
            "gridcolor": "white",
            "linecolor": "white",
            "ticks": ""
           },
           "baxis": {
            "gridcolor": "white",
            "linecolor": "white",
            "ticks": ""
           },
           "bgcolor": "#E5ECF6",
           "caxis": {
            "gridcolor": "white",
            "linecolor": "white",
            "ticks": ""
           }
          },
          "title": {
           "x": 0.05
          },
          "xaxis": {
           "automargin": true,
           "gridcolor": "white",
           "linecolor": "white",
           "ticks": "",
           "title": {
            "standoff": 15
           },
           "zerolinecolor": "white",
           "zerolinewidth": 2
          },
          "yaxis": {
           "automargin": true,
           "gridcolor": "white",
           "linecolor": "white",
           "ticks": "",
           "title": {
            "standoff": 15
           },
           "zerolinecolor": "white",
           "zerolinewidth": 2
          }
         }
        }
       }
      }
     },
     "metadata": {},
     "output_type": "display_data"
    }
   ],
   "source": [
    "fig, df_out = make_spiral_plot2(filter_df('Denver', 'all', 'all'))\n",
    "fig"
   ]
  }
 ],
 "metadata": {
  "kernelspec": {
   "display_name": ".venv",
   "language": "python",
   "name": "python3"
  },
  "language_info": {
   "codemirror_mode": {
    "name": "ipython",
    "version": 3
   },
   "file_extension": ".py",
   "mimetype": "text/x-python",
   "name": "python",
   "nbconvert_exporter": "python",
   "pygments_lexer": "ipython3",
   "version": "3.11.5"
  }
 },
 "nbformat": 4,
 "nbformat_minor": 2
}
