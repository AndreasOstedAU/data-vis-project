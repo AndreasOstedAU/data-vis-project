{
 "cells": [
  {
   "cell_type": "code",
   "execution_count": 9,
   "metadata": {},
   "outputs": [],
   "source": [
    "import numpy as np\n",
    "import pandas as pd\n",
    "import plotly.graph_objects as go\n",
    "import dash\n",
    "from dash import dcc, html\n",
    "from dash.dependencies import Input, Output\n",
    "import plotly.graph_objects as go"
   ]
  },
  {
   "cell_type": "code",
   "execution_count": null,
   "metadata": {},
   "outputs": [],
   "source": [
    "df = pd.read_csv('Data/homicide_data.csv')"
   ]
  },
  {
   "cell_type": "code",
   "execution_count": 52,
   "metadata": {},
   "outputs": [
    {
     "data": {
      "text/html": [
       "\n",
       "        <iframe\n",
       "            width=\"100%\"\n",
       "            height=\"650\"\n",
       "            src=\"http://127.0.0.1:8050/\"\n",
       "            frameborder=\"0\"\n",
       "            allowfullscreen\n",
       "            \n",
       "        ></iframe>\n",
       "        "
      ],
      "text/plain": [
       "<IPython.lib.display.IFrame at 0x1e9e19c6990>"
      ]
     },
     "metadata": {},
     "output_type": "display_data"
    }
   ],
   "source": [
    "def make_map(state):\n",
    "    filtered_df = df[df['state'] == state]\n",
    "\n",
    "    fig = go.Figure(data=go.Scattergeo(\n",
    "        lon = filtered_df['lon'],\n",
    "        lat = filtered_df['lat'],\n",
    "        text = filtered_df['victim_last'],\n",
    "        mode = 'markers'\n",
    "    ))\n",
    "\n",
    "    fig.update_layout(\n",
    "        title = f'Murders in {state}',\n",
    "        geo_scope='usa',\n",
    "    )\n",
    "    \n",
    "    return fig\n",
    "\n",
    "# Create the Dash app\n",
    "app = dash.Dash(__name__)\n",
    "\n",
    "# Define layout\n",
    "app.layout = html.Div([\n",
    "    dcc.Dropdown(\n",
    "        id='state-dropdown',\n",
    "        options=[\n",
    "            {'label': state, 'value': state} for state in df['state'].unique()\n",
    "        ],\n",
    "        value=df['state'].unique()[0],  # Set the default value\n",
    "    ),\n",
    "    dcc.Graph(id='murder-map')\n",
    "])\n",
    "\n",
    "# Define callback to update the map when dropdown selection changes\n",
    "@app.callback(\n",
    "    Output('murder-map', 'figure'),\n",
    "    [Input('state-dropdown', 'value')]\n",
    ")\n",
    "def update_map(selected_state):\n",
    "    fig = make_map(selected_state)\n",
    "    return fig\n",
    "\n",
    "if __name__ == '__main__':\n",
    "    app.run_server(debug=True)\n"
   ]
  }
 ],
 "metadata": {
  "kernelspec": {
   "display_name": ".venv",
   "language": "python",
   "name": "python3"
  },
  "language_info": {
   "codemirror_mode": {
    "name": "ipython",
    "version": 3
   },
   "file_extension": ".py",
   "mimetype": "text/x-python",
   "name": "python",
   "nbconvert_exporter": "python",
   "pygments_lexer": "ipython3",
   "version": "3.11.5"
  },
  "orig_nbformat": 4
 },
 "nbformat": 4,
 "nbformat_minor": 2
}
