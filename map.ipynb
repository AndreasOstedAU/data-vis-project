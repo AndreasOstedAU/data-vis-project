{
 "cells": [
  {
   "cell_type": "code",
   "execution_count": 2,
   "metadata": {},
   "outputs": [],
   "source": [
    "import numpy as np\n",
    "import pandas as pd\n",
    "import plotly.graph_objects as go\n",
    "import dash\n",
    "from dash import dcc, html, Dash\n",
    "from dash.dependencies import Input, Output\n",
    "import plotly.graph_objects as go\n",
    "import plotly.express as px\n",
    "\n",
    "mapbox_token = 'pk.eyJ1IjoiYW5kcmVhc29zdGVkIiwiYSI6ImNsbmJxMjFndDA4dm8ybXJrMzhia2NqdnoifQ.fXDNIJ1LelhA1ypNiaJE9w'\n",
    "\n",
    "df = pd.read_csv('Data/homicide_data.csv')\n",
    "df['victim_full_name'] = df['victim_first'] +  ' ' + df['victim_last']\n",
    "\n",
    "df = df.sort_values('state')"
   ]
  },
  {
   "cell_type": "code",
   "execution_count": 3,
   "metadata": {},
   "outputs": [],
   "source": [
    "df = pd.read_csv('Data/homicide_data.csv')\n",
    "df['victim_full_name'] = df['victim_first'] +  ' ' + df['victim_last']\n",
    "\n",
    "df = df.sort_values('city')"
   ]
  },
  {
   "cell_type": "code",
   "execution_count": 4,
   "metadata": {},
   "outputs": [
    {
     "data": {
      "text/plain": [
       "(-77.095084, -76.9119737)"
      ]
     },
     "execution_count": 4,
     "metadata": {},
     "output_type": "execute_result"
    }
   ],
   "source": [
    "filtered_df = df[df['state'] == 'DC']\n",
    "np.min(filtered_df.lon), np.max(filtered_df.lon)"
   ]
  },
  {
   "cell_type": "code",
   "execution_count": 16,
   "metadata": {},
   "outputs": [
    {
     "data": {
      "text/html": [
       "\n",
       "        <iframe\n",
       "            width=\"100%\"\n",
       "            height=\"650\"\n",
       "            src=\"http://127.0.0.1:8050/\"\n",
       "            frameborder=\"0\"\n",
       "            allowfullscreen\n",
       "            \n",
       "        ></iframe>\n",
       "        "
      ],
      "text/plain": [
       "<IPython.lib.display.IFrame at 0x1f733cec090>"
      ]
     },
     "metadata": {},
     "output_type": "display_data"
    }
   ],
   "source": [
    "def make_map(city):\n",
    "    if city == 'all cities':\n",
    "        filtered_df = df\n",
    "    else: \n",
    "        filtered_df = df[df['city'] == city]\n",
    "  \n",
    "    fig = px.scatter_mapbox(\n",
    "        filtered_df,\n",
    "        lat=\"lat\",\n",
    "        lon=\"lon\",\n",
    "        hover_name=\"victim_full_name\",\n",
    "        hover_data=[\"victim_race\", \"victim_age\", \"victim_sex\"],\n",
    "        color = \"disposition\",\n",
    "        height=700\n",
    "    )\n",
    "    \n",
    "    if city is not None:\n",
    "        title = f'Murders in {city}'\n",
    "    else:\n",
    "        title = ''\n",
    "\n",
    "    \n",
    "    fig.update_layout(mapbox_style=\"light\", mapbox_accesstoken=mapbox_token, title = title)\n",
    "    fig.update_layout(margin={\"r\": 0, \"l\": 0, \"b\": 0})\n",
    "    fig.update_layout(clickmode='event+select',\n",
    "                      hovermode='closest')\n",
    "\n",
    "\n",
    "    \n",
    "    return fig\n",
    "\n",
    "app = dash.Dash(__name__)\n",
    "\n",
    "\n",
    "cityoptions=[{'label': 'Select all', 'value': 'all cities'}]+[{'label': city, 'value': city} for city in sorted(df['city'].unique())]\n",
    "# Define layout\n",
    "app.layout = html.Div([\n",
    "    dcc.Dropdown(\n",
    "        id='state-dropdown',\n",
    "        options=cityoptions,\n",
    "        #value=df['city'].unique()[0],  # Set the default value\n",
    "        value = None,\n",
    "        placeholder = \"Select city\",\n",
    "        style={'width': '200px'}\n",
    "    ),\n",
    "    dcc.Graph(id='murder-map')\n",
    "])\n",
    "\n",
    "# Define callback to update the map when dropdown selection changes\n",
    "@app.callback(\n",
    "    Output('murder-map', 'figure'),\n",
    "    [Input('state-dropdown', 'value')]\n",
    ")\n",
    "def update_map(selected_state):\n",
    "    fig = make_map(selected_state)\n",
    "    return fig\n",
    "\n",
    "if __name__ == '__main__':\n",
    "    app.run_server(debug=True)\n",
    "\n"
   ]
  },
  {
   "cell_type": "code",
   "execution_count": null,
   "metadata": {},
   "outputs": [],
   "source": []
  }
 ],
 "metadata": {
  "kernelspec": {
   "display_name": ".venv",
   "language": "python",
   "name": "python3"
  },
  "language_info": {
   "codemirror_mode": {
    "name": "ipython",
    "version": 3
   },
   "file_extension": ".py",
   "mimetype": "text/x-python",
   "name": "python",
   "nbconvert_exporter": "python",
   "pygments_lexer": "ipython3",
   "version": "3.11.5"
  },
  "orig_nbformat": 4
 },
 "nbformat": 4,
 "nbformat_minor": 2
}
