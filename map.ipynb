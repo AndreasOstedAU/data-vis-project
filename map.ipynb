{
 "cells": [
  {
   "cell_type": "code",
   "execution_count": 49,
   "metadata": {},
   "outputs": [],
   "source": [
    "import numpy as np\n",
    "import pandas as pd\n",
    "import plotly.graph_objects as go\n",
    "import dash\n",
    "from dash import dcc, html, Dash\n",
    "from dash.dependencies import Input, Output\n",
    "import plotly.graph_objects as go\n",
    "import plotly.express as px\n",
    "\n",
    "mapbox_token = 'pk.eyJ1IjoiYW5kcmVhc29zdGVkIiwiYSI6ImNsbmJxMjFndDA4dm8ybXJrMzhia2NqdnoifQ.fXDNIJ1LelhA1ypNiaJE9w'\n",
    "\n",
    "df = pd.read_csv('Data/homicide_data.csv')\n",
    "df['victim_full_name'] = df['victim_first'] +  ' ' + df['victim_last']\n",
    "\n",
    "df = df.sort_values('state')"
   ]
  },
  {
   "cell_type": "code",
   "execution_count": 50,
   "metadata": {},
   "outputs": [],
   "source": [
    "df = pd.read_csv('Data/homicide_data.csv')\n",
    "df['victim_full_name'] = df['victim_first'] +  ' ' + df['victim_last']\n",
    "\n",
    "df = df.sort_values('city')"
   ]
  },
  {
   "cell_type": "code",
   "execution_count": 51,
   "metadata": {},
   "outputs": [
    {
     "data": {
      "text/plain": [
       "(-77.095084, -76.9119737)"
      ]
     },
     "execution_count": 51,
     "metadata": {},
     "output_type": "execute_result"
    }
   ],
   "source": [
    "filtered_df = df[df['state'] == 'DC']\n",
    "np.min(filtered_df.lon), np.max(filtered_df.lon)"
   ]
  },
  {
   "cell_type": "code",
   "execution_count": 52,
   "metadata": {},
   "outputs": [
    {
     "data": {
      "text/html": [
       "\n",
       "        <iframe\n",
       "            width=\"100%\"\n",
       "            height=\"650\"\n",
       "            src=\"http://127.0.0.1:8050/\"\n",
       "            frameborder=\"0\"\n",
       "            allowfullscreen\n",
       "            \n",
       "        ></iframe>\n",
       "        "
      ],
      "text/plain": [
       "<IPython.lib.display.IFrame at 0x1c535c234d0>"
      ]
     },
     "metadata": {},
     "output_type": "display_data"
    },
    {
     "name": "stdout",
     "output_type": "stream",
     "text": [
      "[{'curveNumber': 0, 'pointNumber': 41, 'pointIndex': 41, 'lon': -106.614901, 'lat': 35.1194254, 'hovertext': 'ANNA VIGIL', 'customdata': ['White', '27', 'Female']}, {'curveNumber': 0, 'pointNumber': 48, 'pointIndex': 48, 'lon': -106.6230949, 'lat': 35.1119559, 'hovertext': 'PAUL AYALA', 'customdata': ['Hispanic', '28', 'Male']}, {'curveNumber': 1, 'pointNumber': 24, 'pointIndex': 24, 'lon': -106.6230526, 'lat': 35.1078262, 'hovertext': 'ROY CHAVEZ', 'customdata': ['Unknown', 'Unknown', 'Unknown']}, {'curveNumber': 2, 'pointNumber': 92, 'pointIndex': 92, 'lon': -106.6208873, 'lat': 35.1083875, 'hovertext': 'SAMIR AL ABBOUDY', 'customdata': ['Unknown', '44', 'Unknown']}, {'curveNumber': 2, 'pointNumber': 98, 'pointIndex': 98, 'lon': -106.6220024, 'lat': 35.1150547, 'hovertext': 'LEROY GARCIA', 'customdata': ['Unknown', '21', 'Unknown']}, {'curveNumber': 2, 'pointNumber': 231, 'pointIndex': 231, 'lon': -106.6199663, 'lat': 35.1095199, 'hovertext': 'RAYONO SMITH', 'customdata': ['Other', '55', 'Male']}]\n",
      "[{'curveNumber': 0, 'pointNumber': 12, 'pointIndex': 12, 'lon': -106.5579469, 'lat': 35.1305627, 'hovertext': 'FELIX PHILLIPS', 'customdata': ['Unknown', 'Unknown', 'Unknown']}, {'curveNumber': 0, 'pointNumber': 43, 'pointIndex': 43, 'lon': -106.569255, 'lat': 35.1643789, 'hovertext': 'SHIRLEY ROBSON', 'customdata': ['White', '66', 'Female']}, {'curveNumber': 0, 'pointNumber': 45, 'pointIndex': 45, 'lon': -106.5726602, 'lat': 35.1474078, 'hovertext': 'WALTER RICE', 'customdata': ['Other', '74', 'Male']}, {'curveNumber': 1, 'pointNumber': 74, 'pointIndex': 74, 'lon': -106.537797, 'lat': 35.15111, 'hovertext': 'GERALDINE BOOK', 'customdata': ['White', '91', 'Female']}, {'curveNumber': 1, 'pointNumber': 80, 'pointIndex': 80, 'lon': -106.5630568, 'lat': 35.1617927, 'hovertext': 'NELSON BEDNORZ', 'customdata': ['Hispanic', '20', 'Male']}, {'curveNumber': 2, 'pointNumber': 19, 'pointIndex': 19, 'lon': -106.5452872, 'lat': 35.1488203, 'hovertext': 'LARRY SANCHEZ', 'customdata': ['White', '49', 'Male']}, {'curveNumber': 2, 'pointNumber': 57, 'pointIndex': 57, 'lon': -106.5529925, 'lat': 35.1378128, 'hovertext': 'JOHN SOYKA', 'customdata': ['Unknown', '41', 'Unknown']}, {'curveNumber': 2, 'pointNumber': 199, 'pointIndex': 199, 'lon': -106.5631975, 'lat': 35.1315618, 'hovertext': 'APRIL BRICENO', 'customdata': ['White', '26', 'Female']}]\n",
      "[{'curveNumber': 0, 'pointNumber': 12, 'pointIndex': 12, 'lon': -106.5579469, 'lat': 35.1305627, 'hovertext': 'FELIX PHILLIPS', 'customdata': ['Unknown', 'Unknown', 'Unknown']}, {'curveNumber': 0, 'pointNumber': 43, 'pointIndex': 43, 'lon': -106.569255, 'lat': 35.1643789, 'hovertext': 'SHIRLEY ROBSON', 'customdata': ['White', '66', 'Female']}, {'curveNumber': 0, 'pointNumber': 45, 'pointIndex': 45, 'lon': -106.5726602, 'lat': 35.1474078, 'hovertext': 'WALTER RICE', 'customdata': ['Other', '74', 'Male']}, {'curveNumber': 1, 'pointNumber': 74, 'pointIndex': 74, 'lon': -106.537797, 'lat': 35.15111, 'hovertext': 'GERALDINE BOOK', 'customdata': ['White', '91', 'Female']}, {'curveNumber': 1, 'pointNumber': 80, 'pointIndex': 80, 'lon': -106.5630568, 'lat': 35.1617927, 'hovertext': 'NELSON BEDNORZ', 'customdata': ['Hispanic', '20', 'Male']}, {'curveNumber': 2, 'pointNumber': 19, 'pointIndex': 19, 'lon': -106.5452872, 'lat': 35.1488203, 'hovertext': 'LARRY SANCHEZ', 'customdata': ['White', '49', 'Male']}, {'curveNumber': 2, 'pointNumber': 57, 'pointIndex': 57, 'lon': -106.5529925, 'lat': 35.1378128, 'hovertext': 'JOHN SOYKA', 'customdata': ['Unknown', '41', 'Unknown']}, {'curveNumber': 2, 'pointNumber': 199, 'pointIndex': 199, 'lon': -106.5631975, 'lat': 35.1315618, 'hovertext': 'APRIL BRICENO', 'customdata': ['White', '26', 'Female']}]\n",
      "\u001b[1;31m---------------------------------------------------------------------------\u001b[0m\n",
      "\u001b[1;31mKeyError\u001b[0m                                  Traceback (most recent call last)\n",
      "\u001b[1;31mKeyError\u001b[0m: 0\n",
      "\n",
      "[{'curveNumber': 0, 'pointNumber': 12, 'pointIndex': 12, 'lon': -106.5579469, 'lat': 35.1305627, 'hovertext': 'FELIX PHILLIPS', 'customdata': ['Unknown', 'Unknown', 'Unknown']}, {'curveNumber': 0, 'pointNumber': 43, 'pointIndex': 43, 'lon': -106.569255, 'lat': 35.1643789, 'hovertext': 'SHIRLEY ROBSON', 'customdata': ['White', '66', 'Female']}, {'curveNumber': 0, 'pointNumber': 45, 'pointIndex': 45, 'lon': -106.5726602, 'lat': 35.1474078, 'hovertext': 'WALTER RICE', 'customdata': ['Other', '74', 'Male']}, {'curveNumber': 1, 'pointNumber': 74, 'pointIndex': 74, 'lon': -106.537797, 'lat': 35.15111, 'hovertext': 'GERALDINE BOOK', 'customdata': ['White', '91', 'Female']}, {'curveNumber': 1, 'pointNumber': 80, 'pointIndex': 80, 'lon': -106.5630568, 'lat': 35.1617927, 'hovertext': 'NELSON BEDNORZ', 'customdata': ['Hispanic', '20', 'Male']}, {'curveNumber': 2, 'pointNumber': 19, 'pointIndex': 19, 'lon': -106.5452872, 'lat': 35.1488203, 'hovertext': 'LARRY SANCHEZ', 'customdata': ['White', '49', 'Male']}, {'curveNumber': 2, 'pointNumber': 57, 'pointIndex': 57, 'lon': -106.5529925, 'lat': 35.1378128, 'hovertext': 'JOHN SOYKA', 'customdata': ['Unknown', '41', 'Unknown']}, {'curveNumber': 2, 'pointNumber': 199, 'pointIndex': 199, 'lon': -106.5631975, 'lat': 35.1315618, 'hovertext': 'APRIL BRICENO', 'customdata': ['White', '26', 'Female']}]\n",
      "[{'curveNumber': 0, 'pointNumber': 60, 'pointIndex': 60, 'lon': -83.121885, 'lat': 42.396157, 'hovertext': 'ANTONIO BIZZLE', 'customdata': ['Black', '26', 'Male']}, {'curveNumber': 0, 'pointNumber': 315, 'pointIndex': 315, 'lon': -83.1225731, 'lat': 42.3932828, 'hovertext': 'EDWARD MONYAN', 'customdata': ['Black', '41', 'Male']}, {'curveNumber': 0, 'pointNumber': 652, 'pointIndex': 652, 'lon': -83.1187039, 'lat': 42.393456, 'hovertext': 'RICO DOWTRIN', 'customdata': ['Black', '38', 'Male']}, {'curveNumber': 0, 'pointNumber': 689, 'pointIndex': 689, 'lon': -83.1231059, 'lat': 42.394621, 'hovertext': 'CHRISTOPHER JOHNSON', 'customdata': ['Black', '29', 'Male']}, {'curveNumber': 1, 'pointNumber': 471, 'pointIndex': 471, 'lon': -83.121129, 'lat': 42.391684, 'hovertext': 'FIDEL DAVIS', 'customdata': ['Black', '37', 'Male']}, {'curveNumber': 1, 'pointNumber': 528, 'pointIndex': 528, 'lon': -83.1249276, 'lat': 42.3913488, 'hovertext': 'MARIAH SMITH', 'customdata': ['Black', '5', 'Female']}, {'curveNumber': 1, 'pointNumber': 703, 'pointIndex': 703, 'lon': -83.1209975, 'lat': 42.3951377, 'hovertext': 'ROBERT BEVERLY', 'customdata': ['Black', '17', 'Male']}, {'curveNumber': 1, 'pointNumber': 705, 'pointIndex': 705, 'lon': -83.1209975, 'lat': 42.3951377, 'hovertext': 'DAYLON RANDALL', 'customdata': ['Black', '37', 'Male']}, {'curveNumber': 1, 'pointNumber': 909, 'pointIndex': 909, 'lon': -83.11348, 'lat': 42.3955663, 'hovertext': 'TONY THORPE', 'customdata': ['Black', '24', 'Male']}]\n"
     ]
    }
   ],
   "source": [
    "def make_map(city):\n",
    "    filtered_df = df[df['city'] == city] if city != 'all cities' else df\n",
    "\n",
    "  \n",
    "    fig = px.scatter_mapbox(\n",
    "        filtered_df,\n",
    "        lat=\"lat\",\n",
    "        lon=\"lon\",\n",
    "        hover_name=\"victim_full_name\",\n",
    "        hover_data=[\"victim_race\", \"victim_age\", \"victim_sex\"],\n",
    "        color = \"disposition\",\n",
    "        height=700\n",
    "    )\n",
    "    \n",
    "    title = f'Murders in {city}' if city is not None else ''\n",
    "\n",
    "    \n",
    "    fig.update_layout(mapbox_style=\"light\", \n",
    "                      mapbox_accesstoken=mapbox_token, \n",
    "                      title = title,\n",
    "                      #mapbox_center={\"lat\": center_lat, \"lon\": center_lon},  \n",
    "                      mapbox_zoom = 15,\n",
    "                      autosize = True\n",
    "                      )\n",
    "    \n",
    "    fig.update_layout(margin={\"r\": 0, \"l\": 0, \"b\": 0})\n",
    "    fig.update_layout(clickmode='event+select',\n",
    "                      hovermode='closest')\n",
    "\n",
    "\n",
    "    \n",
    "    return fig\n",
    "\n",
    "app = dash.Dash(__name__)\n",
    "\n",
    "\n",
    "cityoptions=[{'label': 'Select all', 'value': 'all cities'}]+[{'label': city, 'value': city} for city in sorted(df['city'].unique())]\n",
    "# Define layout\n",
    "app.layout = html.Div([\n",
    "    dcc.Dropdown(\n",
    "        id='state-dropdown',\n",
    "        options=cityoptions,\n",
    "        #value=df['city'].unique()[0],  # Set the default value\n",
    "        value = None,\n",
    "        placeholder = \"Select city\",\n",
    "        style={'width': '200px'}\n",
    "    ),\n",
    "    dcc.Graph(id='murder-map')\n",
    "])\n",
    "\n",
    "selected_points = {'Closed without arrest': [], 'Open/No arrest': [], 'Closed by arrest': []}\n",
    "\n",
    "# Define callback to update the map when dropdown selection changes\n",
    "@app.callback(\n",
    "    Output('murder-map', 'figure'),\n",
    "    [Input('state-dropdown', 'value'),\n",
    "     Input('murder-map', 'selectedData')]  \n",
    ")\n",
    "def update_map(selected_city, selected_data):\n",
    "    fig = make_map(selected_city)\n",
    "    \n",
    "\n",
    "    if selected_data:\n",
    "        latitudes = [point['lat'] for point in selected_data['points']]\n",
    "        longitudes = [point['lon'] for point in selected_data['points']]\n",
    "        print(selected_data['points'])\n",
    "        center = {\n",
    "            \"lat\": np.mean(latitudes),\n",
    "            \"lon\": np.mean(longitudes)\n",
    "        }\n",
    "        zoom = 12  # Set your desired zoom level\n",
    "        \n",
    "        fig.update_layout(mapbox_center=center, mapbox_zoom=zoom)\n",
    "\n",
    "        #selected_indices = [point['pointIndex'] for point in selected_data['points']]\n",
    "        selected_points = [(point['pointIndex'], point['curveNumber']) for point in selected_data['points']]\n",
    "        unique_curves = range(len(fig.data))\n",
    "        selected_dict = {c: [] for c in unique_curves}\n",
    "        for p,c in selected_points:\n",
    "            selected_dict[c].append(p)\n",
    "        \n",
    "        for u in unique_curves:\n",
    "            fig.data[u].update(selectedpoints = selected_dict[u])\n",
    "\n",
    "\n",
    "    return fig\n",
    "\n",
    "\n",
    "# Define callback to update the map when dropdown selection changes\n",
    "@app.callback(\n",
    "    Output('murder-map', 'figure', allow_duplicate=True),\n",
    "    [Input('state-dropdown', 'value')], \n",
    "    prevent_initial_call=True\n",
    ")\n",
    "def update_map_on_city_select(selected_state):\n",
    "    fig = make_map(selected_state)\n",
    "    return fig\n",
    "\n",
    "if __name__ == '__main__':\n",
    "    app.run_server(debug=True)\n",
    "\n"
   ]
  },
  {
   "cell_type": "code",
   "execution_count": null,
   "metadata": {},
   "outputs": [],
   "source": []
  }
 ],
 "metadata": {
  "kernelspec": {
   "display_name": ".venv",
   "language": "python",
   "name": "python3"
  },
  "language_info": {
   "codemirror_mode": {
    "name": "ipython",
    "version": 3
   },
   "file_extension": ".py",
   "mimetype": "text/x-python",
   "name": "python",
   "nbconvert_exporter": "python",
   "pygments_lexer": "ipython3",
   "version": "3.11.5"
  },
  "orig_nbformat": 4
 },
 "nbformat": 4,
 "nbformat_minor": 2
}
